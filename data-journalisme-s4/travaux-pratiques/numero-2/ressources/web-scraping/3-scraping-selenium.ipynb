{
 "cells": [
  {
   "cell_type": "code",
   "execution_count": 4,
   "metadata": {},
   "outputs": [
    {
     "name": "stdout",
     "output_type": "stream",
     "text": [
      "User-agent: *\n",
      "Disallow: /biens-vendus?\n",
      "Disallow: /list.htm\n",
      "Disallow: *?*projects=\n",
      "Disallow: /cgi/\n",
      "Disallow: /commons/ajax/functions/TrckngBldr.js\n",
      "Disallow: /prix-de-l-immo/api/*\n",
      "Disallow: /slr_idb/api/*\n",
      "Disallow: /estimation-immobiliere/api/*\n",
      "Disallow: /annoncesbff/2/Agency/HasSoldProperties\n",
      "Disallow: /slf/api/Listings/listing/\n",
      "Disallow: *?idannuaire=*\n",
      "Disallow: */christie/*\n"
     ]
    }
   ],
   "source": [
    "# Pensez à commenter ces lignes après avoir importé beautifulsoup4 et selenium\r\n",
    "# pour éviter que pip vérifie s'il doit importer les bibliothèques à chaque fois\r\n",
    "\r\n",
    "import sys\r\n",
    "# !conda install --yes --prefix {sys.prefix} beautifulsoup4\r\n",
    "# !conda install --yes --prefix {sys.prefix} selenium\r\n",
    "# Plus d'infos ici sur les lignes précédentes\r\n",
    "# https://jakevdp.github.io/blog/2017/12/05/installing-python-packages-from-jupyter/#How-to-use-Conda-from-the-Jupyter-Notebook\r\n",
    "\r\n",
    "\r\n",
    "import pandas as pd\r\n",
    "from bs4 import BeautifulSoup\r\n",
    "from selenium import webdriver\r\n",
    "\r\n",
    "import time\r\n",
    "import random\r\n",
    "\r\n",
    "from webdriver_manager.firefox import GeckoDriverManager\r\n",
    "from selenium.webdriver.firefox.service import Service\r\n"
   ]
  },
  {
   "cell_type": "code",
   "execution_count": 3,
   "metadata": {},
   "outputs": [
    {
     "name": "stderr",
     "output_type": "stream",
     "text": [
      "[WDM] - \n",
      "\n",
      "[WDM] - ====== WebDriver manager ======\n",
      "[WDM] - Current firefox version is 97.0a1\n",
      "[WDM] - Get LATEST driver version for 97.0a1\n",
      "[WDM] - Driver [C:\\Users\\PC\\.wdm\\drivers\\geckodriver\\win64\\v0.30.0\\geckodriver.exe] found in cache\n"
     ]
    }
   ],
   "source": [
    "service = Service(GeckoDriverManager().install())\r\n",
    "\r\n",
    "option = webdriver.FirefoxOptions()\r\n",
    "# Le paramètre --headless indique que le navigateur va tourner en tâche de fond\r\n",
    "option.add_argument('--headless')\r\n",
    "\r\n",
    "driver = webdriver.Firefox(\r\n",
    "    service=service, \r\n",
    "    options=option\r\n",
    ")\r\n",
    "\r\n",
    "list_pages = []\r\n",
    "list_data = []\r\n",
    "\r\n",
    "for page in list_pages:\r\n",
    "    driver.get(page)\r\n",
    "\r\n",
    "    time.sleep(time.sleep(random.randrange(30, 55)))\r\n",
    "\r\n",
    "    html = driver.page_source\r\n",
    "    soup = BeautifulSoup(html)\r\n",
    "\r\n",
    "    # Ici c'est à vous de vous adapter\r\n",
    "\r\n",
    "\r\n",
    "# Il faut arrêter le navigateur après avoir fait nos tâches\r\n",
    "driver.quit()"
   ]
  }
 ],
 "metadata": {
  "interpreter": {
   "hash": "8ed06d07b9ff369db6ed7b53447be18709da67cd911d838d72fee7fecb26667a"
  },
  "kernelspec": {
   "display_name": "Python 3.10.0 64-bit",
   "name": "python3"
  },
  "language_info": {
   "codemirror_mode": {
    "name": "ipython",
    "version": 3
   },
   "file_extension": ".py",
   "mimetype": "text/x-python",
   "name": "python",
   "nbconvert_exporter": "python",
   "pygments_lexer": "ipython3",
   "version": "3.8.5"
  },
  "orig_nbformat": 4
 },
 "nbformat": 4,
 "nbformat_minor": 2
}