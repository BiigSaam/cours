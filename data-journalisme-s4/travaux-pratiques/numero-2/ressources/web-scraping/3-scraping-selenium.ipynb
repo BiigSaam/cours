{
 "cells": [
  {
   "cell_type": "code",
   "execution_count": 17,
   "metadata": {},
   "outputs": [],
   "source": [
    "# Pensez à commenter ces lignes après avoir importé beautifulsoup4 et selenium\r\n",
    "# pour éviter que pip vérifie s'il doit importer les bibliothèques à chaque fois\r\n",
    "\r\n",
    "import sys\r\n",
    "# !conda config --append channels conda-forge\r\n",
    "# !conda install --yes --prefix {sys.prefix} beautifulsoup4\r\n",
    "# !conda install --yes --prefix {sys.prefix} selenium\r\n",
    "# !conda install --yes --prefix {sys.prefix} fake-useragent\r\n",
    "\r\n",
    "# Plus d'infos ici sur les lignes précédentes\r\n",
    "# https://jakevdp.github.io/blog/2017/12/05/installing-python-packages-from-jupyter/#How-to-use-Conda-from-the-Jupyter-Notebook\r\n",
    "\r\n",
    "\r\n",
    "import pandas as pd\r\n",
    "from bs4 import BeautifulSoup\r\n",
    "from selenium import webdriver\r\n",
    "\r\n",
    "import random\r\n",
    "import time\r\n",
    "\r\n",
    "import pandas as pd\r\n",
    "import itertools as it\r\n",
    "\r\n",
    "from fake_useragent import UserAgent\r\n",
    "from webdriver_manager.firefox import GeckoDriverManager\r\n",
    "from selenium.webdriver.firefox.service import Service\r\n"
   ]
  },
  {
   "cell_type": "code",
   "execution_count": 6,
   "metadata": {},
   "outputs": [
    {
     "name": "stderr",
     "output_type": "stream",
     "text": [
      "[WDM] - \n",
      "\n",
      "[WDM] - ====== WebDriver manager ======\n",
      "[WDM] - Current firefox version is 97.0a1\n",
      "[WDM] - Get LATEST driver version for 97.0a1\n",
      "[WDM] - Get LATEST driver version for 97.0a1\n",
      "[WDM] - Getting latest mozilla release info for v0.30.0\n",
      "[WDM] - Get LATEST driver version for 97.0a1\n",
      "[WDM] - Get LATEST driver version for 97.0a1\n",
      "[WDM] - Trying to download new driver from https://github.com/mozilla/geckodriver/releases/download/v0.30.0/geckodriver-v0.30.0-win64.zip\n",
      "[WDM] - Driver has been saved in cache [C:\\Users\\PC\\.wdm\\drivers\\geckodriver\\win64\\v0.30.0]\n"
     ]
    },
    {
     "ename": "NameError",
     "evalue": "name 'it' is not defined",
     "output_type": "error",
     "traceback": [
      "\u001b[1;31m---------------------------------------------------------------------------\u001b[0m",
      "\u001b[1;31mNameError\u001b[0m                                 Traceback (most recent call last)",
      "\u001b[1;32m<ipython-input-6-6dc6f1348dbb>\u001b[0m in \u001b[0;36m<module>\u001b[1;34m\u001b[0m\n\u001b[0;32m     13\u001b[0m \u001b[0mlist_proxies\u001b[0m \u001b[1;33m=\u001b[0m \u001b[0mpd\u001b[0m\u001b[1;33m.\u001b[0m\u001b[0mread_csv\u001b[0m\u001b[1;33m(\u001b[0m\u001b[1;34m'proxies_list.txt'\u001b[0m\u001b[1;33m,\u001b[0m \u001b[0mheader\u001b[0m\u001b[1;33m=\u001b[0m\u001b[1;32mNone\u001b[0m\u001b[1;33m)\u001b[0m\u001b[1;33m\u001b[0m\u001b[1;33m\u001b[0m\u001b[0m\n\u001b[0;32m     14\u001b[0m \u001b[0mlist_proxies\u001b[0m \u001b[1;33m=\u001b[0m \u001b[0mlist_proxies\u001b[0m\u001b[1;33m.\u001b[0m\u001b[0mvalues\u001b[0m\u001b[1;33m.\u001b[0m\u001b[0mtolist\u001b[0m\u001b[1;33m(\u001b[0m\u001b[1;33m)\u001b[0m\u001b[1;33m\u001b[0m\u001b[1;33m\u001b[0m\u001b[0m\n\u001b[1;32m---> 15\u001b[1;33m \u001b[0mlist_proxies\u001b[0m \u001b[1;33m=\u001b[0m \u001b[0mlist\u001b[0m\u001b[1;33m(\u001b[0m\u001b[0mit\u001b[0m\u001b[1;33m.\u001b[0m\u001b[0mchain\u001b[0m\u001b[1;33m.\u001b[0m\u001b[0mfrom_iterable\u001b[0m\u001b[1;33m(\u001b[0m\u001b[0mlist_proxies\u001b[0m\u001b[1;33m)\u001b[0m\u001b[1;33m)\u001b[0m\u001b[1;33m\u001b[0m\u001b[1;33m\u001b[0m\u001b[0m\n\u001b[0m\u001b[0;32m     16\u001b[0m \u001b[0mua\u001b[0m \u001b[1;33m=\u001b[0m \u001b[0mUserAgent\u001b[0m\u001b[1;33m(\u001b[0m\u001b[1;33m)\u001b[0m\u001b[1;33m\u001b[0m\u001b[1;33m\u001b[0m\u001b[0m\n\u001b[0;32m     17\u001b[0m \u001b[1;33m\u001b[0m\u001b[0m\n",
      "\u001b[1;31mNameError\u001b[0m: name 'it' is not defined"
     ]
    }
   ],
   "source": [
    "service = Service(GeckoDriverManager().install())\r\n",
    "\r\n",
    "option = webdriver.FirefoxOptions()\r\n",
    "# Le paramètre --headless indique que le navigateur va tourner en tâche de fond\r\n",
    "option.add_argument('--headless')\r\n",
    "\r\n",
    "driver = webdriver.Firefox(\r\n",
    "    service=service, \r\n",
    "    options=option\r\n",
    ")\r\n",
    "\r\n",
    "# Partie des proxies\r\n",
    "list_proxies = pd.read_csv('proxies_list.txt', header=None)\r\n",
    "list_proxies = list_proxies.values.tolist()\r\n",
    "list_proxies = list(it.chain.from_iterable(list_proxies))\r\n",
    "ua = UserAgent()\r\n",
    "\r\n",
    "proxy_pool = it.cycle(list_proxies)\r\n",
    "\r\n",
    "list_pages = []\r\n",
    "list_data = []\r\n",
    "\r\n",
    "for page in list_pages:\r\n",
    "    proxy = next(proxy_pool)\r\n",
    "\r\n",
    "    driver.get(page)\r\n",
    "    driver.set()\r\n",
    "\r\n",
    "    time.sleep(time.sleep(random.randrange(30, 55)))\r\n",
    "\r\n",
    "    html = driver.page_source\r\n",
    "    soup = BeautifulSoup(html)\r\n",
    "\r\n",
    "    # Ici c'est à vous de vous adapter\r\n",
    "\r\n",
    "\r\n",
    "# Il faut arrêter le navigateur après avoir fait nos tâches\r\n",
    "driver.quit()"
   ]
  }
 ],
 "metadata": {
  "interpreter": {
   "hash": "8ed06d07b9ff369db6ed7b53447be18709da67cd911d838d72fee7fecb26667a"
  },
  "kernelspec": {
   "display_name": "Python 3.10.0 64-bit",
   "name": "python3"
  },
  "language_info": {
   "codemirror_mode": {
    "name": "ipython",
    "version": 3
   },
   "file_extension": ".py",
   "mimetype": "text/x-python",
   "name": "python",
   "nbconvert_exporter": "python",
   "pygments_lexer": "ipython3",
   "version": "3.8.5"
  },
  "orig_nbformat": 4
 },
 "nbformat": 4,
 "nbformat_minor": 2
}