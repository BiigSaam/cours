{
 "cells": [
  {
   "cell_type": "markdown",
   "metadata": {},
   "source": [
    "Dans la première partie de la pratique, nous avons vu comment scraper une page web,toutefois, dans le cadre de notre discipline, nous n'aurons pas les pages localement, elles seront sur des serveurs distants, il faudra donc faire des requêtes pour récupérer le contenu de ces pages.\n",
    "\n",
    "Malgré ses nombreuses fonctionnalités ([voir la documentation de BeautifulSoup](https://beautiful-soup-4.readthedocs.io/en/latest/)) BeautifulSoup ne permet pas de faire une requête vers une ressource distante. Pour ceci, nous n'aurons pas besoin d'installer un outil externe. Le langage Python possède un très grand nombre de bibliothèques par défaut. C'est \"request\" qui va nous servir à charger nos pages web, même si c'est natif à Python, il faut **impérativement** l'importer avant de l'utiliser avec la ligne suivante :\n",
    "```import requests```\n",
    "\n",
    "Utilisez donc la cellule suivante pour importer \"requests\" et \"BeautifulSoup\" (reprenez la ligne d'importation du fichier \"main.ipynb\" pour \"BeautifulSoup\")"
   ]
  },
  {
   "cell_type": "code",
   "execution_count": 1,
   "metadata": {},
   "outputs": [],
   "source": [
    "# Importez \"requests\" et \"BeautifulSoup\" ici"
   ]
  },
  {
   "cell_type": "markdown",
   "metadata": {},
   "source": [
    "Parfait \"requests\" et \"BeautifulSoup\" sont importés, nous pouvons commencer à scraper. Nous allons mettre tout ça en application sur des produits du site boulanger.fr, imaginons que nous souhations récupérer certains produits, disons les casques audio et récupérer les informations suivantes :\n",
    "- Marque\n",
    "- Nom du produit\n",
    "- Prix\n",
    "- Est-ce que le produit possède un rabais ?\n",
    "- Le rabais du produit ?\n",
    "\n",
    " Voici l'url qui nous intéresse \"https://www.boulanger.com/c/tous-les-casques-audio?numPage=1\", si vous accédez à la page, vous verrez une mise en page semblable à ceci :\n",
    "![](boulanger-audio.png)\n",
    "\n",
    "Nous allons commencer avec une page pour nous assurer que notre code fonctionne correctement. Mais avant, il faut récupérer nos sélecteurs grâce à la console du navigateur (onglet \"Elements/Inspecteur\"). Complètez la liste suivante avec les sélecteurs associés :\n",
    "\n",
    "- Marque :\n",
    "- Nom du produit :\n",
    "- Prix : \n",
    "- Le rabais du produit ? :\n",
    "- Le lien vers la page détail de l'article :\n",
    "  - Concernant ce selecteur, on essayera d'aller plus loin dans notre scraping et récupérer uniquement l'id contenu dans l'url\n",
    "\n",
    "Pensez à valider vos sélecteurs via la console du navigateur (onglet \"console\") grâce à la méthode \"document.querySelector(\"votre-selecteur\")\""
   ]
  },
  {
   "cell_type": "markdown",
   "metadata": {},
   "source": [
    "Voilà, nous avons nos sélecteurs, il est désormais temps de charger notre page avec \"requests\" avec le code suivant. Nous allons donc faire la même chose que précédemment sauf que cette fois-ci nous allons stocker les résultats de la première page dans un tableau de dictionnaires et sauvegarder le tout dans un fichier (csv ou xls(x) au choix)."
   ]
  },
  {
   "cell_type": "code",
   "execution_count": 12,
   "metadata": {},
   "outputs": [],
   "source": [
    "from bs4 import BeautifulSoup\n",
    "import requests\n",
    "\n",
    "# Vous pouvez choisir un autre URL\n",
    "lien = \"https://www.boulanger.com/c/tous-les-casques-audio?numPage=1\"\n",
    "response = requests.get(lien)\n",
    "\n",
    "soup = BeautifulSoup(response.text, 'html.parser')\n",
    "\n",
    "# Completez le code pour récupérer les données"
   ]
  },
  {
   "cell_type": "markdown",
   "metadata": {},
   "source": [
    "Notre code est fonctionnel, maintenant nous pouvons scraper à plus haute échelle et donc récupérer toutes les données sur toutes les pages de notre catégorie. **Toutefois**, vu que nous sommes tous au même endroit, nous allons limiter notre scraping aux sept premières pages, car en scrapant tout tous en même temps sur la même adresse IP, on risque de votre notre adresse IP être bannie. \n",
    "Pour ce faire, il nous faudra une boucle pour changer de page à la fin de chaque scraping. Si on regarde l'URL attentivement, il y a le paramètre \"numPage\" qui semble indiquer le numéro de page, il faudra donc mettre à jour le paramètre entre chaque tour de boucle.\n",
    "\n",
    "Cette action étant longue, mais effectuée rapidement par notre robot, il est fort probable que nos actions soient considérées comme étant suspectes par les serveurs du site et que notre adresse IP publique soit bannie au bout d'un moment.\n",
    "\n",
    "Pour éviter ceci, nous allons mettre en place un délai entre chaque requête, nous allons utiliser les bibliotèques \"time\" et \"random\", ces bibliothèques sont également natives à Python, il n'y aura pas besoin d'utiliser conda en amont pour importer. Le code suivant permet d'instaurer une pause dont le temps est situé entre 30 et 55 secondes `time.sleep(random.randrange(30, 55))`, il faudra mettre ce code au début de sa première boucle. **Si votre code ne vous semble pas correct, demandez de l'aide avant de le lancer, nous ne sommes pas à l'abri d'une boucle infinie**.\n",
    "\n",
    "Rappelons qu'il est possible de vérifier le délai entre chaque crawl grâce au robots.txt du site. Vous pouvez voir les données grâce au code suivant :\n",
    "```python\n",
    "from urllib.request import urlopen\n",
    "with urlopen(\"site.tld/robots.txt\") as stream:\n",
    "    print(stream.read().decode(\"utf-8\"))\n",
    "```\n",
    "Si vous ne trouvez pas de référence au délai entre chaque crawl, utilisez la valeur aléatoire utilisée plus haut avec les fonctions time et random.\n",
    "\n",
    "Enfin pour limiter encore plus le risque de voir son IP être bannie, nous allons proxifier nos IP. Nous allons charger nos proxies contenus dans le fichier proxy_list.txt puis itérer entre chaque requête sur un proxy différent. Notez qu'avec l'utilisation des proxies on peut diminuer le délai entre chaque requête car chacunes de vos requêtes aura une adresse IP différente.\n",
    "\n",
    "Pour réaliser le scraping complet, nous aurons besoin, au minimum, de deux boucles :\n",
    "- Une boucle permettant d'itérer entre les pages (c'est là qu'on trouvera `time.sleep(random.randrange(30, 55))`)\n",
    "- Une boucle itérant entre les produits de la page courante pour donc récupérer les données\n",
    "\n",
    "- [Voir documentation des boucles en Python](https://www.w3schools.com/python/python_for_loops.asp)\n",
    "- [Voir documentation sur les tableaux en Python](https://www.w3schools.com/python/python_arrays.asp)\n",
    "- [Voir rappel sur les dictionnaires en Python](https://www.w3schools.com/python/python_dictionaries.asp)\n",
    "\n",
    "Le but de notre scraping est de réaliser un tableau de dictionnaires contenant les clés suivantes :\n",
    "- marque\n",
    "- nomProduit\n",
    "- prix\n",
    "- aRabais\n",
    "- pourcentageRabais\n",
    "- id : l'id représente le nombre contenu dans l'url de l'article. Pour récupérer ce nombre, il vous faudra utiliser des regex (voir plus bas pour plus d'explications).\n"
   ]
  },
  {
   "cell_type": "markdown",
   "metadata": {},
   "source": [
    "# Regex (Regular Expression)\n",
    "\n",
    "Les Regexes ou \"Expressions Régulières/Rationnelles\" en français sont des outils très puissants permettant de récupérer certaines parties d'une chaîne de caractères à partir d'un motif défini. Par motif, on entend qu'on ne temps plus à chercher \"toto\" dans la phrase \"toto va à plage\" mais plutôt la double répétition de \"to\" dans la phrase suscitée.\n",
    "\n",
    "Les regexes sont notamment utilisées pour s'assurer qu'une adresse e-mail est correcte et donc corresponde au pattern {nom}@{domaine}.{tld}.\n",
    "\n",
    "Dans le cas de nos casques sur le site de boulanger, l'id est contenu dans la valeur de l'attribut \"href\" qui se présente sous la forme \"/ref/XXXXXXX\" où \"XXXXXXX\" est l'id qui nous intéresse.\n",
    "\n",
    "Que remarquez-vous ?\n",
    "- ?\n",
    "\n",
    "\n",
    "Pour récupérer notre id, il faudra utiliser la regex suivante et importer \"re\" (déjà importé dans la cellule suivante). Le code pour récupérer l'id est le suivant :\n",
    "```python\n",
    "# Cherche-moi la répétition de sept chiffres\n",
    "regex_id = re.compile(r'\\d{7}') \n",
    "attr_href_val = \"/ref/1445520\"\n",
    "# Prends-moi la première occurence trouvée\n",
    "id_produit = regex_id.search(attr_href_val).group(0)\n",
    "id_produit\n",
    "```\n",
    "Le code ci-dessus sera donc à réutiliser dans votre boucle."
   ]
  },
  {
   "cell_type": "code",
   "execution_count": 7,
   "metadata": {},
   "outputs": [
    {
     "data": {
      "text/plain": [
       "'1445520'"
      ]
     },
     "execution_count": 7,
     "metadata": {},
     "output_type": "execute_result"
    }
   ],
   "source": [
    "import sys\n",
    "# On n'oublie pas d'installer fake_useragent car \n",
    "# ce n'est pas un bibliothèque native à Python\n",
    "# Il nous faudra également définir votre source pour nos packages grâce à la ligne 6 \"!conda config...\"\n",
    "\n",
    "# !conda config --append channels conda-forge\n",
    "# !conda install --yes --prefix {sys.prefix} fake-useragent\n",
    "\n",
    "import random\n",
    "import time\n",
    "import re\n",
    "\n",
    "from fake_useragent import UserAgent\n",
    "\n",
    "import pandas as pd\n",
    "import itertools as it\n",
    "\n",
    "# Complétez le code ci-dessous de façon à récupérer le contenu des sept premières pages et \n",
    "# ensuite en enregistrez chaque entrée dans un tableau de dictionnaires (récupérez le code du notebook précédent) pour le scraping et \n",
    "# changez les paramètres avec les sélecteurs définis plus haut.\n",
    "# N'oubliez pas de changer la valeur du paramètre \"numPage\" entre chaque tour de boucle\n",
    "\n",
    "# Partie des proxies\n",
    "list_proxies = pd.read_csv('proxies_list.txt', header=None)\n",
    "list_proxies = list_proxies.values.tolist()\n",
    "list_proxies = list(it.chain.from_iterable(list_proxies))\n",
    "ua = UserAgent()\n",
    "\n",
    "proxy_pool = it.cycle(list_proxies)\n",
    "\n",
    "# A remplir avec la liste des URL\n",
    "liste_pages = []\n",
    "\n",
    "for page in liste_pages:\n",
    "    proxy = next(proxy_pool)\n",
    "\n",
    "    response = requests.get(\n",
    "        page,\n",
    "        proxies={\"http\": proxy, \"https\": proxy}, \n",
    "        headers={'User-Agent': ua.random}\n",
    "    )\n",
    "    # Vu que nous jouons sur les adresses IP,\n",
    "    # nous nous permettons de diminuer le délai entre chaque crawl\n",
    "    time.sleep(random.randrange(15, 25))\n",
    "\n",
    "    # Continuez la logique ici"
   ]
  },
  {
   "cell_type": "markdown",
   "metadata": {},
   "source": [
    "Nous avons maintenant un fichier de travail, vous pouvez maintenant d'exploiter ces données comme vu précédemment :\n",
    "- Nettoyage\n",
    "- Analyse\n",
    "- Graphiques (+ questions)\n",
    "\n",
    "# Pour aller plus loin\n",
    "Vous pouvez faire le même exercice avec des données immobilières, donnée que vous aurez récupérez sur le site https://www.avendrealouer.fr/ ou un site de votre choix. A noter que si votre scraping ne retourne rien c'est certainement que vous essayez de charger des données asynchrones, il vous faudra utiliser en complément Selenium (voir 3-scraping-selenium.ipynb)."
   ]
  }
 ],
 "metadata": {
  "interpreter": {
   "hash": "c469c999aae2bf6d578d6881606ced546d1546d312a4811937df5b24665ee8bc"
  },
  "kernelspec": {
   "display_name": "Python 3.8.5 64-bit (conda)",
   "name": "python3"
  },
  "language_info": {
   "name": "python",
   "version": ""
  },
  "orig_nbformat": 4
 },
 "nbformat": 4,
 "nbformat_minor": 2
}
