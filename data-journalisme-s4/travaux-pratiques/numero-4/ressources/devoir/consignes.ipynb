{
 "cells": [
  {
   "cell_type": "markdown",
   "metadata": {},
   "source": [
    "# Devoir\n",
    "\n",
    "A partir de la liste d'articles fournis. Choisissez-en **un seul** et aggrémentez-le **des graphiques pertinents**. Les listes des articles est contenue dans le fichier \"liste-articles.txt\". Ces articles sont catégorisés par site d'open data, pour vous guider pour trouver les données pour aggrémenter vos articles.\n",
    "\n",
    "Cet article peut être mis dans un site web ou encore un notebook. A noter que vous devez impérativement créditer le site et l'auteur de l'article. L'utilisation de pandas pour filtrer les données n'est pas obligatoire, vous avez le droit d'utiliser Excel si vous êtes plus à l'aise avec ou autre.\n",
    "\n",
    "**Faites attention à la date de l'article, n'allez pas utiliser des données de 2020 si l'article date de 2018.**\n",
    "# Rendus attendus\n",
    "- L'article aggrémenté avec **des graphiques pertinents** et bien placés\n",
    "- Le lien vers le jeu de données utilisé\n",
    "- Le lien vers l'article original\n",
    "- Le jeu de données utilisé"
   ]
  }
 ],
 "metadata": {
  "language_info": {
   "name": "python"
  },
  "orig_nbformat": 4
 },
 "nbformat": 4,
 "nbformat_minor": 2
}
