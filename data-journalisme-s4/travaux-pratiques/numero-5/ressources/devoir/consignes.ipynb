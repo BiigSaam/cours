{
 "cells": [
  {
   "cell_type": "markdown",
   "metadata": {},
   "source": [
    "# Rédaction data-journalistique\n",
    "\n",
    "**Tout seul ou à deux**, mettez en œuvre vos connaissances en analyse de données et rédaction pour réaliser une histoire autour d'un sujet (présent dans l'e-mail de présentation). Ce devoir nécessite obligatoirement d'avoir comme **matière première de travail la donnée.** Comme tout travail journalistique, **le sujet doit être anglé,** vous devez prendre un parti, une orientation, un chemin tout en respectant l'éthique du journaliste, restez objectif. **La date butoir vous sera remise ultérieurement.** \n",
    "\n",
    "Votre outil de communication peut prendre la forme d'un article de presse ou une infographie. A noter que votre réalisation doit donner envie de la lire tant par son contenu que sa mise en page surtout dans le cas d'une infographie. Vous porterez un soin à rendre votre histoire claire et engageante. La clareté de votre récit (et son intérêt) représant une bonne partie de la note totale. La mise en page et fautes orthographes seront également pris en compte dans la notation. Article de presse ou infographie, dans les deux cas, vous **devrez mettre en place des graphiques,** vous pouvez également mettre en avant des chiffres-clés / importants, ceci est à votre appréciation. Si l'envie vous prend, vous pouvez bien évidemment mettre en place un outil interactif dans votre article de presse.\n",
    "\n",
    "**Ce devoir n'est pas un devoir de programmation** mais de rédaction (+ design, si vous choississez de faire une infographie), la manipulation de données peut être faite avec un outil autre que pandas et la réalisation de graphiques avec un outil autre que seaborn/matplotlib. Vous pouvez, par exemple, filtrer vos données sous Excel et ensuite faire les graphiques sur Illustrator. Ne nous limitez pas qu'à un seul jeu de données, vous pourriez être surpris par vos découvertes en croisant/comparant les données de plusieurs jeux de données.\n",
    "\n",
    "**Rappelons qu'une infographie n'est pas une data-visualisation.** Une infographie est un ensemble de data-visualisation (ou graphiques) qui peuvent raconter une histoire dans le but de faire parler des données plus facilement. Dans le cas de ce devoir, vous chercherez à rédiger une histoire. Par conséquent, n'allez pas rendre pas que des graphiques, il faudrait également y adjoindre quelques textes servant de présentation et/ou de commentaires. **Rappelez-vous également qu'un graphique sans légendes n'a aucun intérêt et peut plus semer la confusion qu'autre chose et faites également attention au choix des graphiques.**\n",
    "\n",
    "En tant que journaliste, vous n'oublierez pas d'inscrire les auteurs du document (article ou infographie) ainsi que le lien vers les jeux de donnés utilisés sur votre réalisation et les autres sources externes. Toutes images ou icônes utilisés devront être produits par vos soins ou être libres de droit (pensez à créditer les auteurs).\n",
    "\n",
    "## Conseils - Infographie\n",
    "N'hésitez pas à vous inspirer du web pour trouver une mise en page ou un design. Vous pourrez trouver des inspirations ici :\n",
    "- [Voir subreddit Infographics](https://www.reddit.com/r/Infographics/)\n",
    "- [Voir subreddit dataisbeautiful](https://www.reddit.com/r/dataisbeautiful/)\n",
    "- [Voir histoire de l'iPhone (2007-2012)](https://www.pinterest.fr/pin/91479436152166905/)\n",
    "- [Voir infographie sur l'usage des sacs au Royaume-Uni (anglais)](https://www.informationisbeautifulawards.com/showcase/3906-breaking-bag-habits)\n",
    "- [Voir exemples d'infographies réalisées avec tableau.com](https://public.tableau.com/app/discover/viz-of-the-day)\n",
    "Prenez en compte également les cours de mise en page que vous avez eu tout au long de votre cursus à l'IUT, la gestion des espaces ainsi que des couleurs. La hiérarchisation des données est un point important de votre infographie. Votre document doit être lisible et donner envie de lire. Si vous-même n'avez pas envie de le lire, personne ne le voudra.\n",
    "\n",
    "## Conseils - Article\n",
    "Un article de presse est fait pour être lu, évitez les fautes orthographe et autres syntaxe. Une relecture à haute voix peut aider à trouver les fautes. Votre document peut être rendu sous la forme d'un document pdf et même un site web à vous de voir. Même si vous ne faites pas d'infographie, rien ne vous empêche de faire votre projet sous InDesign pour apporter une mise en page originale. Néanmoins, **c'est le contenu qui doit porter votre article et non sa mise en page.**\n",
    "\n",
    "Au-delà d'une direction artistique (à utiliser également pour l'infographie), pensez à la cible de votre article, si le ton reste libre, créez une chartre éditoriale. Ainsi n'allez pas utiliser le tutoiement pour après utiliser le vouvoiement.\n",
    "\n",
    "### Exemple d'articles de data-journalisme\n",
    "- [The Guardian - anglais](https://www.theguardian.com/data)\n",
    "- [Washington Post \"These days in baseball, every batter is trying to find an angle\" - anglais](https://www.washingtonpost.com/graphics/sports/mlb-launch-angles-story/?utm_term=.90996af8182a)\n",
    "- [Afghanistan - Visualising the impact of 20 years of war - anglais](https://interactive.aljazeera.com/aje/2021/afghanistan-visualising-impact-of-war/index.html)\n",
    "- [Sexual violence in Singapore: a crisis - anglais](https://kontinentalist.com/stories/sexual-assault-and-abuse-in-singapore-need-more-than-the-law)\n",
    "- [Plus d'exemples d'articles sur le data-journalisme](https://datajournalism.com/read/blog/best-data-journalism-projects-2021)\n",
    "\n",
    "De plus, votre article devra prendre en compte le SEO, vous metterez en place les astuces et notions vues en cours de SEO pour rendre votre article référençable. **Notamment le nombre minimal de 300 mots dans votre article pour qu'il puisse être référencé.**\n",
    "\n",
    "## Conseils - Graphiques\n",
    "Si un graphique sans légendes n'a aucun intérêt, il perd également son intérêt si ses couleurs ne sont pas judicieuses, évitez les couleurs trop semblables notamment pour les personnes atteintes de troubles visuels. Évitez également le bruit graphique, comme vu en cours, gardez l'essentiel pour un graphique clair.\n",
    "\n",
    "A noter que jupyter / google colab permet d'exporter son travail au format pdf ou html."
   ]
  },
  {
   "cell_type": "markdown",
   "metadata": {},
   "source": [
    "# Rendu attendus\n",
    "\n",
    "- Une **archive** nommée nom-prénom (un rendu si groupe) contenant :\n",
    "  - Votre réalisation\n",
    "    - Si infographie :\n",
    "      - Fichier image pour le web (svg, jpg ou png) - Export seulement pas de fichier source\n",
    "      - Image assez grande pour pouvoir être lue / zoomée\n",
    "    - Si article de presse :\n",
    "      - Document pdf contenant l'article / ou site web\n",
    "      - Contient au minimum 300 mots (Les mots des légendes des graphiques ne comptent pas)\n",
    "  - Liens vers les jeux de donnés utilisés + Fichiers d'exploitation\n",
    "    - Par exemple, si vous avez utilisé pandas pour filtrer, vous devez rendre le notebook utilisé pour filtrer\n",
    "  - (Optionnel) : La mise en ligne de votre article ou votre infographie sur votre blog WordPress\n",
    "    - Le lien doit être un fichier texte"
   ]
  },
  {
   "cell_type": "markdown",
   "metadata": {},
   "source": [
    "# Votre liste à faire\n",
    "- [x] Lire les consignes\n",
    "- [ ] Trouver un jeu de données pertinent (en rapport avec le sujet imposé)\n",
    "- [ ] Trouver son angle de rédaction\n",
    "- [ ] Réaliser son article ou son infographie\n",
    "  - [ ] Me relire pour éviter les fautes de syntaxe ou d'orthographe\n",
    "- [ ] Faire une archive respectant les attentes (voir cellule du dessus)\n",
    "  - [ ] Rendre l'archive avant la date butoir. Un point sera retiré par jour de retard."
   ]
  }
 ],
 "metadata": {
  "interpreter": {
   "hash": "8ed06d07b9ff369db6ed7b53447be18709da67cd911d838d72fee7fecb26667a"
  },
  "kernelspec": {
   "display_name": "Python 3.10.0 64-bit",
   "name": "python3"
  },
  "language_info": {
   "name": "python",
   "version": ""
  }
 },
 "nbformat": 4,
 "nbformat_minor": 4
}
