{
 "cells": [
  {
   "cell_type": "markdown",
   "metadata": {},
   "source": [
    "# Introduction\n",
    "\n",
    "Python est un langage de programmation, sa première version date du début des années 90. C'est un lanagage haut niveau, ceci signifie donc que les mot-clés sont souvent issus de la langue anglaise. Par exemple la méthode `remove` de la classe Array permet de supprimer un élément.\n",
    "\n",
    "Le langage est extrêmement polyvalent et est utilisable surtout les systèmes d'exploitation aussi bien de PC, tablette ou encore smartphone.\n",
    "\n",
    "Normalement, il faut utiliser un fichier avec l'extension \".py\" et compilateur, mais grâce à **Jupyter notebook**, nous allons pouvoir faire du python de façon beaucoup plus conviale."
   ]
  },
  {
   "cell_type": "markdown",
   "metadata": {},
   "source": [
    "# Variables\n",
    "\n",
    "Le typage n'est pas obligatoire en Python, mieux encore, il n'est pas utile de les déclarer, il n'y a pas de mot-clé comme `var` ou `let` comme en javascript, une variable est déclarée à sa première déclaration. A noter que le nom des variables n'est pas sensible à la casse. Ainsi déclarer une variable qui s'appelle \"A\", n'est pas la même chose que \"a\"."
   ]
  },
  {
   "cell_type": "code",
   "execution_count": 1,
   "metadata": {},
   "outputs": [],
   "source": [
    "# Exemples (le caractère \"#\" permet de définir un commentaire)\n",
    "\n",
    "firstVar = \"Ma première valeur\" # Ici on déclare une chaîne de caractères\n",
    "anInt = 5 # Ici un entier"
   ]
  },
  {
   "cell_type": "markdown",
   "metadata": {},
   "source": [
    "# A vous de coder\n",
    "\n",
    "Déclarez des variables répondant aux critères suivants (une ligne une variable) :\n",
    "- Un nombre décimal\n",
    "- Une chaîne de caractère\n",
    "- Un tableau (vous allez devoir chercher sur le web la réponse)\n",
    "- Un dictionnaire (vous allez devoir chercher sur le web la réponse)\n",
    "\n",
    "Affichez le résultat avec la fonction `print()`."
   ]
  },
  {
   "cell_type": "code",
   "execution_count": 2,
   "metadata": {},
   "outputs": [
    {
     "name": "stdout",
     "output_type": "stream",
     "text": [
      "4\n"
     ]
    }
   ],
   "source": [
    "# Exemple d'utilisation de la fonction print()\n",
    "print(4)"
   ]
  },
  {
   "cell_type": "code",
   "execution_count": null,
   "metadata": {},
   "outputs": [],
   "source": []
  }
 ],
 "metadata": {
  "kernelspec": {
   "display_name": "Python 3",
   "language": "python",
   "name": "python3"
  },
  "language_info": {
   "codemirror_mode": {
    "name": "ipython",
    "version": 3
   },
   "file_extension": ".py",
   "mimetype": "text/x-python",
   "name": "python",
   "nbconvert_exporter": "python",
   "pygments_lexer": "ipython3",
   "version": "3.8.5"
  }
 },
 "nbformat": 4,
 "nbformat_minor": 4
}
