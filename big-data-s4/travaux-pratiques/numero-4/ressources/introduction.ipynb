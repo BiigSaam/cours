{
 "cells": [
  {
   "cell_type": "markdown",
   "metadata": {},
   "source": [
    "# Introduction\r\n",
    "\r\n",
    "Python est un langage de programmation, sa première version date du début des années 90. C'est un lanagage haut niveau, ceci signifie donc que les mot-clés sont souvent issus de la langue anglaise ou encore qu'il y a beaucoup d'abstractions, par exemple, les développeurs n'ont pas à gérer la mémoire en Python. `malloc`, `alloc`, tout ça on oublie.\r\n",
    "\r\n",
    "Le langage est extrêmement polyvalent et est utilisable surtout les systèmes d'exploitation aussi bien sur PC, tablette ou encore smartphone.\r\n",
    "\r\n",
    "Attention, la syntaxe du Python peut être déroutante de prime à bord, en Python pas d'accolades ({}) ou de point-virgules ( ; ), l'imbrication est faite avec des espaces (qui peuvent être remplacés par des \"tabulations\")."
   ]
  },
  {
   "cell_type": "markdown",
   "metadata": {},
   "source": [
    "Le cours étant dédié à l'univers du Big Data, nous n'allons pas faire du Python de façon _traditionnelle_, en tant normal, il nous faudrait créer des fichiers avec l'extension \".py\" et les compiler, mais grâce à **Jupyter Notebook**, nous allons pouvoir faire du Python de façon beaucoup plus conviale et interactive. Par ailleurs Jupyter Notebook est un outil très utilisé en data-science.\r\n",
    "\r\n",
    "Jupyter notebook propose des avantages non négligeables comme la possibilité de formatter du texte grace au markdown.\r\n",
    "- [Voir la documentation du markdown](https://github.com/adam-p/markdown-here/wiki/Markdown-Cheatsheet)\r\n",
    "\r\n",
    "Les notebooks servent également de lieu pour coder en Python, compiler le code et voir le résultat. Pratique.\r\n",
    "\r\n",
    "Ce logiciel fonctionne avec un système de cellules, le texte que vous lisez présentement est dans une cellule (écrite en markdown), chaque cellule peut être d'un type bien spécifique.\r\n",
    "\r\n",
    "![alt text](https://raw.githubusercontent.com/DanYellow/cours/main/big-data-s4/travaux-pratiques/numero-4/ressources/liste-types-cellules.jpg)\r\n",
    "\r\n",
    "Seul les deux premiers types nous seront utiles :\r\n",
    "- \"markdown\" pour le texte\r\n",
    "- \"code\" pour coder en Python\r\n",
    "\r\n",
    "\r\n",
    "Pour ajouter une nouvelle cellule rien de plus simple, il suffit d'appuyer sur l'icône \"+\" en haut.\r\n",
    "\r\n",
    "![alt text](https://raw.githubusercontent.com/DanYellow/cours/main/big-data-s4/travaux-pratiques/numero-4/ressources/ajout-cellule.jpg)\r\n",
    "\r\n",
    "Enfin, dernière fonctionnalité de barre d'outils que nous allons utiliser souvent le bouton \"exécuter\".\r\n",
    "\r\n",
    "![alt text](https://raw.githubusercontent.com/DanYellow/cours/main/big-data-s4/travaux-pratiques/numero-4/ressources/executer-cellule.jpg)\r\n",
    "\r\n",
    "Sachez qu'il est également possible d'exécuter une cellule avec le raccourci clavier `maj` + `entrée`. Par défaut, c'est la cellule courante/active qui est executée, il est possible d'en exécuter plusieurs en même temps en sélectionnant plusieurs cellules en maintenant la touche `maj`.\r\n",
    "\r\n",
    "Il y a d'autres options dans la barre d'outils, on ne va pas toutes les lister, à vous d'expérimenter. En tous les cas ,les trois fonctionnalités listées sont celles qu'on utilisera le plus.\r\n",
    "\r\n",
    "P.-S. : Pour éditer une cellule markdown, il vous suffit de double-cliquer dessus.\r\n",
    "\r\n",
    "P.-S. 2 : Il est possible d'utiliser jupyter sous VS Code, en revanche, il vous faudra utiliser une extension appelée \"Jupyter\"."
   ]
  },
  {
   "cell_type": "markdown",
   "metadata": {},
   "source": [
    "# Variables\r\n",
    "\r\n",
    "Le typage des variables n'est pas obligatoire en Python, mieux encore, il n'est pas utile de déclarer les variables, il n'y a pas de mot-clé comme `var` ou `let` comme en javascript, une variable est déclarée à sa première déclaration. A noter que le nom des variables est sensible à la casse. Ainsi déclarer une variable qui s'appelle \"A\", n'est pas la même chose que \"a\".\r\n",
    "\r\n",
    "Par convention, les variables en Python sont écrites en \"snake case\" ceci signifie donc que les mots sont écrits en minuscules et séparés par des tirets bas (_). \r\n",
    "\r\n",
    "- [Voir documentation sur la snake case](https://fr.wikipedia.org/wiki/Snake_case)"
   ]
  },
  {
   "cell_type": "code",
   "execution_count": 2,
   "metadata": {},
   "outputs": [
    {
     "data": {
      "text/plain": [
       "[45, 'bonjour', 87, '90']"
      ]
     },
     "execution_count": 2,
     "metadata": {},
     "output_type": "execute_result"
    }
   ],
   "source": [
    "# Exemples (le caractère \"#\" permet de définir un commentaire)\r\n",
    "\r\n",
    "premiere_var = \"Ma première valeur\" # Ici on déclare une chaîne de caractères\r\n",
    "un_entier = 5 # Ici un entier\r\n",
    "un_tableau = [45, \"bonjour\", 87, \"90\"] # Ici un tableau"
   ]
  },
  {
   "cell_type": "markdown",
   "metadata": {},
   "source": [
    "Il est même possible de concatener les variables avec le caractère `+`"
   ]
  },
  {
   "cell_type": "code",
   "execution_count": 4,
   "metadata": {},
   "outputs": [
    {
     "data": {
      "text/plain": [
       "'Bonjour Tout le monde'"
      ]
     },
     "execution_count": 4,
     "metadata": {},
     "output_type": "execute_result"
    }
   ],
   "source": [
    "ma_premiere_chaine = \"Bonjour\"\n",
    "ma_seconde_chaine = \"Tout le monde\"\n",
    "\n",
    "# Et ici on affiche tout avec un espace entre les deux chaînes\n",
    "ma_premiere_chaine + \" \" + ma_seconde_chaine"
   ]
  },
  {
   "cell_type": "markdown",
   "metadata": {},
   "source": [
    "# A vous de coder\r\n",
    "\r\n",
    "Déclarez des variables répondant aux critères suivants (une ligne une variable) :\r\n",
    "- Un nombre décimal\r\n",
    "- Une chaîne de caractères\r\n",
    "- Un tableau de nombres entiers\r\n",
    "- Un dictionnaire / tableau associatif (vous allez devoir chercher sur le web la réponse)\r\n",
    "\r\n",
    "Affichez le résultat avec la fonction `print()`. Il faudra également penser à compiler en faisant la combinaison de touches `maj` + `entrée` ou cliquer sur le bouton \"exécuter\" placé plus haut.\r\n",
    "\r\n",
    "#### **N'oubliez pas de sauvegarder**"
   ]
  },
  {
   "cell_type": "code",
   "execution_count": 1,
   "metadata": {
    "scrolled": true
   },
   "outputs": [
    {
     "name": "stdout",
     "output_type": "stream",
     "text": [
      "Hello world\n"
     ]
    }
   ],
   "source": [
    "# Exemple d'utilisation de la fonction print()\n",
    "print(\"Hello world\")"
   ]
  },
  {
   "cell_type": "markdown",
   "metadata": {},
   "source": [
    "Bravo, vous avez écrit avec brio vos premières lignes en Python. La fonction `print()` nous sera très utile pour débugger. **Jupyter propose également la fonction `display()`**, le rôle est identique à `print()` sauf que l'affichage est parfois plus élégant notamment sur les DataFrame, mais ça on le verra plus tard.\r\n",
    "\r\n",
    "# Un dictionnaire / tableau associatif\r\n",
    "\r\n",
    "Un tableau associatif est un structure très utile pour stocker des données qui font ensemble, cette structure est composée de clé-valeur où les clés, contrairement aux tableaux classiques, sont des chaînes de caractères (et parfois des entiers) ce qui rend leur structuration plus ordonnée. En contrepartie, les tableaux associatif ne permettent pas vraiment d'ordonner les données.\r\n",
    "\r\n",
    "Dans un tableau associatif, il est possible d'accéder à une valeur via la clé de l'index. Considérons le dictionnaire suivant :\r\n",
    "```\r\n",
    "voiture = {\r\n",
    "    marque: \"Porsche\",\r\n",
    "    modele: \"Panamera\",\r\n",
    "    prix: 50000\r\n",
    "}\r\n",
    "```\r\n",
    "Si je veux accéder à valeur placée pour la clé \"marque\", il faudra écrire `voiture[\"marque\"]`.\r\n",
    "\r\n",
    "- [Voir documentation sur les dictionnaires en Python - anglais](https://www.w3schools.com/python/python_dictionaries.asp)\r\n",
    "\r\n",
    "# A vous de coder\r\n",
    "\r\n",
    "- Utiliser la fonction `print()` ou `display()` pour afficher une valeur du dictionnaire que vous avez crée précédemment.\r\n",
    "\r\n",
    "#### **N'oubliez pas de sauvegarder**"
   ]
  },
  {
   "cell_type": "markdown",
   "metadata": {},
   "source": [
    "# if... else et boucle for"
   ]
  },
  {
   "cell_type": "code",
   "execution_count": 5,
   "metadata": {},
   "outputs": [
    {
     "name": "stdout",
     "output_type": "stream",
     "text": [
      "b est plus grand que a\n"
     ]
    }
   ],
   "source": [
    "a = 33\n",
    "b = 200\n",
    "\n",
    "if b > a:\n",
    "    print(\"b est plus grand que a\")\n",
    "else:\n",
    "    print(\"a est plus grand que b\")"
   ]
  },
  {
   "cell_type": "markdown",
   "metadata": {},
   "source": [
    "La structure if...else ce n'est pas uniquement comparer si un nombre est plus grand qu'un autre, il est également possible de comparer sur d'autres critères.\r\n",
    "\r\n",
    "\r\n",
    "Comme dit précédemment le Python, par son côté haut niveau, s'approche beaucoup de la langue anglaise au niveau de sa syntaxe. Ainsi, en Python, les opérateurs logiques `ET` et `OU`, qui prennent souvent la forme de `&&` ou `||` en programmation, sont écrits `and` et `or`. On peut donc écrire la chose suivante."
   ]
  },
  {
   "cell_type": "code",
   "execution_count": 7,
   "metadata": {},
   "outputs": [
    {
     "name": "stdout",
     "output_type": "stream",
     "text": [
      "b et a sont strictement positifs\n"
     ]
    }
   ],
   "source": [
    "# On déclare deux entiers.\n",
    "# Pour rappel, pas de \"var\", \"int\" ou autre pour déclarer une variable en Python\n",
    "a = 33 \n",
    "b = 200\n",
    "\n",
    "if b > 0 and a > 0:\n",
    "    print(\"b et a sont strictement positifs\")\n",
    "else:\n",
    "    print(\"b et a ne sont pas strictement positifs\")\n",
    "# Remplacez \"and\" par \"or\" pour tester le \"ou\" logique"
   ]
  },
  {
   "cell_type": "markdown",
   "metadata": {},
   "source": [
    "Pour les boucles, il n'y a qu'une seule instruction possible : `for in:`, elle permet de parcourir des tableaux ou encore des chaînes de caractères (quelque soit le langage de programmation, une chaîne de caractères est en fait un tableau)."
   ]
  },
  {
   "cell_type": "code",
   "execution_count": 10,
   "metadata": {},
   "outputs": [
    {
     "name": "stdout",
     "output_type": "stream",
     "text": [
      "pêche\n",
      "ananas\n"
     ]
    }
   ],
   "source": [
    "liste_fruits = [\"pêche\", \"banane\", \"ananas\"]\n",
    "# ici on liste et \"print()\" tous les éléments du tableau \"liste_fruits\"\n",
    "for fruit in liste_fruits:\n",
    "    print(fruit)"
   ]
  },
  {
   "cell_type": "markdown",
   "metadata": {},
   "source": [
    "Pour fonctionner de façon plus conventionnelle, comme un `for(var i = 0; i < limite; i++){}`, on utilise toujours la fonction `for in:` mais accompagnée de la fonction `range()`. Dans son utilisation la plus basique la fonction va prendre un seul et unique paramètre et retourner un `range` (type de variable) content une liste d'entiers compris entre 0 et le chiffre mis en paramètre."
   ]
  },
  {
   "cell_type": "code",
   "execution_count": 14,
   "metadata": {},
   "outputs": [
    {
     "name": "stdout",
     "output_type": "stream",
     "text": [
      "0\n",
      "1\n",
      "2\n",
      "3\n",
      "4\n",
      "5\n"
     ]
    }
   ],
   "source": [
    "# Va lister toutes les valeurs entre 0 et 6, 0 inclus\n",
    "for chiffre in range(6):\n",
    "    print(chiffre)"
   ]
  },
  {
   "cell_type": "markdown",
   "metadata": {},
   "source": [
    "Si on place un deuxième paramètre à la fonction `range()`, il est possible de définir nous-même les bornes, de ce fait, en écrivant `range(1, 11)`, on demande à lister tous les entiers compris entre 1 et 11, le deuxième paramètre étant toujours exclu.\r\n",
    "Enfin, il est possible de passer un troisième et dernier paramètre qui va définir le pas d'avancement, on peut donc définir un `range()` où on avance de 5 en 5 ou encore de 20 en 20, par défaut le pas de la fonction `range()` est de 1.\r\n",
    "\r\n",
    "Notez que le résultat de la fonction `range()` n'est pas affichable dans la fonction `print()`.\r\n",
    "\r\n",
    "# A vous de coder\r\n",
    "\r\n",
    "Déclarez des boucles répondant aux critères suivants (une ligne une boucle) :\r\n",
    "- Une boucle qui affiche (print) les éléments d'un tableau au fur et à mesure\r\n",
    "- Une boucle qui affiche (print) les entiers de 0 à 99 (inclus) au fur et à mesure\r\n",
    "- Une boucle qui affiche (print) les entiers de 0 à 1 000 au fur et à mesure avec un pas de 100\r\n",
    "\r\n",
    "**Pensez bien à rajouter une cellule de type \"code\" en appuyant sur le bouton \"+\" en haut à gauche**"
   ]
  },
  {
   "cell_type": "markdown",
   "metadata": {},
   "source": [
    "# Tableau de dictionnaires\r\n",
    "\r\n",
    "Nous avons vu précédemment les dictionnaires et les tableaux, le mélange des deux (tableau de dictionnaire) est une structure très utile pour stocker plusieurs dictionnaires qui identiques, par identiques on entend que tous les dictionnaires ont les mêmes clés. Le tableau de dictionnaires n'est pas sans rappeler un tableur où les dictionnaires seraient des lignes et les clés des colonnes. \r\n",
    "\r\n",
    "Nous allons beaucoup utiliser cette structure, il est donc très important de la comprendre. Nous allons partir avec le tableau de dictionnaires suivant\r\n",
    "\r\n",
    "```\r\n",
    "liste_voitures = [\r\n",
    "    {\r\n",
    "        marque: \"Porsche\",\r\n",
    "        modele: \"Panamera\",\r\n",
    "        prix: 50000\r\n",
    "    },\r\n",
    "    {\r\n",
    "        marque: \"Tesla\",\r\n",
    "        modele: \"S\",\r\n",
    "        prix: 100000\r\n",
    "    },\r\n",
    "    {\r\n",
    "        marque: \"Toyota\",\r\n",
    "        modele: \"Rav4\",\r\n",
    "        prix: 35000\r\n",
    "    },\r\n",
    "    {\r\n",
    "        marque: \"Ford\",\r\n",
    "        modele: \"F-150\",\r\n",
    "        prix: 30000\r\n",
    "    }\r\n",
    "]\r\n",
    "```\r\n",
    "\r\n",
    "# A vous de coder\r\n",
    "\r\n",
    "Déclarez des boucles répondant aux critères suivants (une ligne une boucle) :\r\n",
    "- Une boucle qui affiche (print) uniquement la clé \"prix\" d'un véhicule\r\n",
    "- Une boucle qui affiche (print) les entiers de 0 à 99 (inclus) au fur et à mesure\r\n",
    "- Une boucle qui affiche (print) les entiers de 0 à 1 000 au fur et à mesure avec un pas de 100\r\n",
    "\r\n",
    "**Pensez bien à rajouter une cellule de type \"code\" en appuyant sur le bouton \"+\" en haut à gauche**"
   ]
  },
  {
   "cell_type": "markdown",
   "metadata": {},
   "source": [
    "# Fonctions\r\n",
    "\r\n",
    "Comme tout langage de programmation, il est également possible en Python d'écrire des fonctions, le mot-clé est `def`. Etant donné qu'en Python, il n'y a pas d'accolades ({}) ou de point-virgules ( ; ) pour définir les instructions dans le code, il faut mettre le contenu de la fonction en retrait par rapport au mot-clé \"def\", ceci est fait grâce à la touche tabulation (la touche à gauche de la touche \"A\" de votre clavier). Exemple :\r\n",
    "\r\n",
    "```python\r\n",
    "# Après le mot-clé \"def\", il faut définir le nom de la fonction (obligatoire) et faire suivre de \":\"\r\n",
    "def ma_fonction(): \r\n",
    "  print(\"Je suis une fonction\")\r\n",
    "```\r\n",
    "La fonction peut ensuite être appelée de la façon suivante `ma_fonction()`.\r\n",
    "\r\n",
    "Bien évidemment, une fonction peut prendre des paramètres, il est donc possible d'écrire la chose suivante :\r\n",
    "\r\n",
    "```python\r\n",
    "def ma_fonction_avec_paramtres(a, b):\r\n",
    "  print(\"Je suis une fonction qui prend deux paramètres\")\r\n",
    "```\r\n",
    "Ci-dessus on définit une fonction appelée \"ma_fonction_avec_paramtres\" acceptant deux paramètres appelés a et b respectivement.\r\n",
    "\r\n",
    "Enfin notez qu'une fonction définit une scope, une variable définie dans une fonction n'est pas accessible à l'extérieur d'une fonction n'est pas accessible à l'extérieur, il est en de même pour la boucle for et la structure if/else. Aussi, en Python, si vous appelez une fonction avec des paramètres manquants"
   ]
  },
  {
   "cell_type": "markdown",
   "metadata": {},
   "source": [
    "# A vous de coder\n",
    "\n",
    "Ecrire du code correspondant aux critères suivants : \n",
    "- Une fonction qui prend en paramètre un entier et le multiplie par lui-même et print() le résultat\n",
    "- Une fonction qui prend un paramètre un nom et un prénom et retourne la concaténation des deux chaînes.\n",
    "- Une fonction qui prend en paramètre une chaîne de caractères et la retourne à l'envers et print() le résultat\n",
    "- Une fonction qui prend en paramètre deux entiers, les divise et retourne en résultat l'entier le plus proche. Par exemple, si la fonction divise 5 par 3, la fonction doit retourner 2.\n",
    "\n",
    "N'oubliez pas d'appeler les fonctions et d'en afficher le résultat avec la fonction `print()`. Il faudra également penser à compiler en faisant la combinaison de touches `maj` + `entrée` ou cliquer sur le bouton \"exécuter\" placé plus haut."
   ]
  },
  {
   "cell_type": "markdown",
   "metadata": {},
   "source": [
    "Il est également possible de définir une valeur par défaut pour un paramètre d'une fonction. On procède comme ceci\n",
    "```python\n",
    "def params_defaut(a = 5, b = 4):\n",
    "  print(\"Je suis une fonction qui prend deux paramètres\", a, b)\n",
    "# Lorsque la fonction params_default est appelée sans paramètres, les paramètres a et b prendront comme valeur 5 et 4 respectivement.\n",
    "```"
   ]
  },
  {
   "cell_type": "markdown",
   "metadata": {},
   "source": [
    "Ceci met fin à ce TP concernant l'apprentissage Python."
   ]
  }
 ],
 "metadata": {
  "interpreter": {
   "hash": "8ed06d07b9ff369db6ed7b53447be18709da67cd911d838d72fee7fecb26667a"
  },
  "kernelspec": {
   "display_name": "Python 3.10.0 64-bit",
   "name": "python3"
  },
  "language_info": {
   "codemirror_mode": {
    "name": "ipython",
    "version": 3
   },
   "file_extension": ".py",
   "mimetype": "text/x-python",
   "name": "python",
   "nbconvert_exporter": "python",
   "pygments_lexer": "ipython3",
   "version": "3.8.5"
  }
 },
 "nbformat": 4,
 "nbformat_minor": 4
}