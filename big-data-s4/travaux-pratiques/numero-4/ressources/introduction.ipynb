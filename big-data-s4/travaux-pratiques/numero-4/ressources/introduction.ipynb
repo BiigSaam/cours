{
 "cells": [
  {
   "cell_type": "markdown",
   "metadata": {},
   "source": [
    "# Introduction\n",
    "\n",
    "Python est un langage de programmation, sa première version date du début des années 90. C'est un lanagage haut niveau, ceci signifie donc que les mot-clés sont souvent issus de la langue anglaise ou encore qu'il y a beaucoup d'abstractions, par exemple, il n'y a pas de gestion de mémoire en Python. `malloc`, `alloc`, tout ça on oublie.\n",
    "\n",
    "Le langage est extrêmement polyvalent et est utilisable surtout les systèmes d'exploitation aussi bien de PC, tablette ou encore smartphone.\n",
    "\n",
    "Attention, la syntaxe du Python peut être déroutante de prime à bord, en Python pas d'accolades ({}) ou de point-virgules (;), la délimitation est faite avec des espaces (affichés avec la touche \"tabulation\")."
   ]
  },
  {
   "cell_type": "markdown",
   "metadata": {},
   "source": [
    "Le cours étant dédié à l'univers du Big Data, nous n'allons pas faire du Python de façon _traditionnelle_, en tant normal, il nous faudrait créer des fichiers avec l'extension \".py\" et les compiler, mais grâce à **Jupyter Notebook**, nous allons pouvoir faire du Python de façon beaucoup plus conviale et interactive. Par ailleurs Jupyter Notebook est un outil très utilisé en data-science.\n",
    "\n",
    "Jupyter notebook propose des avantages non négligeables comme la possibilité de formatter du texte grace au markdown.\n",
    "- [Voir la documentation du markdown](https://github.com/adam-p/markdown-here/wiki/Markdown-Cheatsheet)\n",
    "\n",
    "Les notebooks servent également de lieu pour coder en Python, compiler le code et voir le résultat. Pratique.\n",
    "\n",
    "Ce logiciel fonctionne avec un système de cellules, le texte que vous lisez présentement est dans une cellule (écrite en markdown), chaque cellule peut être d'un type bien spécifique.\n",
    "![alt text](https://raw.githubusercontent.com/DanYellow/cours/main/big-data-s4/travaux-pratiques/numero-4/ressources/liste-types-cellules.jpg)\n",
    "Seul les deux premiers types nous seront utiles :\n",
    "- \"markdown\" pour le texte\n",
    "- \"code\" pour coder en Python\n",
    "\n",
    "\n",
    "Pour ajouter une nouvelle cellule rien de plus simple, il suffit d'appuyer sur l'icône \"+\" en haut.\n",
    "![alt text](https://github.com/DanYellow/cours/blob/main/big-data-s4/travaux-pratiques/numero-4/ressources/ajout-cellule.jpg?raw=true)\n",
    "\n",
    "\n",
    "\n",
    "Enfin, dernière fonctionnalité de barre d'outils que nous allons utiliser souvent le bouton \"exécuter\"\n",
    "![alt text](executer-cellule.jpg)\n",
    "Sachez qu'il est également possible d'exécuter une cellule avec le raccourci clavier `maj` + `entrée`. Par défaut, c'est la cellule courante/active qui est executée, il est possible d'en exécuter plusieurs en même temps en sélectionnant plusieurs cellules en maintenant la touche `maj`.\n",
    "\n",
    "Il y a d'autres options dans la barre d'outils, on ne va pas toutes les lister, à vous d'expérimenter. En tous les cas les trois fonctionnalités listées sont celles qu'on utilisera le plus.\n",
    "\n",
    "P.-S. : Pour éditer une cellule markdown, il vous suffit de double-cliquer dessus."
   ]
  },
  {
   "cell_type": "markdown",
   "metadata": {},
   "source": [
    "# Variables\n",
    "\n",
    "Le typage des variables n'est pas obligatoire en Python, mieux encore, il n'est pas utile de déclarer les variables, il n'y a pas de mot-clé comme `var` ou `let` comme en javascript, une variable est déclarée à sa première déclaration. A noter que le nom des variables est sensible à la casse. Ainsi déclarer une variable qui s'appelle \"A\", n'est pas la même chose que \"a\"."
   ]
  },
  {
   "cell_type": "code",
   "execution_count": 2,
   "metadata": {},
   "outputs": [
    {
     "data": {
      "text/plain": [
       "[45, 'bonjour', 87, '90']"
      ]
     },
     "execution_count": 2,
     "metadata": {},
     "output_type": "execute_result"
    }
   ],
   "source": [
    "# Exemples (le caractère \"#\" permet de définir un commentaire)\n",
    "\n",
    "firstVar = \"Ma première valeur\" # Ici on déclare une chaîne de caractères\n",
    "anInt = 5 # Ici un entier\n",
    "unTableau = [45, \"bonjour\", 87, \"90\"] # Ici un tableau"
   ]
  },
  {
   "cell_type": "markdown",
   "metadata": {},
   "source": [
    "Il est même possible de concatener les variables avec le caractère `+`"
   ]
  },
  {
   "cell_type": "code",
   "execution_count": 4,
   "metadata": {},
   "outputs": [
    {
     "data": {
      "text/plain": [
       "'Bonjour Tout le monde'"
      ]
     },
     "execution_count": 4,
     "metadata": {},
     "output_type": "execute_result"
    }
   ],
   "source": [
    "ma_premiere_chaine = \"Bonjour\"\n",
    "ma_seconde_chaine = \"Tout le monde\"\n",
    "\n",
    "# Et ici on affiche tout avec un espace entre les deux chaînes\n",
    "ma_premiere_chaine + \" \" + ma_seconde_chaine"
   ]
  },
  {
   "cell_type": "markdown",
   "metadata": {},
   "source": [
    "# A vous de coder\n",
    "\n",
    "Déclarez des variables répondant aux critères suivants (une ligne une variable) :\n",
    "- Un nombre décimal\n",
    "- Une chaîne de caractères\n",
    "- Un tableau de nombres entiers\n",
    "- Un dictionnaire (vous allez devoir chercher sur le web la réponse)\n",
    "\n",
    "Affichez le résultat avec la fonction `print()`. Il faudra également penser à compiler en faisant la combinaison de touches `maj` + `entrée` ou cliquer sur le bouton \"exécuter\" placé plus haut.\n",
    "\n",
    "#### **N'oubliez pas de sauvegarder**"
   ]
  },
  {
   "cell_type": "code",
   "execution_count": 3,
   "metadata": {
    "scrolled": true
   },
   "outputs": [
    {
     "name": "stdout",
     "output_type": "stream",
     "text": [
      "olleH\n"
     ]
    }
   ],
   "source": [
    "# Exemple d'utilisation de la fonction print()\n",
    "print(\"Hello world\")"
   ]
  },
  {
   "cell_type": "markdown",
   "metadata": {},
   "source": [
    "# if... else et boucle for"
   ]
  },
  {
   "cell_type": "code",
   "execution_count": 5,
   "metadata": {},
   "outputs": [
    {
     "name": "stdout",
     "output_type": "stream",
     "text": [
      "b est plus grand que a\n"
     ]
    }
   ],
   "source": [
    "a = 33\n",
    "b = 200\n",
    "\n",
    "if b > a:\n",
    "    print(\"b est plus grand que a\")\n",
    "else:\n",
    "    print(\"a est plus grand que b\")"
   ]
  },
  {
   "cell_type": "markdown",
   "metadata": {},
   "source": [
    "La structure if...else ce n'est pas uniquement comparer si un nombre est plus grand qu'un autre, il est également possible de comparer sur d'autres critères.\n",
    "\n",
    "\n",
    "Comme dit précédemment le Python, par son côté haut niveau, s'approche beaucoup de la langue anglaise au niveau de sa syntaxe. Ainsi, en Python, les opérateurs logiques `ET` et `OU` qui prennent souvent la forme de `&&` ou `||` prennent la forme de `and` et `or` respectivement en Python. On peut donc écrire la chose suivante."
   ]
  },
  {
   "cell_type": "code",
   "execution_count": 7,
   "metadata": {},
   "outputs": [
    {
     "name": "stdout",
     "output_type": "stream",
     "text": [
      "b et a sont strictement positifs\n"
     ]
    }
   ],
   "source": [
    "# On déclare deux entiers.\n",
    "# Pour rappel, pas de \"var\", \"int\" ou autre pour déclarer une variable en Python\n",
    "a = 33 \n",
    "b = 200\n",
    "\n",
    "if b > 0 and a > 0:\n",
    "    print(\"b et a sont strictement positifs\")\n",
    "else:\n",
    "    print(\"b et a ne sont pas strictement positifs\")\n",
    "# Remplacez \"and\" par \"or\" pour tester le \"ou\" logique"
   ]
  },
  {
   "cell_type": "markdown",
   "metadata": {},
   "source": [
    "Pour les boucles, il n'y a qu'une seule instruction possible : `for in:`, elle permet de parcourir des tableaux ou encore des chaînes de caractères (quelque soit le langage de programmation, une chaîne de caractères est en fait un tableau)."
   ]
  },
  {
   "cell_type": "code",
   "execution_count": 10,
   "metadata": {},
   "outputs": [
    {
     "name": "stdout",
     "output_type": "stream",
     "text": [
      "pêche\n",
      "ananas\n"
     ]
    }
   ],
   "source": [
    "liste_fruits = [\"pêche\", \"banane\", \"ananas\"]\n",
    "# ici on liste et \"print()\" tous les éléments du tableau \"liste_fruits\"\n",
    "for fruit in liste_fruits:\n",
    "    print(fruit)"
   ]
  },
  {
   "cell_type": "markdown",
   "metadata": {},
   "source": [
    "Pour fonctionner de façon plus conventionnelle, comme un `for(var i = 0; i < limite; i++){}`, on utilise toujours la fonction `for in:` mais accompagnée de la fonction `range()`. Dans son utilisation la plus basique la fonction va prendre un seul et unique paramètre et retourner un `range` (type de variable) content une liste d'entiers compris entre 0 et le chiffre mis en paramètre."
   ]
  },
  {
   "cell_type": "code",
   "execution_count": 14,
   "metadata": {},
   "outputs": [
    {
     "name": "stdout",
     "output_type": "stream",
     "text": [
      "0\n",
      "1\n",
      "2\n",
      "3\n",
      "4\n",
      "5\n"
     ]
    }
   ],
   "source": [
    "# Va lister toutes les valeurs entre 0 et 6, 0 inclus\n",
    "for chiffre in range(6):\n",
    "    print(chiffre)"
   ]
  },
  {
   "cell_type": "markdown",
   "metadata": {},
   "source": [
    "Si on place un deuxième paramètre à la fonction `range()`, il est possible de définir nous-même les bornes, de ce fait, en écrivant `range(1, 11)`, on demande à lister tous les entiers compris entre 1 et 11, 11 étant toujours exclu.\n",
    "Enfin, il est possible de passer un troisième et dernier paramètre qui va définir le pas d'avancement, on peut donc définir un `range()` où on avance de 5 en 5 ou encore de 20 en 20, par défaut le pas de la fonction `range()` est de 1.\n",
    "\n",
    "Notez que la fonction `range()` en elle-même n'est pas affichable dans la fonction `print()`.\n",
    "\n",
    "# A vous de coder\n",
    "\n",
    "Déclarez des boucles répondant aux critères suivants (une ligne une boucle) :\n",
    "- Une boucle qui affiche (print) les éléments d'un tableau au fur et à mesure\n",
    "- Une boucle qui affiche (print) les entiers de 0 à 99 (inclus) au fur et à mesure\n",
    "- Une boucle qui affiche (print) les entiers de 0 à 1 000 au fur et à mesure avec un pas de 100\n",
    "\n",
    "**Pensez bien à rajouter une cellule de type \"code\" en appuyant sur le bouton \"+\" en haut à gauche**"
   ]
  },
  {
   "cell_type": "markdown",
   "metadata": {},
   "source": [
    "# Fonctions\n",
    "\n",
    "Comme tout langage de programmation, il est également possible en Python d'écrire des fonctions, le mot-clé est `def`. Etant donné qu'en Python, il n'y a pas d'accolades ({}) ou de point-virgules (;) pour définir les instructions dans le code, il faut mettre le contenu de la fonction en retrait par rapport au mot-clé \"def\", ceci est fait grâce à la touche tabulation (la touche à gauche de la touche \"A\" de votre clavier). Exemple :\n",
    "\n",
    "```python\n",
    "# Après le mot-clé \"def\", il faut définir le nom de la fonction (obligatoire) et faire suivre de \":\"\n",
    "def ma_fonction(): \n",
    "  print(\"Je suis une fonction\")\n",
    "```\n",
    "La fonction peut ensuite être appelée de la façon suivante `ma_fonction()`.\n",
    "\n",
    "Bien évidemment, une fonction peut prendre des paramètres, il est donc possible d'écrire la chose suivante :\n",
    "\n",
    "```python\n",
    "def ma_fonction_avec_paramtres(a, b):\n",
    "  print(\"Je suis une fonction qui prend deux paramètres\")\n",
    "```\n",
    "Ci-dessus on définit une fonction appelée \"ma_fonction_avec_paramtres\" acceptant deux paramètres appelés a et b respectivement.\n",
    "\n",
    "Enfin notez qu'une fonction défini une scope, une variable défini dans une fonction n'est pas accessible à l'extérieur d'une fonction n'est pas accessible à l'extérieur, il est en de même pour la boucle for et la structure if/else."
   ]
  },
  {
   "cell_type": "markdown",
   "metadata": {},
   "source": [
    "# A vous de coder\n",
    "\n",
    "Ecrire du code correspondant aux critères suivants : \n",
    "- Une fonction qui prend en paramètre un entier et le multiplie par lui-même et print() le résultat\n",
    "- Une fonction qui prend un paramètre un nom et un prénom et retourne la concaténation des deux chaînes.\n",
    "- Une fonction qui prend en paramètre une chaîne de caractères et la retourne à l'envers et print() le résultat\n",
    "- Une fonction qui prend en paramètre deux entiers, les divise et retourne en résultat l'entier le plus proche. Par exemple, si la fonction divise 5 par 3, la fonction doit retourner 2.\n",
    "\n",
    "N'oubliez pas d'appeler les fonctions et d'en afficher le résultat avec la fonction `print()`. Il faudra également penser à compiler en faisant la combinaison de touches `maj` + `entrée` ou cliquer sur le bouton \"exécuter\" placé plus haut."
   ]
  },
  {
   "cell_type": "markdown",
   "metadata": {},
   "source": [
    "Il est également possible de définir une valeur par défaut pour un paramètre d'une fonction. On procède comme ceci\n",
    "```python\n",
    "def params_defaut(a = 5, b = 4):\n",
    "  print(\"Je suis une fonction qui prend deux paramètres\", a, b)\n",
    "# Lorsque la fonction params_default est appelée sans paramètres, les paramètres a et b prendront comme valeur 5 et 4 respectivement.\n",
    "```"
   ]
  },
  {
   "cell_type": "markdown",
   "metadata": {},
   "source": [
    "Ceci met fin à ce TP concernant l'apprentissage Python."
   ]
  }
 ],
 "metadata": {
  "kernelspec": {
   "display_name": "Python 3",
   "language": "python",
   "name": "python3"
  },
  "language_info": {
   "codemirror_mode": {
    "name": "ipython",
    "version": 3
   },
   "file_extension": ".py",
   "mimetype": "text/x-python",
   "name": "python",
   "nbconvert_exporter": "python",
   "pygments_lexer": "ipython3",
   "version": "3.8.5"
  }
 },
 "nbformat": 4,
 "nbformat_minor": 4
}
