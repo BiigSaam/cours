{
 "cells": [
  {
   "cell_type": "markdown",
   "metadata": {},
   "source": [
    "# Exercice Prénoms\n",
    "\n",
    "Le but de cet exercice est d'utiliser les graphiques que nous avons précédemment vu sur notre dataset de prénoms ensemble, je coderai, et vous vous poserez les bonnes questions, dans une bonne démarche de data-scientifique.\n",
    "\n",
    "Quelle est l'évolution de tel prénom ? Quels sont les prénoms les plus populaires de l'année 2016 ?... Il y a plein de questions que nous pouvons nous poser et associer à un graphique."
   ]
  },
  {
   "cell_type": "markdown",
   "metadata": {},
   "source": [
    "# Pour les utilisateurs de Google colab\n",
    "\n",
    "Petit apparté pour les utilisateurs de google colab. Pour charger un fichier local, il faudra rajouter les lignes de codes suivantes :\n",
    "\n",
    "```python\n",
    "from google.colab import files\n",
    "uploaded = files.upload()\n",
    "\n",
    "import io\n",
    "# Très important : le nom du fichier passé en paramètre de la fonction \"uploaded\" doit avoir le même nom que le fichier que vous avez uploadé sinon, \n",
    "# vous aurez forcément une erreur\n",
    "df = pd.read_csv(io.BytesIO(uploaded['nom-du-fichier-uploader.csv']))\n",
    "```\n",
    "- **Ces lignes doivent être avant la manipulation d'un DataFrame et de préférence dans une cellule dédiée pour éviter d'uploader votre fichier à chaque fois**\n",
    "- **Vous ne pouvez pas importer de fichiers en navigation privée**\n",
    "\n",
    "- [Voir plus d'informations sur le chargement de fichiers externes avec Google colab - anglais](https://towardsdatascience.com/3-ways-to-load-csv-files-into-colab-7c14fcbdcb92)"
   ]
  },
  {
   "cell_type": "code",
   "execution_count": 37,
   "metadata": {},
   "outputs": [
    {
     "name": "stdout",
     "output_type": "stream",
     "text": [
      "L'archive n'est pas présente\n"
     ]
    },
    {
     "data": {
      "text/plain": [
       "sexe         int64\n",
       "preusuel    object\n",
       "annais      object\n",
       "dpt         object\n",
       "nombre       int64\n",
       "dtype: object"
      ]
     },
     "metadata": {},
     "output_type": "display_data"
    }
   ],
   "source": [
    "# On importe les bibliothèques dont nous aurons besoin\n",
    "import seaborn as sns\n",
    "import matplotlib.pyplot as plt\n",
    "import pandas as pd\n",
    "import numpy as np\n",
    "import random\n",
    "\n",
    "# Le fichier étant contenu dans un fichier zip, \n",
    "# nous allons désarchiver le tout avec python\n",
    "# On import donc la bibliothèque zipfile\n",
    "import zipfile\n",
    "\n",
    "chemin_zip = \"data/naissances-par-departement-1900-2019.zip\"\n",
    "try:\n",
    "    with zipfile.ZipFile(chemin_zip, 'r') as zip_ref:\n",
    "        zip_ref.extractall(\"data/\")\n",
    "except:\n",
    "    print(\"L'archive n'est pas présente\")\n",
    "\n",
    "# le fichier est chargé et devient DataFrame\n",
    "liste_prenoms_source = pd.read_csv(\"data/_tmp-naissances-par-departement-1900-2019.csv\", sep=\";\")\n",
    "display(liste_prenoms_source.dtypes)"
   ]
  },
  {
   "cell_type": "markdown",
   "metadata": {},
   "source": [
    "# Nettoyage des données\n",
    "Déjà fait pour vous. Il est dans la cellule ci-dessous."
   ]
  },
  {
   "cell_type": "code",
   "execution_count": 44,
   "metadata": {},
   "outputs": [
    {
     "data": {
      "text/html": [
       "<div>\n",
       "<style scoped>\n",
       "    .dataframe tbody tr th:only-of-type {\n",
       "        vertical-align: middle;\n",
       "    }\n",
       "\n",
       "    .dataframe tbody tr th {\n",
       "        vertical-align: top;\n",
       "    }\n",
       "\n",
       "    .dataframe thead th {\n",
       "        text-align: right;\n",
       "    }\n",
       "</style>\n",
       "<table border=\"1\" class=\"dataframe\">\n",
       "  <thead>\n",
       "    <tr style=\"text-align: right;\">\n",
       "      <th></th>\n",
       "      <th>sexe</th>\n",
       "      <th>preusuel</th>\n",
       "      <th>annais</th>\n",
       "      <th>dpt</th>\n",
       "      <th>nombre</th>\n",
       "      <th>personnalite</th>\n",
       "    </tr>\n",
       "  </thead>\n",
       "  <tbody>\n",
       "    <tr>\n",
       "      <th>3676676</th>\n",
       "      <td>2</td>\n",
       "      <td>ZYA</td>\n",
       "      <td>2017</td>\n",
       "      <td>974</td>\n",
       "      <td>3</td>\n",
       "      <td>Têtu(e), Téméraire</td>\n",
       "    </tr>\n",
       "    <tr>\n",
       "      <th>3676677</th>\n",
       "      <td>2</td>\n",
       "      <td>ZYA</td>\n",
       "      <td>2018</td>\n",
       "      <td>59</td>\n",
       "      <td>3</td>\n",
       "      <td>Déterminé(e), Têtu(e)</td>\n",
       "    </tr>\n",
       "    <tr>\n",
       "      <th>3676679</th>\n",
       "      <td>2</td>\n",
       "      <td>ZYNA</td>\n",
       "      <td>2013</td>\n",
       "      <td>93</td>\n",
       "      <td>3</td>\n",
       "      <td>Intuitif/Intuitive, Perceptif/Perceptive</td>\n",
       "    </tr>\n",
       "  </tbody>\n",
       "</table>\n",
       "</div>"
      ],
      "text/plain": [
       "         sexe preusuel annais  dpt  nombre  \\\n",
       "3676676     2      ZYA   2017  974       3   \n",
       "3676677     2      ZYA   2018   59       3   \n",
       "3676679     2     ZYNA   2013   93       3   \n",
       "\n",
       "                                     personnalite  \n",
       "3676676                        Têtu(e), Téméraire  \n",
       "3676677                     Déterminé(e), Têtu(e)  \n",
       "3676679  Intuitif/Intuitive, Perceptif/Perceptive  "
      ]
     },
     "metadata": {},
     "output_type": "display_data"
    }
   ],
   "source": [
    "liste_prenoms_nettoyage = liste_prenoms_source.copy()\n",
    "\n",
    "# On supprime les colonnes avec les lignes ayant des données manquantes\n",
    "liste_prenoms_nettoyage.dropna(inplace = True) \n",
    "\n",
    "# On supprime les lignes avec la valeur \"_PRENOMS_RARES\" pour la colonne \"preusuel\" ou\n",
    "# XXXX comme valeur pour l'année ou \n",
    "# XX comme valeur pour le département\n",
    "liste_prenoms_nettoyage = liste_prenoms_source[\n",
    "       (liste_prenoms_source[\"preusuel\"] != \"_PRENOMS_RARES\") &\n",
    "        (liste_prenoms_source[\"annais\"] != \"XXXX\") &\n",
    "    (liste_prenoms_source[\"dpt\"] != \"XX\")\n",
    "]\n",
    "# Il est tout à fait possible de nettoyer d'une autre façon, nous aurions pu, par exemple, remplacer \n",
    "# les années XXXX par une année définie si ceci ne vous dérange pas. \n",
    "\n",
    "liste_prenoms_df = liste_prenoms_nettoyage.copy()\n",
    "\n",
    "display(liste_prenoms_df.tail(3))"
   ]
  },
  {
   "cell_type": "markdown",
   "metadata": {},
   "source": [
    "# Ajout de données\n",
    "Pour voir plus de cas lors de notre exercice, nous allons ajouter des colonnes à notre DataFrame."
   ]
  },
  {
   "cell_type": "code",
   "execution_count": 46,
   "metadata": {},
   "outputs": [
    {
     "data": {
      "text/html": [
       "<div>\n",
       "<style scoped>\n",
       "    .dataframe tbody tr th:only-of-type {\n",
       "        vertical-align: middle;\n",
       "    }\n",
       "\n",
       "    .dataframe tbody tr th {\n",
       "        vertical-align: top;\n",
       "    }\n",
       "\n",
       "    .dataframe thead th {\n",
       "        text-align: right;\n",
       "    }\n",
       "</style>\n",
       "<table border=\"1\" class=\"dataframe\">\n",
       "  <thead>\n",
       "    <tr style=\"text-align: right;\">\n",
       "      <th></th>\n",
       "      <th>sexe</th>\n",
       "      <th>preusuel</th>\n",
       "      <th>annais</th>\n",
       "      <th>dpt</th>\n",
       "      <th>nombre</th>\n",
       "      <th>personnalite</th>\n",
       "    </tr>\n",
       "  </thead>\n",
       "  <tbody>\n",
       "    <tr>\n",
       "      <th>10784</th>\n",
       "      <td>1</td>\n",
       "      <td>AADIL</td>\n",
       "      <td>1983</td>\n",
       "      <td>84</td>\n",
       "      <td>3</td>\n",
       "      <td>Efficace, Drôle</td>\n",
       "    </tr>\n",
       "    <tr>\n",
       "      <th>10785</th>\n",
       "      <td>1</td>\n",
       "      <td>AADIL</td>\n",
       "      <td>1992</td>\n",
       "      <td>92</td>\n",
       "      <td>3</td>\n",
       "      <td>Patient(e), Perceptif/Perceptive</td>\n",
       "    </tr>\n",
       "    <tr>\n",
       "      <th>10787</th>\n",
       "      <td>1</td>\n",
       "      <td>AAHIL</td>\n",
       "      <td>2016</td>\n",
       "      <td>95</td>\n",
       "      <td>3</td>\n",
       "      <td>Charismatique, Drôle</td>\n",
       "    </tr>\n",
       "    <tr>\n",
       "      <th>10790</th>\n",
       "      <td>1</td>\n",
       "      <td>AARON</td>\n",
       "      <td>1962</td>\n",
       "      <td>75</td>\n",
       "      <td>3</td>\n",
       "      <td>Créatif/Créative, Bienveillance</td>\n",
       "    </tr>\n",
       "    <tr>\n",
       "      <th>10791</th>\n",
       "      <td>1</td>\n",
       "      <td>AARON</td>\n",
       "      <td>1976</td>\n",
       "      <td>75</td>\n",
       "      <td>3</td>\n",
       "      <td>Sérieux/Sérieuse, Vif/Vive</td>\n",
       "    </tr>\n",
       "    <tr>\n",
       "      <th>...</th>\n",
       "      <td>...</td>\n",
       "      <td>...</td>\n",
       "      <td>...</td>\n",
       "      <td>...</td>\n",
       "      <td>...</td>\n",
       "      <td>...</td>\n",
       "    </tr>\n",
       "    <tr>\n",
       "      <th>3676674</th>\n",
       "      <td>2</td>\n",
       "      <td>ZYA</td>\n",
       "      <td>2013</td>\n",
       "      <td>44</td>\n",
       "      <td>4</td>\n",
       "      <td>Vif/Vive, Aventureux/Aventureuse</td>\n",
       "    </tr>\n",
       "    <tr>\n",
       "      <th>3676675</th>\n",
       "      <td>2</td>\n",
       "      <td>ZYA</td>\n",
       "      <td>2013</td>\n",
       "      <td>59</td>\n",
       "      <td>3</td>\n",
       "      <td>Naïf/Naïve, Patient(e)</td>\n",
       "    </tr>\n",
       "    <tr>\n",
       "      <th>3676676</th>\n",
       "      <td>2</td>\n",
       "      <td>ZYA</td>\n",
       "      <td>2017</td>\n",
       "      <td>974</td>\n",
       "      <td>3</td>\n",
       "      <td>Travailleur/Travailleuse, Empathique</td>\n",
       "    </tr>\n",
       "    <tr>\n",
       "      <th>3676677</th>\n",
       "      <td>2</td>\n",
       "      <td>ZYA</td>\n",
       "      <td>2018</td>\n",
       "      <td>59</td>\n",
       "      <td>3</td>\n",
       "      <td>Sérieux/Sérieuse, Persuasif/Persuasive</td>\n",
       "    </tr>\n",
       "    <tr>\n",
       "      <th>3676679</th>\n",
       "      <td>2</td>\n",
       "      <td>ZYNA</td>\n",
       "      <td>2013</td>\n",
       "      <td>93</td>\n",
       "      <td>3</td>\n",
       "      <td>Intuitif/Intuitive, Persuasif/Persuasive</td>\n",
       "    </tr>\n",
       "  </tbody>\n",
       "</table>\n",
       "<p>3618401 rows × 6 columns</p>\n",
       "</div>"
      ],
      "text/plain": [
       "         sexe preusuel annais  dpt  nombre  \\\n",
       "10784       1    AADIL   1983   84       3   \n",
       "10785       1    AADIL   1992   92       3   \n",
       "10787       1    AAHIL   2016   95       3   \n",
       "10790       1    AARON   1962   75       3   \n",
       "10791       1    AARON   1976   75       3   \n",
       "...       ...      ...    ...  ...     ...   \n",
       "3676674     2      ZYA   2013   44       4   \n",
       "3676675     2      ZYA   2013   59       3   \n",
       "3676676     2      ZYA   2017  974       3   \n",
       "3676677     2      ZYA   2018   59       3   \n",
       "3676679     2     ZYNA   2013   93       3   \n",
       "\n",
       "                                     personnalite  \n",
       "10784                             Efficace, Drôle  \n",
       "10785            Patient(e), Perceptif/Perceptive  \n",
       "10787                        Charismatique, Drôle  \n",
       "10790             Créatif/Créative, Bienveillance  \n",
       "10791                  Sérieux/Sérieuse, Vif/Vive  \n",
       "...                                           ...  \n",
       "3676674          Vif/Vive, Aventureux/Aventureuse  \n",
       "3676675                    Naïf/Naïve, Patient(e)  \n",
       "3676676      Travailleur/Travailleuse, Empathique  \n",
       "3676677    Sérieux/Sérieuse, Persuasif/Persuasive  \n",
       "3676679  Intuitif/Intuitive, Persuasif/Persuasive  \n",
       "\n",
       "[3618401 rows x 6 columns]"
      ]
     },
     "metadata": {},
     "output_type": "display_data"
    }
   ],
   "source": [
    "# Rajout d'une colonne concernant les traits de personnalités liés à une personne. \n",
    "liste_traits_personnalite = [\"Bienveillance\", \"Empathique\", \n",
    "                             \"Téméraire\", \"Gentillesse\", \n",
    "                             \"Romantique\", \"Têtu(e)\", \"Déterminé(e)\",\n",
    "                             \"Drôle\", \"Naïf/Naïve\", \"Charismatique\",\n",
    "                             \"Aventureux/Aventureuse\", \"Autonome\", \"Courtois(e)\",\n",
    "                             \"Créatif/Créative\", \"Efficace\", \"Amical(e)\",\n",
    "                             \"Intuitif/Intuitive\", \"Méticuleux/Méticuleuse\", \"Persuasif/Persuasive\",\n",
    "                             \"Bavard(e)\", \"Patient(e)\", \"Travailleur/Travailleuse\",\n",
    "                             \"Paresseux/Paresseuse\", \"Sérieux/Sérieuse\", \"Patient(e)\", \n",
    "                             \"Vif/Vive\", \"Perceptif/Perceptive\", \"Pudique\",\n",
    "                             \"Impulsive/Impulsif\", \"Timide\", \"Respecteux/Respecteuse\",\n",
    "                             \"Bienveillant(e)\", \"Extraverti(e)\", \"Consciencieux/Conscieuseuse\"\n",
    "                            ]\n",
    "\n",
    "colonne_traits_personnalite = np.random.choice(liste_traits_personnalite, size=(len(liste_prenoms_df)))\n",
    "colonne_traits_personnalite = [\n",
    "    f\"{s}, {random.choice(colonne_traits_personnalite)}\" for s in colonne_traits_personnalite\n",
    "]\n",
    "\n",
    "liste_prenoms_df['personnalite'] = colonne_traits_personnalite\n",
    "\n",
    "display(liste_prenoms_df) "
   ]
  },
  {
   "cell_type": "markdown",
   "metadata": {},
   "source": [
    "# Exercice 1 - Ligne (line chart)\n",
    "\n",
    "Afficher un graphique de type ligne. Posons-nous des questions !"
   ]
  },
  {
   "cell_type": "code",
   "execution_count": 2,
   "metadata": {},
   "outputs": [],
   "source": [
    "# Notre code"
   ]
  },
  {
   "cell_type": "markdown",
   "metadata": {},
   "source": [
    "# Exercice 2 - Diagramme en bâtons\n",
    "\n",
    "Afficher un graphique de type bâtons. Posons-nous des questions !"
   ]
  },
  {
   "cell_type": "code",
   "execution_count": null,
   "metadata": {},
   "outputs": [],
   "source": [
    "# Notre code"
   ]
  },
  {
   "cell_type": "markdown",
   "metadata": {},
   "source": [
    "# Exercice 3 - Diagramme circulaire\n",
    "\n",
    "Afficher un graphique de type bâtons. Posons-nous des questions !"
   ]
  },
  {
   "cell_type": "code",
   "execution_count": null,
   "metadata": {},
   "outputs": [],
   "source": [
    "# Notre code"
   ]
  }
 ],
 "metadata": {
  "kernelspec": {
   "display_name": "Python 3",
   "language": "python",
   "name": "python3"
  },
  "language_info": {
   "codemirror_mode": {
    "name": "ipython",
    "version": 3
   },
   "file_extension": ".py",
   "mimetype": "text/x-python",
   "name": "python",
   "nbconvert_exporter": "python",
   "pygments_lexer": "ipython3",
   "version": "3.8.5"
  }
 },
 "nbformat": 4,
 "nbformat_minor": 4
}
