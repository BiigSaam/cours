{
 "cells": [
  {
   "cell_type": "markdown",
   "metadata": {},
   "source": [
    "### Un excellent graphique est celui qui donne au spectateur le plus grand nombre d'idées avec le moins d'encre possible, dans le plus petit espace. \n",
    "Edward R. Tufte, Professeur de statistiques à l’université de Yale"
   ]
  },
  {
   "cell_type": "markdown",
   "metadata": {},
   "source": [
    "En datascience, il existe plusieurs bibliothèques pour afficher des graphiques :\n",
    "- matplotlib\n",
    "- pandas : pandas utiliser une version trop simplifiée de matplotlib (à éviter si possible)\n",
    "- seaborn : une version améliorée de matplotlib\n",
    "\n",
    "Dans le cadre de ce TP nous allons utiliser seaborn. Pourquoi ? L'outil offre plus de graphiques comparé à matplotlib et des designs plus élégants. Toutefois, pour utiliser seaborn, il faudra utiliser (et importer) matplotlib pour afficher nos graphiques. Notez qu'il existe également yellowbrick ou encore bokeh pour gérer les graphiques.\n",
    "\n",
    "Et pour tester ce nouvel outil, nous allons réutiliser notre DataFrame des naissances par département. Malgré son petit nombre de colonnes, il est possible de s'essayer avec plein de types de graphiques."
   ]
  },
  {
   "cell_type": "markdown",
   "metadata": {},
   "source": [
    "# Pour les utilisateurs de Google colab\n",
    "\n",
    "Petit apparté pour les utilisateurs de google colab. Pour utiliser la méthode `pd.read_csv()`, il faudra rajouter quelques lignes de codes supplémentaires pour pouvoir charger un fichier, les voici.\n",
    "\n",
    "\n",
    "```python\n",
    "# Première cellule jupyter\n",
    "from google.colab import files\n",
    "uploaded = files.upload()\n",
    "```\n",
    "\n",
    "```python\n",
    "# Seconde cellule jupyter\n",
    "import io\n",
    "# Très important : le nom du fichier passé en paramètre de la fonction \"uploaded\" doit avoir le même nom que le fichier que vous avez uploadé\n",
    "df = pd.read_csv(io.BytesIO(uploaded['nom-du-fichier-uploader.csv']))\n",
    "```\n",
    "\n",
    "- [Voir plus  d'informations sur le chargement de fichiers externes avec Google colab](https://towardsdatascience.com/3-ways-to-load-csv-files-into-colab-7c14fcbdcb92)"
   ]
  },
  {
   "cell_type": "code",
   "execution_count": null,
   "metadata": {},
   "outputs": [],
   "source": [
    "import pandas as pd\n",
    "\n",
    "# On importe seaborn et matplotlib vu que nous allons l'utiliser\n",
    "import seaborn as sns\n",
    "import matplotlib.pyplot as plt\n",
    "\n",
    "plt.ion()\n",
    "\n",
    "# le fichier est chargé en tant que DataFrame\n",
    "liste_prenoms_source = pd.read_csv(\"data/naissances-par-departement-1900-2019.csv\", sep=\";\") \n",
    "liste_prenoms_source.head()"
   ]
  },
  {
   "cell_type": "code",
   "execution_count": null,
   "metadata": {},
   "outputs": [],
   "source": [
    "liste_prenoms_nettoyage = liste_prenoms_source.copy()\n",
    "# Nettoyage de notre dataset\n",
    "\n",
    "# On supprime les colonnes avec les lignes ayant des données manquantes\n",
    "liste_prenoms_nettoyage.dropna(inplace = True) \n",
    "\n",
    "# On supprime les lignes avec la valeur \"_PRENOMS_RARES\" pour la colonne \"preusuel\" ou\n",
    "# XXXX comme valeur pour l'année ou \n",
    "# XX comme valeur pour le département\n",
    "liste_prenoms_nettoyage = liste_prenoms_source[\n",
    "       (liste_prenoms_source[\"preusuel\"] != \"_PRENOMS_RARES\") &\n",
    "        (liste_prenoms_source[\"annais\"] != \"XXXX\") &\n",
    "    (liste_prenoms_source[\"dpt\"] != \"XX\")\n",
    "]"
   ]
  },
  {
   "cell_type": "markdown",
   "metadata": {},
   "source": [
    "# Ligne (line chart)\n",
    "\n",
    "Assurément l'un des graphiques les plus simples, la ligne permet soit d'afficher la corrélation entre données (une données est exprimée sur l'axe X, et l'autre sur l'axe Y) ou l'évolution d'une donnée au fil du temps. Par ailleurs, notez qu'il est possible d'avoir plusieurs axe Y ou X, mais faites attention à la lisibilité."
   ]
  },
  {
   "cell_type": "code",
   "execution_count": null,
   "metadata": {},
   "outputs": [],
   "source": [
    "# Pour commencer, nous allons afficher l'évolution du nombre de naissances d'un prénom\n",
    "\n",
    "prenom = \"agathe\"\n",
    "un_prenom_df = liste_prenoms_nettoyage[\n",
    "    liste_prenoms_nettoyage[\"preusuel\"].str.lower() == prenom\n",
    "].sort_values(by=['annais'])\n",
    "\n",
    "un_prenom_df = un_prenom_df.groupby(['annais','preusuel'], as_index=False).agg({'nombre': 'sum'})\n",
    "\n",
    "plt.figure(figsize=(40, 10))\n",
    "ligne_graph = sns.lineplot(\n",
    "        x=\"annais\", y=\"nombre\", \n",
    "        data=un_prenom_df\n",
    ")\n",
    "plt.xticks(rotation=45)\n",
    "ligne_graph.set_title('zoom')\n"
   ]
  },
  {
   "cell_type": "markdown",
   "metadata": {},
   "source": [
    "Vous remarquez que malgré l'affichage d'un graphique\n",
    "\n",
    "conda install -c conda-forge ipympl\n",
    "\n",
    "%matplotlib widget"
   ]
  },
  {
   "cell_type": "code",
   "execution_count": null,
   "metadata": {},
   "outputs": [],
   "source": [
    "# pip install ipympl\n",
    "\n",
    "# %matplotlib widget"
   ]
  },
  {
   "cell_type": "code",
   "execution_count": 4,
   "metadata": {},
   "outputs": [
    {
     "data": {
      "application/vnd.jupyter.widget-view+json": {
       "model_id": "0daa41a57ef849e2ae155ef536111db4",
       "version_major": 2,
       "version_minor": 0
      },
      "text/plain": [
       "interactive(children=(IntSlider(value=5, description='var', max=10, min=1), Output()), _dom_classes=('widget-i…"
      ]
     },
     "metadata": {},
     "output_type": "display_data"
    },
    {
     "data": {
      "text/plain": [
       "<function __main__.f(var)>"
      ]
     },
     "execution_count": 4,
     "metadata": {},
     "output_type": "execute_result"
    }
   ],
   "source": [
    "from ipywidgets import interact\n",
    "import numpy as np\n",
    "import seaborn as sns\n",
    "import matplotlib.pyplot as plt\n",
    "\n",
    "def f(var):\n",
    "    sns.displot(np.random.normal(1, var, 1000))\n",
    "    plt.show()\n",
    "interact(f, var = (1,10))"
   ]
  },
  {
   "cell_type": "code",
   "execution_count": null,
   "metadata": {},
   "outputs": [],
   "source": []
  }
 ],
 "metadata": {
  "kernelspec": {
   "display_name": "Python 3",
   "language": "python",
   "name": "python3"
  },
  "language_info": {
   "codemirror_mode": {
    "name": "ipython",
    "version": 3
   },
   "file_extension": ".py",
   "mimetype": "text/x-python",
   "name": "python",
   "nbconvert_exporter": "python",
   "pygments_lexer": "ipython3",
   "version": "3.8.5"
  }
 },
 "nbformat": 4,
 "nbformat_minor": 4
}
