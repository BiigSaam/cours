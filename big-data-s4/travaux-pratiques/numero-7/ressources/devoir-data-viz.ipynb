{
 "cells": [
  {
   "cell_type": "markdown",
   "metadata": {},
   "source": [
    "# Devoir data-visualisation\n",
    "\n",
    "Mettez en œuvre vos connaissances et applications des bibliothèques seaborn et matplotlib. A partir d'un dataset que vous aurez (ou avez) choisi, posez-vous des questions pertinentes (au minimum quatre) sur votre dataset puis affichez les graphiques pertinents associés à vos questions. Dans une démarche de data-scientifique, n'oubliez pas de tirer des conclusions, un graphique (même avec les légendes et autres titres) sans conclusions / interprétations n'a pas de réel intérêt pour l'utilisateur final. Ainsi pour chaque question est attendu la chose suivante :\n",
    "- Une question\n",
    "- Un graphique (avec titre, légendes...), un graphique clair en somme\n",
    "- Une conclusion. Inutile d'être prolixe, une liste de conclusion me convient\n",
    "\n",
    "- Liens vers les datasets : https://downgit.github.io/#/home?url=https://github.com/DanYellow/cours/tree/main/big-data-s4/datasets\n",
    "\n",
    "J'ai essayé de prendre des datasets sur des sujets qui pourraient vous intéresser, s'ils ne vous intéressent pas, vous pouvez bien évidemment prendre un autre dataset, en revanche, assurez-vous bien qu'il est exploitable. Par-là comprennez que ce dataset possède suffisamment de données pour que vous puissiez vous poser des questions pertinentes, des graphiques et des conclusions.\n",
    "\n",
    "**Note : Si votre dataset est trop lourd. Vous devez impérativement l'archiver avant d'envoyer votre devoir.**\n",
    "\n",
    "Rendus attendus :\n",
    "- Une archive nommée avec notre nom-prénom contenant \n",
    "    - votre notebook\n",
    "    - votre dataset (pas grave s'il est dans un sous-dossier)\n",
    "    - Le barème (fichier .ods). N'oubliez pas de renommer la cellule associée avec notre nom-prénom\n",
    "\n",
    "**Note 2 : Si je dois debbuger votre code, je metterai des points en moins.**\n",
    "\n",
    "La date limite est indiquée sur ENT, passé ce délai vous aurez un demi-point en moins par jour de retard, passé la date limite de dépôt (aussi sur ENT), je serai contraint de vous mettre un zéro. **Ce devoir est noté avec un coefficient de deux.**\n",
    "\n",
    "\n",
    "**Note 3 : Avant de rendre votre projet assurez-vous bien que votre projet fonctionne correctement. Pour vous en assurer vous pouvez exécuter toutes les cellules avec le menu `Cell > Run All`, puis vérifiez bien que tout fonctionne comme attendu.**"
   ]
  },
  {
   "cell_type": "markdown",
   "metadata": {},
   "source": [
    "# Pour les utilisateurs de Google colab (supprimez cette cellule si vous n'en avez pas/plus besoin)\n",
    "\n",
    "```\n",
    "Pour supprimer une cellule. Menu \"Edit\" > \"Delete Cells\".\n",
    "Vous pouvez aussi remplacer le contenu de cette cellule.\n",
    "```\n",
    "Petit apparté pour les utilisateurs de google colab. Pour utiliser la méthode `pd.read_csv()`, il faudra rajouter quelques lignes de codes supplémentaires pour pouvoir charger un fichier, les voici.\n",
    "\n",
    "```python\n",
    "# Première cellule jupyter\n",
    "from google.colab import files\n",
    "uploaded = files.upload()\n",
    "```\n",
    "\n",
    "```python\n",
    "# Seconde cellule jupyter\n",
    "import io\n",
    "# Très important : le nom du fichier passé en paramètre de la fonction \"uploaded\" doit avoir le même nom que le fichier que vous avez uploadé\n",
    "df = pd.read_csv(io.BytesIO(uploaded['nom-du-fichier-uploader.csv']))\n",
    "```\n",
    "\n",
    "- [Voir plus d'informations sur le chargement de fichiers externes avec Google colab](https://towardsdatascience.com/3-ways-to-load-csv-files-into-colab-7c14fcbdcb92)"
   ]
  },
  {
   "cell_type": "markdown",
   "metadata": {},
   "source": [
    "# Phase 1 - Chargement des données"
   ]
  },
  {
   "cell_type": "code",
   "execution_count": 2,
   "metadata": {},
   "outputs": [],
   "source": [
    "import seaborn as sns\n",
    "import matplotlib.pyplot as plt\n",
    "import pandas as pd\n",
    "import numpy as np\n",
    "\n",
    "# Note IMPORTANTE : Si votre DataFrame ne s'affiche pas correctement, \n",
    "# vérifiez bien le séparateur. Par défaut pandas s'attend à une virgule (,) \n",
    "# comme séparateur de dataset s'il est au format .csv, \n",
    "# si votre dataset utilise un autre caractère, il faudra le préciser grâce au paramètre \"sep\".\n",
    "# Par exemple : pd.read_csv(\"lien-vers-mon-dataset\")\n",
    "source_dataframe = pd.read_csv(\"\")"
   ]
  },
  {
   "cell_type": "markdown",
   "metadata": {},
   "source": [
    "# Phase 2 : Exploration des données\n",
    "\n",
    "But : S'approprier le DataFrame, voir brièvement ce qu'on peut en tirer."
   ]
  },
  {
   "cell_type": "markdown",
   "metadata": {},
   "source": [
    "# Phase 3 : Nettoyage des données\n",
    "\n",
    "But : Retirer toutes les valeurs qui pourraient nous poser problème."
   ]
  },
  {
   "cell_type": "markdown",
   "metadata": {},
   "source": [
    "# Phase 4 : Interrogations\n",
    "\n",
    "Vous pouvez lister vos questions ici (minimum 4)."
   ]
  },
  {
   "cell_type": "markdown",
   "metadata": {},
   "source": [
    "# Phase 5 : Modélisations des données\n",
    "\n",
    "But : Transformer votre DataFrame (pensez bien à le copier avant `.copy()`) pour répondre à vos questions et faire vos graphiques."
   ]
  }
 ],
 "metadata": {
  "kernelspec": {
   "display_name": "Python 3",
   "language": "python",
   "name": "python3"
  },
  "language_info": {
   "codemirror_mode": {
    "name": "ipython",
    "version": 3
   },
   "file_extension": ".py",
   "mimetype": "text/x-python",
   "name": "python",
   "nbconvert_exporter": "python",
   "pygments_lexer": "ipython3",
   "version": "3.8.5"
  }
 },
 "nbformat": 4,
 "nbformat_minor": 4
}
