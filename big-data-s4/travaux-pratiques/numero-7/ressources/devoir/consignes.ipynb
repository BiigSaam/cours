{
 "cells": [
  {
   "cell_type": "markdown",
   "metadata": {},
   "source": [
    "# Devoir data-visualisation\n",
    "\n",
    "**De façon individuelle,** mettez en œuvre vos connaissances et applications des bibliothèques seaborn et matplotlib. A partir d'un dataset que vous aurez (ou avez) choisi, **posez-vous** des questions pertinentes (au minimum quatre) sur votre dataset puis affichez les graphiques pertinents associés aux réponses à vos questions. Dans une démarche de data-scientifique/analyste, n'oubliez pas de tirer des conclusions, un graphique (même avec les légendes et autres titres) sans conclusions / interprétations n'a pas de réel intérêt pour l'utilisateur final / le pôle métier d'une entreprise. Ainsi pour chaque question est attendu la chose suivante :\n",
    "- Une question\n",
    "- Un graphique (avec titre, légendes...), un graphique clair en somme\n",
    "- Une conclusion. Inutile d'être prolixe, toutefois vos conclusions ne doivent pas être des constats. Évitez donc de dire \"ça monte, ça descend\", essayez d'expliquer, de théoriser vos résultats en croisant des données ou encore en les contextualisant. **Faites donc un effort rédactionnel.** \n",
    "\n",
    "Vous êtes en MMI, vous avez vu au cours de ces quatre semestres la mise en page ou encore le graphisme, rien ne vous empêche de faire une belle infographie. Pour rappel, seaborn/matplotlib permet d'exporter votre graphique au format image (\"png\", \"pdf\", \"svg\", \"jpg\", ...) grâce à la méthode \"savefig()\" ensuite à vous de l'importer dans InDesign ou encore Illustrator.\n",
    "- [Voir documentation de la méthode savefig()](https://matplotlib.org/stable/api/_as_gen/matplotlib.pyplot.savefig.html)\n",
    "- [Voir examples de la méthode savefig()](https://www.statology.org/matplotlib-save-figure/)\n",
    "\n",
    "Vous trouverez un fichier \"gabarit.ipynb\" pour vous aider à démarrer votre devoir. **Il devra être remis avant la date butoir, la date vous sera transmise ultérieurement.**\n",
    "\n",
    "Si vous n'avez pas d'idées de dataset, une sélection a été faite par nos soins :\n",
    "- [Voir ensemble de datasets récoltés pour le cours](https://github.com/DanYellow/cours/tree/main/big-data-s4/datasets)\n",
    "  - Note : il y a un fichier .txt parfois, il explique les colonnes quand elles sont trop sibyllines. [Plus d'infos ici](https://raw.githubusercontent.com/DanYellow/cours/main/big-data-s4/datasets/__guide-datasets.txt)\n",
    "\n",
    "Pour télécharger les fichiers .csv ou .xlsx, il vous faudra cliquer sur le bouton \"Raw\" et ensuite faire `ctrl + s` ou `Clic droit > Enregistrer sous`.\n",
    "\n",
    "Si la sélection ne vous intéresse pas, vous pourrez trouver des jeux de données sur des sujets variés ici :\n",
    "\n",
    "- [Voir site des données ouvertes du gouvernement](https://www.data.gouv.fr/)\n",
    "- [Voir site des données ouvertes de l'insee](https://www.insee.fr/fr/statistiques?categorie=1)\n",
    "- [Voir moteur de recherche de Google dédié aux datasets](https://datasetsearch.research.google.com/)\n",
    "- [Voir site des données ouvertes de l'éducation nationale](https://data.education.gouv.fr/)\n",
    "- [Voir site des données ouvertes de l'enseignement supérieur](https://data.enseignementsup-recherche.gouv.fr/pages/home/)\n",
    "- [Voir ensemble de sites pour datasets](https://github.com/DanYellow/cours/blob/main/big-data-s4/datasets/_liste-sites-source-pour-datasets.txt)\n",
    "\n",
    "Les sites des ministères du gouvernement français (et parfois d'autres pays) proposent souvent de l'Open Data.\n",
    "\n",
    "**Tous les datasets ne sont pas forcément au format .csv. Ils sont parfois au format .xlsx/.xls ou .json**. Il faudra donc utiliser les fonctions `pd.read_excel()` ([voir documentation](https://pandas.pydata.org/docs/reference/api/pandas.read_excel.html)) ou `pd.read_json()` ([voir documentation](https://pandas.pydata.org/docs/reference/api/pandas.read_json.html)) respectivement.\n",
    "\n",
    "**Vous avez tous à fait le droit** d'utiliser le dataset utilisé dans le devoir précédent\n",
    "\n",
    "**Vous ne devez pas utiliser un dataset sur la COVID ou le Titanic pour ce devoir, il est vu et revu, et surtout déjà corrigé en ligne.** Prenez un sujet qui vous parle, vous pourriez être suppris en explorant un dataset concernant ce sujet.\n",
    "\n",
    "## Rendus attendus :\n",
    "- **Une archive nommée avec notre nom-prénom contenant :**\n",
    "    - Votre notebook\n",
    "    - Votre dataset\n",
    "    - Le barème (fichier .ods). N'oubliez pas de renommer la cellule associée avec notre nom-prénom\n",
    "\n",
    "**Note 2 : Si je dois debbuger votre code pour qu'il fonctionne, je metterai des points en moins.**\n",
    "**Note 3 : J'enlèverai des points si votre archive n'est pas nommée \"nom-prénom\".**\n",
    "\n",
    "La date limite est indiquée sur ENT, passé ce délai vous aurez un demi-point en moins par jour de retard, passé la date limite de dépôt (aussi sur ENT), je serai contraint de vous mettre un zéro. **Ce devoir est noté avec un coefficient de deux.**\n",
    "\n",
    "**Note 4 : Avant de rendre votre projet assurez-vous bien que votre projet fonctionne correctement. Pour vous en assurer vous pouvez exécuter toutes les cellules avec le menu `Cell > Run All`, puis vérifiez bien que tout fonctionne comme attendu.**"
   ]
  },
  {
   "cell_type": "markdown",
   "metadata": {},
   "source": [
    "# Rendu attendus\n",
    "\n",
    "- Une **archive** nommée nom-prénom contenant :\n",
    "  - Votre notebook \n",
    "  - Votre dataset\n",
    "  - Le barème (fichier .ods)\n",
    "    - N'oubliez pas de renommer la cellule associée avec notre nom-prénom"
   ]
  },
  {
   "cell_type": "markdown",
   "metadata": {},
   "source": [
    "# Votre liste à faire\n",
    "- [x] Lire les consignes\n",
    "- [ ] Lire le barème de notation\n",
    "- [ ] Trouver un jeu de données pertinent\n",
    "- [ ] Explorer le jeu de données\n",
    "- [ ] Trouver des questions (minimum 4) **pertinentes** \n",
    "- [ ] Filtrer le jeu de données pour répondre à mes questions\n",
    "- [ ] Afficher les graphiques (avec annotations)\n",
    "- [ ] Rédiger les conclusions pour chaque question\n",
    "  - [ ] Mes conclusions témoignent d'une réelle réflexion et volonté de théoriser les résultats\n",
    "- [ ] Faire une archive nommée avec mon nom-prénom contenant :\n",
    "  - [ ] Votre notebook\n",
    "    - [ ] L'option \"Run All\" fonctionne sans problème, Jupyter n'affiche aucune erreur\n",
    "  - [ ] Votre dataset (pas grave s'il est dans un sous-dossier)\n",
    "  - [ ] Le barème (fichier .ods)\n",
    "    - N'oubliez pas de renommer la cellule associée avec notre nom-prénom"
   ]
  }
 ],
 "metadata": {
  "interpreter": {
   "hash": "8ed06d07b9ff369db6ed7b53447be18709da67cd911d838d72fee7fecb26667a"
  },
  "kernelspec": {
   "display_name": "Python 3.10.0 64-bit",
   "name": "python3"
  },
  "language_info": {
   "name": "python",
   "version": ""
  }
 },
 "nbformat": 4,
 "nbformat_minor": 4
}
