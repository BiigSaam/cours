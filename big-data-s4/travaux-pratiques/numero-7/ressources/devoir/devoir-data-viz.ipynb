{
 "cells": [
  {
   "cell_type": "markdown",
   "metadata": {},
   "source": [
    "# Devoir data-visualisation\n",
    "\n",
    "Mettez en œuvre vos connaissances et applications des bibliothèques seaborn et matplotlib. A partir d'un dataset que vous aurez (ou avez) choisi (**pas celui des prénoms**), posez-vous des questions pertinentes (au minimum quatre) sur votre dataset puis affichez les graphiques pertinents associés à vos questions. Dans une démarche de data-scientifique//analyste, n'oubliez pas de tirer des conclusions, un graphique (même avec les légendes et autres titres) sans conclusions / interprétations n'a pas de réel intérêt pour l'utilisateur final / le pôle métier d'une entreprise. Ainsi pour chaque question est attendu la chose suivante :\n",
    "- Une question\n",
    "- Un graphique (avec titre, légendes...), un graphique clair en somme\n",
    "- Une conclusion. Inutile d'être prolixe, une liste de conclusions **pertinentes** suffit mais dans l'approche du module \"data-journalisme\", **faire un effort rédactionnel est une bonne habitude à prendre.**\n",
    "\n",
    "Vous êtes en DUT MMI, vous avez vu au cours de ces quatre semestres la mise en page ou encore le graphisme, rien ne vous empêche de faire une belle infographie. Pour rappel, seaborn/matplotlib permet d'exporter votre graphique au format image (\"png\", \"pdf\", \"svg\", \"jpg\", ...) grâce à la méthode \"savefig()\".\n",
    "- [Voir documentation de la méthode savefig()](https://matplotlib.org/stable/api/_as_gen/matplotlib.pyplot.savefig.html)\n",
    "- [Voir examples de la méthode savefig()](https://www.statology.org/matplotlib-save-figure/)\n",
    "\n",
    "- [Accéder aux datasets](https://downgit.github.io/#/home?url=https://github.com/DanYellow/cours/tree/main/big-data-s4/datasets)\n",
    "\n",
    "J'ai essayé de prendre des datasets sur des sujets qui pourraient vous intéresser, s'ils ne vous intéressent pas, vous pouvez bien évidemment prendre un autre dataset, en revanche, assurez-vous bien qu'il est exploitable. Par-là comprennez que ce dataset possède suffisamment de données pour que vous puissiez vous poser des questions pertinentes, des graphiques et des conclusions.\n",
    "\n",
    "## Rendus attendus :\n",
    "- **Une archive nommée avec notre nom-prénom contenant :**\n",
    "    - Votre notebook\n",
    "    - Votre dataset (pas grave s'il est dans un sous-dossier)\n",
    "    - Le barème (fichier .ods). N'oubliez pas de renommer la cellule associée avec notre nom-prénom\n",
    "\n",
    "**Note 2 : Si je dois debbuger votre code pour qu'il fonctionne, je metterai des points en moins.**\n",
    "**Note 3 : J'enlèverai un point si votre archive n'est pas nommée \"nom-prénom\".**\n",
    "\n",
    "La date limite est indiquée sur ENT, passé ce délai vous aurez un demi-point en moins par jour de retard, passé la date limite de dépôt (aussi sur ENT), je serai contraint de vous mettre un zéro. **Ce devoir est noté avec un coefficient de deux.**\n",
    "\n",
    "**Note 4 : Avant de rendre votre projet assurez-vous bien que votre projet fonctionne correctement. Pour vous en assurer vous pouvez exécuter toutes les cellules avec le menu `Cell > Run All`, puis vérifiez bien que tout fonctionne comme attendu.**\n",
    "\n",
    "# Votre liste à faire\n",
    "- [x] Lire les consignes\n",
    "- [ ] Trouver un jeu de données pertinent\n",
    "- [ ] Explorer le jeu de données\n",
    "- [ ] Trouver des questions (4) pertinentes \n",
    "- [ ] Filtrer le jeu de données pour répondre à vos questions\n",
    "- [ ] Afficher les graphiques (avec annotations)\n",
    "- [ ] Rédiger les conclusions\n",
    "- [ ] Faire une archive nommée avec mon nom-prénom contenant :\n",
    "  - [ ] Votre notebook\n",
    "    - [ ] L'option \"Run All\" fonctionne sans problème, Jupyter n'affiche aucune erreur\n",
    "  - [ ] Votre dataset (pas grave s'il est dans un sous-dossier)\n",
    "  - [ ] Le barème (fichier .ods). N'oubliez pas de renommer la cellule associée avec notre nom-prénom"
   ]
  },
  {
   "cell_type": "markdown",
   "metadata": {},
   "source": [
    "# Pour les utilisateurs de Google colab (supprimez cette cellule si vous n'en avez pas/plus besoin)\n",
    "\n",
    "```\n",
    "Pour supprimer une cellule. Menu \"Edit\" > \"Delete Cells\".\n",
    "Vous pouvez aussi remplacer le contenu de cette cellule.\n",
    "```\n",
    "Petit apparté pour les utilisateurs de google colab. Pour utiliser la méthode `pd.read_csv()`, il faudra rajouter quelques lignes de codes supplémentaires pour pouvoir charger un fichier, les voici.\n",
    "\n",
    "```python\n",
    "# Première cellule jupyter\n",
    "from google.colab import files\n",
    "uploaded = files.upload()\n",
    "```\n",
    "\n",
    "```python\n",
    "# Seconde cellule jupyter\n",
    "import io\n",
    "import pandas as pd\n",
    "# Très important : le nom du fichier passé en paramètre de la fonction \"uploaded\" doit avoir le même nom que le fichier que vous avez uploadé\n",
    "df = pd.read_csv(io.BytesIO(uploaded['nom-du-fichier-uploader.csv']))\n",
    "```\n",
    "\n",
    "- [Voir plus d'informations sur le chargement de fichiers externes avec Google colab](https://towardsdatascience.com/3-ways-to-load-csv-files-into-colab-7c14fcbdcb92)"
   ]
  },
  {
   "cell_type": "markdown",
   "metadata": {},
   "source": [
    "# Phase 1 - Chargement des données"
   ]
  },
  {
   "cell_type": "code",
   "execution_count": 2,
   "metadata": {},
   "outputs": [],
   "source": [
    "import seaborn as sns\n",
    "import matplotlib.pyplot as plt\n",
    "import pandas as pd\n",
    "import numpy as np\n",
    "\n",
    "# Note IMPORTANTE : Si votre DataFrame ne s'affiche pas correctement, \n",
    "# vérifiez bien le séparateur. Par défaut pandas s'attend à une virgule (,) \n",
    "# comme séparateur de dataset s'il est au format .csv, \n",
    "# si votre dataset utilise un autre caractère, il faudra le préciser grâce au paramètre \"sep\".\n",
    "# Par exemple : pd.read_csv(\"lien-vers-mon-dataset\")\n",
    "source_dataframe = pd.read_csv(\"\")"
   ]
  },
  {
   "cell_type": "markdown",
   "metadata": {},
   "source": [
    "# Phase 2 : Exploration des données\n",
    "\n",
    "But : S'approprier le DataFrame, voir brièvement ce qu'on peut en tirer."
   ]
  },
  {
   "cell_type": "markdown",
   "metadata": {},
   "source": [
    "# Phase 3 : Nettoyage des données\n",
    "\n",
    "But : Retirer toutes les valeurs qui pourraient nous poser problème."
   ]
  },
  {
   "cell_type": "markdown",
   "metadata": {},
   "source": [
    "# Phase 4 : Interrogations\n",
    "\n",
    "Vous pouvez lister vos questions ici (minimum 4)."
   ]
  },
  {
   "cell_type": "markdown",
   "metadata": {},
   "source": [
    "# Phase 5 : Modélisations des données\n",
    "\n",
    "But : Transformer votre DataFrame (pensez bien à le copier avant `.copy()`) pour répondre à vos questions et faire vos graphiques."
   ]
  }
 ],
 "metadata": {
  "interpreter": {
   "hash": "8ed06d07b9ff369db6ed7b53447be18709da67cd911d838d72fee7fecb26667a"
  },
  "kernelspec": {
   "display_name": "Python 3.10.0 64-bit",
   "name": "python3"
  },
  "language_info": {
   "name": "python",
   "version": ""
  }
 },
 "nbformat": 4,
 "nbformat_minor": 4
}
