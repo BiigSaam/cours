{
 "cells": [
  {
   "cell_type": "markdown",
   "metadata": {},
   "source": [
    "Dans la première partie, nous avons vu les rudiments de l'affichage de matplotlib et exploré un tout petit peu les possibilité de seaborn en changeant le thème de notre graphique.\n",
    "\n",
    "### Buts du TP \n",
    "- Voir et réaliser un diagramme en bâtons\n",
    "- Voir et réaliser un diagramme circulaire (appelé aussi camembert)\n",
    "- Voir et réaliser un diagramme nuage de points\n",
    "- Voir et réaliser un diagramme histogramme\n",
    "\n",
    "Mais avant, on commence par installer nos bibliothèques, celles indispensables à la réalisation de nos graphiques."
   ]
  },
  {
   "cell_type": "code",
   "execution_count": 3,
   "metadata": {},
   "outputs": [],
   "source": [
    "# On importe seaborn et matplotlib vu que nous allons l'utiliser\n",
    "import seaborn as sns\n",
    "import matplotlib.pyplot as plt\n",
    "\n",
    "# Et on importe toujours pandas et numpy\n",
    "import pandas as pd"
   ]
  },
  {
   "cell_type": "markdown",
   "metadata": {},
   "source": [
    "# Diagramme en bâtons (bar chart)\n",
    "\n",
    "Le diagramme en bâtons (ou barre) est idéal pour comparer des données. Il permet de montrer la relation entre une donnée numérique et une donnée catégorique. Par exemple réparition du temps en fonction des activités. Ce type de graphique peut, parfois, se substituer au diagramme en ligne. Le diagramme en barres existe sous quatre formes :\n",
    "- Diagramme en barres (position horizontale)\n",
    "- Diagramme en colonnes (position verticale)\n",
    "- Diagramme en barres empilées (position horizontale)\n",
    "- Diagramme en colonnes empilées (position verticale)\n",
    "\n",
    "Notez également qu'il est possible de grouper nos barres dépendamment du type de graphique que vous utilisez."
   ]
  },
  {
   "cell_type": "code",
   "execution_count": 4,
   "metadata": {},
   "outputs": [],
   "source": [
    "sns.set_style('darkgrid')\n",
    "\n",
    "liste_matieres = [\n",
    "    'Mathématiques', 'Français', \n",
    "    'Histoire-Géographie', 'Physique Chimie', \n",
    "    \"EPS\", \"LV1\", \n",
    "    \"LV2\", \"Philosophie\"\n",
    "]\n",
    "liste_notes = [10, 15, 13, None, 15, 12, 17, 8]\n",
    "\n",
    "bulletin_de_notes_df = pd.DataFrame.from_dict({\n",
    "    \"matières\": liste_matieres,\n",
    "    \"notes\": liste_notes,\n",
    "})"
   ]
  },
  {
   "cell_type": "markdown",
   "metadata": {},
   "source": [
    "## Données manquantes\n",
    "\n",
    "Dans les précédents TP, nous avons travaillé avec des DataFrame qui avaient, parfois, des données manquantes. Nous avions procédés à la suppression de la ligne (ou colonne) associée. Mais parfois, ce n'est pas ce que nous vous voulons. En enseignants très cléments, nous allons donner une note pour la matière de physique chimie, basée sur la moyenne des autres notes, généreux. Nous sommes d'autant plus obligé car les graphiques n'aiment pas trop les données incorrectes surtout pour les chiffres.\n",
    "\n",
    "Pour ce faire, nous allons utiliser la méthode `fillna()` (fill non available - value - / remplir les variables non présentes / valides) et lui passer comme paramètre la moyenne des valeurs de la colonne \"notes\"."
   ]
  },
  {
   "cell_type": "code",
   "execution_count": 5,
   "metadata": {},
   "outputs": [
    {
     "data": {
      "image/png": "[encoded data removed]",
      "text/plain": [
       "<Figure size 432x288 with 1 Axes>"
      ]
     },
     "metadata": {},
     "output_type": "display_data"
    }
   ],
   "source": [
    "# Le barplot n'aime pas trop les variables manquantes, au lieu de supprimer la matière incriminée\n",
    "# Nous allons lui attribuer comme note la moyenne des notes autres matières \n",
    "bulletin_de_notes_df[\"notes\"].fillna((\n",
    "    round(bulletin_de_notes_df[\"notes\"].mean(), 2)\n",
    "), inplace=True)\n",
    "\n",
    "# Cette fois-ci on va utiliser seaborn\n",
    "# bar plot prend en paramètres \n",
    "sns.barplot(x = \"matières\", y = \"notes\", data=bulletin_de_notes_df)\n",
    "plt.show()"
   ]
  },
  {
   "cell_type": "markdown",
   "metadata": {},
   "source": [
    "##### Qu'observez-vous ?"
   ]
  }
 ],
 "metadata": {
  "kernelspec": {
   "display_name": "Python 3",
   "language": "python",
   "name": "python3"
  },
  "language_info": {
   "codemirror_mode": {
    "name": "ipython",
    "version": 3
   },
   "file_extension": ".py",
   "mimetype": "text/x-python",
   "name": "python",
   "nbconvert_exporter": "python",
   "pygments_lexer": "ipython3",
   "version": "3.8.5"
  }
 },
 "nbformat": 4,
 "nbformat_minor": 4
}
