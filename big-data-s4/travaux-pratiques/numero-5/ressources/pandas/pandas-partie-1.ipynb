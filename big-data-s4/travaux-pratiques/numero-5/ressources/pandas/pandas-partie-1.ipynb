{
 "cells": [
  {
   "cell_type": "markdown",
   "metadata": {},
   "source": [
    "# pandas - partie 1\n",
    "\n",
    "![](https://pandas.pydata.org/docs/_static/pandas.svg)\n",
    "\n",
    "Le big data, c'est beaucoup, beaucoup de données. On a vu précédemment que numpy était très bien adapté pour la gestion de gros volume de données, mais il y a un hic : numpy ne sait pas gérer les données non-labellisées, en Big Data, nous devons utiliser des données labellisées. \n",
    "C'est ici qu'entre en jeu pandas, la biblothèque (native à jupyter) est un parent proche de numpy, ainsi tout ce qu'on a vu sur numpy (notamment les filtres) s'appliquera avec pandas, et ce, avec la même syntaxe.\n",
    "\n",
    "Avec pandas, on va manipuler des DataFrame, c'est l'objet qui se trouve au coeur de la bibliothèque. Le Dataframe est un tableau où les colonnes sont labellisées, graphiquement ça ressemble à ceci.\n",
    "![](../_images/dataframe-intro.jpg)\n",
    "Ceci est un dataframe \"graphique\", ça ressemble beaucoup aux données d'un tableur.\n",
    "\n",
    "Par ailleurs chaque colonne représentent un objet pandas appelé Series. Dans l'image ci-dessus, il y a donc trois Series.\n",
    "\n",
    "pandas est déjà présent dans jupyter, il faut juste l'importer `import pandas as pd`.\n",
    "\n",
    "[Voir documentation de pandas](https://pandas.pydata.org)"
   ]
  },
  {
   "cell_type": "code",
   "execution_count": 27,
   "metadata": {
    "scrolled": true
   },
   "outputs": [
    {
     "name": "stdout",
     "output_type": "stream",
     "text": [
      "marque          BMW\n",
      "gamme          luxe\n",
      "vitesse_max     210\n",
      "nbre_sieges       5\n",
      "longueur       3000\n",
      "Name: 0, dtype: object\n"
     ]
    }
   ],
   "source": [
    "import pandas as pd\n",
    "\n",
    "dictionnaire = {\n",
    "    'marque': [\"BMW\", \"Volvo\", \"Ford\", \"Citroen\"],\n",
    "    'gamme': [\"luxe\", \"haut de gamme\", \"compacte\", \"citadine\"],\n",
    "    'vitesse_max': [210, 160, 120, 130],\n",
    "    'nbre_sieges': [5, 7, 4, 5],\n",
    "    'longueur': [3000, 2750, 2000, 2500]\n",
    "}\n",
    "\n",
    "mon_df = pd.DataFrame(dictionnaire)\n",
    "\n",
    "# Pour retourner la première valeur d'un DataFrame, autrement dit la première ligne du tableau, il faut écrire la chose suivante :\n",
    "print(mon_df.iloc[0]) # iloc signifie index location."
   ]
  },
  {
   "cell_type": "code",
   "execution_count": 64,
   "metadata": {},
   "outputs": [
    {
     "data": {
      "text/plain": [
       "marque          BMW\n",
       "gamme          luxe\n",
       "vitesse_max     210\n",
       "nbre_sieges       5\n",
       "longueur       3000\n",
       "Name: AMG, dtype: object"
      ]
     },
     "execution_count": 64,
     "metadata": {},
     "output_type": "execute_result"
    }
   ],
   "source": [
    "# On peut définir nos indexes à la création de notre dataframe grâce à la propriété \"index\"\n",
    "mon_df = pd.DataFrame(dictionnaire, index=[\"AMG\", \"XC60\", \"Ka\", \"Cactus\"])\n",
    "# Ici on a défini que la première ligne à l'index \"AMG\", la seconde \"XC60\"...\n",
    "\n",
    "# Une fois fait, on peut écrire ceci\n",
    "mon_df.loc['AMG'] # On affichera le même résultat qu'en haut."
   ]
  },
  {
   "cell_type": "markdown",
   "metadata": {},
   "source": [
    "Dans notre dataframe, il est également possible de libelliser nos lignes en définissant un index pour chacune d'elle. Il y a deux façons de procéder."
   ]
  },
  {
   "cell_type": "code",
   "execution_count": 26,
   "metadata": {},
   "outputs": [
    {
     "data": {
      "text/html": [
       "<div>\n",
       "<style scoped>\n",
       "    .dataframe tbody tr th:only-of-type {\n",
       "        vertical-align: middle;\n",
       "    }\n",
       "\n",
       "    .dataframe tbody tr th {\n",
       "        vertical-align: top;\n",
       "    }\n",
       "\n",
       "    .dataframe thead th {\n",
       "        text-align: right;\n",
       "    }\n",
       "</style>\n",
       "<table border=\"1\" class=\"dataframe\">\n",
       "  <thead>\n",
       "    <tr style=\"text-align: right;\">\n",
       "      <th></th>\n",
       "      <th>marque</th>\n",
       "      <th>gamme</th>\n",
       "      <th>vitesse_max</th>\n",
       "      <th>nbre_sieges</th>\n",
       "      <th>longueur</th>\n",
       "    </tr>\n",
       "    <tr>\n",
       "      <th>modele</th>\n",
       "      <th></th>\n",
       "      <th></th>\n",
       "      <th></th>\n",
       "      <th></th>\n",
       "      <th></th>\n",
       "    </tr>\n",
       "  </thead>\n",
       "  <tbody>\n",
       "    <tr>\n",
       "      <th>AMG</th>\n",
       "      <td>BMW</td>\n",
       "      <td>luxe</td>\n",
       "      <td>210</td>\n",
       "      <td>5</td>\n",
       "      <td>3000</td>\n",
       "    </tr>\n",
       "    <tr>\n",
       "      <th>XC60</th>\n",
       "      <td>Volvo</td>\n",
       "      <td>haut de gamme</td>\n",
       "      <td>160</td>\n",
       "      <td>7</td>\n",
       "      <td>2750</td>\n",
       "    </tr>\n",
       "    <tr>\n",
       "      <th>XC60</th>\n",
       "      <td>Ford</td>\n",
       "      <td>compacte</td>\n",
       "      <td>120</td>\n",
       "      <td>4</td>\n",
       "      <td>2000</td>\n",
       "    </tr>\n",
       "    <tr>\n",
       "      <th>Cactus</th>\n",
       "      <td>Citroen</td>\n",
       "      <td>citadine</td>\n",
       "      <td>130</td>\n",
       "      <td>5</td>\n",
       "      <td>2500</td>\n",
       "    </tr>\n",
       "  </tbody>\n",
       "</table>\n",
       "</div>"
      ],
      "text/plain": [
       "         marque          gamme  vitesse_max  nbre_sieges  longueur\n",
       "modele                                                            \n",
       "AMG         BMW           luxe          210            5      3000\n",
       "XC60      Volvo  haut de gamme          160            7      2750\n",
       "XC60       Ford       compacte          120            4      2000\n",
       "Cactus  Citroen       citadine          130            5      2500"
      ]
     },
     "execution_count": 26,
     "metadata": {},
     "output_type": "execute_result"
    }
   ],
   "source": [
    "mon_df_ex2 = pd.DataFrame(dictionnaire)\n",
    "\n",
    "# L'autre méthode consiste à rajouter une nouvelle colonne (Serie) avec les valeurs que nous souhaitons\n",
    "mon_df_ex2['modele'] = [\"AMG\", \"XC60\", \"Ka\", \"Cactus\"]\n",
    "\n",
    "# puis de transformer cette nouvelle colonne en index\n",
    "# ATTENTION \"set_index\" retourne un nouveau dataframe, mon_dataframe_ex2 n'a pas l'index \"modele\"\n",
    "mon_df_indexe = mon_df_ex2.set_index('modele') \n",
    "\n",
    "mon_df_indexe.loc['AMG'] # On affichera le même résultat qu'en haut."
   ]
  },
  {
   "cell_type": "markdown",
   "metadata": {},
   "source": [
    "La gestion des index aura son importance pour la gestion des graphiques. Il est possible d'annuler l'index avec la méthode `set_index()`. Avant de passer aux filtres voilà à quoi ressemble notre dataframe graphiquement.\n",
    "\n",
    "![dataframe](../_images/dataframe.jpg)\n",
    "\n",
    "\n",
    "Les index n'ont pas à être uniques, plusieurs index peuvent avoir la même valeur."
   ]
  },
  {
   "cell_type": "markdown",
   "metadata": {},
   "source": [
    "# Filtres\n",
    "\n",
    "La puissance des filtres de numpy est également utilisable avec les dataframes (et les Series), les filtres sont très utiles pour nettoyer les données ou sélectionner les données qui nous intéresse. On a vu plus haut qu'on pouvait utiliser la clé d'un index avec la propriété \".loc\". Il faut savoir qu'il est possible de récupérer plusieurs lignes en même temps. \n",
    "\n",
    "#### Exemples :\n",
    "\n",
    "###### On retourne les lignes 'AMG' et 'XC60'\n",
    "```python\n",
    "df.loc[['AMG', 'XC60']] # Notez bien les deux paires de crochets\n",
    "\n",
    "# Autre syntaxe\n",
    "df.loc['AMG':'XC60']\n",
    "```\n",
    "\n",
    "###### On retourne une ligne avec des colonnes spécifiques\n",
    "```python\n",
    "# On retourne la valeur des clés \"marque\" et \"gamme\" pour la colonne ayant le nom \"AMG\"\n",
    "df.loc['AMG', ['marque', 'gamme']]\n",
    "# Il est possible de rajouter la propriété \".values\" pour avoir des données plus claires\n",
    "```\n",
    "\n",
    "Comme vu précédemment avec numpy, il est également possible sur les dataframes d'appliquer des conditions pour filtrer les données. Exemple :\n",
    "```python\n",
    "# On retourne les véhicules dont la clé vitesse max est supérieure à 130 et dont les séries sont \"gamme\" et \"vitesse\" avec comme index \"modele\"\n",
    "df.loc[df['vitesse_max'] > 130, ['gamme', 'vitesse_max']]\n",
    "```\n",
    "\n",
    "Pour retourner les series qui nous intéresse, sans pour autant filter, il suffit d'écrire la chose suivante : \n",
    "```python\n",
    "df[['gamme', 'longueur']]\n",
    "# On retourne un nouveau dataframe avec les Series \"longueur\" et \"gamme\". Remarquez bien l'absence de la propriété \".loc\".\n",
    "# ou encore\n",
    "df.loc[:, 'gamme': 'longueur'] # remarquez la présence de \".loc\"\n",
    "```"
   ]
  },
  {
   "cell_type": "markdown",
   "metadata": {},
   "source": [
    "# A vous de coder\n",
    "\n",
    "Définir des dataframes correspondant aux critères suivants (une ligne, un nouvel dataframe) :\n",
    "- Contient tous les véhicules dont la longueur est supérieure à 1 000\n",
    "- Contient tous les véhicules dont la vitesse max est inférieure ou égale à 160\n",
    "- Contient tous les véhicules dont le nombre de sièges est strictement supérieur à 5 et dont la longueur est inférieure à 2 000\n",
    "- Contient uniquement les véhicules de la gamme \"compacte\" et les Series \"marque\" et \"longueur\"\n",
    "- Contient uniquement les Series \"prix\" et \"type_moteur\"\n",
    "\n",
    "Note : La cellule d'en-dessous est là pour vous aider, toutes les valeurs sont présentent au bon endroit.\n",
    "\n",
    "Note 2 : Pour afficher les dataframes de façon plus élégantes, il est préférable d'utiliser la fonction `display()`, elle fonctionne comme la fonction `print()`, mais elle est propre à jupyter."
   ]
  },
  {
   "cell_type": "code",
   "execution_count": 23,
   "metadata": {},
   "outputs": [
    {
     "data": {
      "text/html": [
       "<div>\n",
       "<style scoped>\n",
       "    .dataframe tbody tr th:only-of-type {\n",
       "        vertical-align: middle;\n",
       "    }\n",
       "\n",
       "    .dataframe tbody tr th {\n",
       "        vertical-align: top;\n",
       "    }\n",
       "\n",
       "    .dataframe thead th {\n",
       "        text-align: right;\n",
       "    }\n",
       "</style>\n",
       "<table border=\"1\" class=\"dataframe\">\n",
       "  <thead>\n",
       "    <tr style=\"text-align: right;\">\n",
       "      <th></th>\n",
       "      <th>gamme</th>\n",
       "      <th>vitesse_max km/h</th>\n",
       "      <th>nbre_sieges</th>\n",
       "    </tr>\n",
       "    <tr>\n",
       "      <th>modele</th>\n",
       "      <th></th>\n",
       "      <th></th>\n",
       "      <th></th>\n",
       "    </tr>\n",
       "  </thead>\n",
       "  <tbody>\n",
       "    <tr>\n",
       "      <th>AMG</th>\n",
       "      <td>luxe</td>\n",
       "      <td>210</td>\n",
       "      <td>5</td>\n",
       "    </tr>\n",
       "    <tr>\n",
       "      <th>XC60</th>\n",
       "      <td>haut de gamme</td>\n",
       "      <td>160</td>\n",
       "      <td>7</td>\n",
       "    </tr>\n",
       "    <tr>\n",
       "      <th>Ka</th>\n",
       "      <td>compacte</td>\n",
       "      <td>120</td>\n",
       "      <td>4</td>\n",
       "    </tr>\n",
       "    <tr>\n",
       "      <th>Cactus</th>\n",
       "      <td>citadine</td>\n",
       "      <td>130</td>\n",
       "      <td>5</td>\n",
       "    </tr>\n",
       "    <tr>\n",
       "      <th>Twingo</th>\n",
       "      <td>compacte</td>\n",
       "      <td>140</td>\n",
       "      <td>4</td>\n",
       "    </tr>\n",
       "    <tr>\n",
       "      <th>Aygo</th>\n",
       "      <td>compacte</td>\n",
       "      <td>130</td>\n",
       "      <td>4</td>\n",
       "    </tr>\n",
       "  </tbody>\n",
       "</table>\n",
       "</div>"
      ],
      "text/plain": [
       "                gamme  vitesse_max km/h  nbre_sieges\n",
       "modele                                              \n",
       "AMG              luxe               210            5\n",
       "XC60    haut de gamme               160            7\n",
       "Ka           compacte               120            4\n",
       "Cactus       citadine               130            5\n",
       "Twingo       compacte               140            4\n",
       "Aygo         compacte               130            4"
      ]
     },
     "execution_count": 23,
     "metadata": {},
     "output_type": "execute_result"
    }
   ],
   "source": [
    "import pandas as pd\n",
    "\n",
    "voitures_dict = {\n",
    "    'modele': [\"AMG\", \"XC60\", \"Ka\", \"Cactus\", \"Twingo\", \"Aygo\"],\n",
    "    'marque': [\"BMW\", \"Volvo\", \"Ford\", \"Citroen\", \"Renault\", \"Toyota\"],\n",
    "    'gamme': [\"luxe\", \"haut de gamme\", \"compacte\", \"citadine\", \"compacte\", \"compacte\"],\n",
    "    'vitesse_max km/h': [210, 160, 120, 130, 140, 130],\n",
    "    'nbre_sieges': [5, 7, 4, 5, 4, 4],\n",
    "    'longueur (mm)': [3000, 2750, 2000, 2500, 1980, 2100],\n",
    "    'annee_sortie': [2018, 2019, 2021, 2011, 2017, 2018],\n",
    "    'type_moteur' : [\"essence\", \"hybride\", \"essence\", \"diesel\", \"diesel\", \"hybride\"],\n",
    "    'prix €' : [65000, 56750, 12500, 32000, 15400, 11200]\n",
    "}\n",
    "\n",
    "voitures_df = pd.DataFrame(voitures_dict).set_index('modele')\n",
    "\n",
    "# Contient tous les véhicules dont la longueur est supérieure à 1000"
   ]
  },
  {
   "cell_type": "code",
   "execution_count": 4,
   "metadata": {},
   "outputs": [],
   "source": [
    "# Contient tous les véhicules dont la vitesse max est inférieure ou égale à 160"
   ]
  },
  {
   "cell_type": "code",
   "execution_count": 5,
   "metadata": {},
   "outputs": [],
   "source": [
    "# Contient tous les véhicules dont le nombre de sièges est strictement supérieur à 5 et dont la longueur est inférieure à 2 000"
   ]
  },
  {
   "cell_type": "code",
   "execution_count": 6,
   "metadata": {},
   "outputs": [],
   "source": [
    "# Contient uniquement les véhicules de la gamme \"compacte\" et les Series \"marque\" et \"longueur\""
   ]
  },
  {
   "cell_type": "code",
   "execution_count": 7,
   "metadata": {},
   "outputs": [],
   "source": [
    "# Contient uniquement les Series \"prix\" et \"type_moteur\""
   ]
  },
  {
   "cell_type": "markdown",
   "metadata": {},
   "source": [
    "# A vous de coder\n",
    "\n",
    "Définir des dataframes correspondant aux critères suivants (une ligne, un nouvel dataframe) :\n",
    "- Contient tous les véhicules ayant un type_moteur \"hybride\"\n",
    "- Contient tous les véhicules sortis après 2015\n",
    "- Contient tous les véhicules hybrides et dont le prix est inférieur à 25000\n",
    "- Contient tous les véhicules avec une nouvelle Serie (colonne) appelée \"permis\" et comme valeur \"B\"\n",
    "- Contient tous les véhicules avec une nouvelle Serie (colonne) appelée \"vitesse_max m/h\" et comme valeur la vitesse_max de chaque véhicule en miles/heure\n",
    "\n",
    "Note 3 : Pour le dernier exercice 1 km/h = 0.621371 m/h"
   ]
  },
  {
   "cell_type": "code",
   "execution_count": 6,
   "metadata": {},
   "outputs": [],
   "source": [
    "# Contient tous les véhicules ayant un type_moteur \"hybride\""
   ]
  },
  {
   "cell_type": "code",
   "execution_count": null,
   "metadata": {},
   "outputs": [],
   "source": [
    "# Contient tous les véhicules sortis après 2015"
   ]
  },
  {
   "cell_type": "code",
   "execution_count": null,
   "metadata": {},
   "outputs": [],
   "source": [
    "# Contient tous les véhicules hybrides et dont le prix est inférieur à 25000"
   ]
  },
  {
   "cell_type": "code",
   "execution_count": null,
   "metadata": {},
   "outputs": [],
   "source": [
    "# Contient tous les véhicules avec une nouvelle Serie (colonne) appelée \"permis\" et comme valeur \"B\""
   ]
  },
  {
   "cell_type": "code",
   "execution_count": null,
   "metadata": {},
   "outputs": [],
   "source": [
    "# Contient tous les véhicules avec une nouvelle Serie (colonne) appelée \"vitesse_max m/h\" et comme valeur la vitesse_max de chaque véhicule en miles/heure"
   ]
  },
  {
   "cell_type": "markdown",
   "metadata": {},
   "source": [
    "Ceci met fin à la première partie du travaux pratiques concernant pandas. Si nous avons bien effectué différentes opérations des dataframes, ceux que nous avons utilisés sont relativement petits. Rappelons que nous faisons du bigdata et en Big Data, on travaille avec de très, très gros volumes de données. Bien évidemment nous n'allons pas écrire notre dataframe, nous allons utiliser des jeux de données déjà présents."
   ]
  }
 ],
 "metadata": {
  "kernelspec": {
   "display_name": "Python 3",
   "language": "python",
   "name": "python3"
  },
  "language_info": {
   "codemirror_mode": {
    "name": "ipython",
    "version": 3
   },
   "file_extension": ".py",
   "mimetype": "text/x-python",
   "name": "python",
   "nbconvert_exporter": "python",
   "pygments_lexer": "ipython3",
   "version": "3.8.5"
  }
 },
 "nbformat": 4,
 "nbformat_minor": 4
}
