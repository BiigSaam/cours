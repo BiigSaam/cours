{
 "cells": [
  {
   "cell_type": "markdown",
   "metadata": {},
   "source": [
    "# pandas - partie 1\r\n",
    "\r\n",
    "![logo pandas](https://pandas.pydata.org/docs/_static/pandas.svg)\r\n",
    "\r\n",
    "Le big data, c'est beaucoup, beaucoup de données. On a vu précédemment que numpy était très bien adapté pour la gestion de gros volumes de données, mais il y a un hic : numpy ne sait pas gérer des nombres, en Big Data, nous utilisons des chiffres et des lettres. \r\n",
    "C'est ici qu'entre en jeu pandas, la biblothèque (native à jupyter) est un parent proche de numpy, ainsi tout ce qu'on a vu sur numpy (notamment les filtres) s'appliquera avec pandas, et ce, avec la même syntaxe.\r\n",
    "\r\n",
    "Avec pandas, on va manipuler des DataFrame, c'est l'objet qui se trouve au coeur de la bibliothèque. Le Dataframe est un tableau où les colonnes sont labellisées, graphiquement ça ressemble à ceci.\r\n",
    "\r\n",
    "![dataframe](https://raw.githubusercontent.com/DanYellow/cours/main/big-data-s4/travaux-pratiques/numero-5/ressources/_images/dataframe-intro.jpg)\r\n",
    "\r\n",
    "Ceci est un dataframe \"graphique\", ça ressemble beaucoup aux données d'un tableur. Le Dataframe est l'objet principal de pandas, nous allons en manipuler beaucoup mais surtout de très gros jeux de données.\r\n",
    "\r\n",
    "Par ailleurs chaque colonne représentent un objet pandas appelé Series. Dans l'image ci-dessus, il y a donc trois Series.\r\n",
    "\r\n",
    "pandas est déjà présent dans jupyter, il faut juste l'importer `import pandas as pd`.\r\n",
    "\r\n",
    "[Voir documentation de pandas](https://pandas.pydata.org)"
   ]
  },
  {
   "cell_type": "code",
   "execution_count": 2,
   "metadata": {
    "scrolled": true
   },
   "outputs": [
    {
     "name": "stdout",
     "output_type": "stream",
     "text": [
      "marque          BMW\n",
      "gamme          luxe\n",
      "vitesse_max     210\n",
      "nbre_sieges       5\n",
      "longueur       3000\n",
      "Name: 0, dtype: object\n"
     ]
    }
   ],
   "source": [
    "import pandas as pd\n",
    "\n",
    "dictionnaire = {\n",
    "    'marque': [\"BMW\", \"Volvo\", \"Ford\", \"Citroen\"],\n",
    "    'gamme': [\"luxe\", \"haut de gamme\", \"compacte\", \"citadine\"],\n",
    "    'vitesse_max': [210, 160, 120, 130],\n",
    "    'nbre_sieges': [5, 7, 4, 5],\n",
    "    'longueur': [3000, 2750, 2000, 2500]\n",
    "}\n",
    "\n",
    "mon_df = pd.DataFrame(dictionnaire)\n",
    "\n",
    "# Pour retourner la première valeur d'un DataFrame, autrement dit la première ligne du tableau, il faut écrire la chose suivante :\n",
    "print(mon_df.iloc[0]) # iloc signifie index location."
   ]
  },
  {
   "cell_type": "code",
   "execution_count": 64,
   "metadata": {},
   "outputs": [
    {
     "data": {
      "text/plain": [
       "marque          BMW\n",
       "gamme          luxe\n",
       "vitesse_max     210\n",
       "nbre_sieges       5\n",
       "longueur       3000\n",
       "Name: AMG, dtype: object"
      ]
     },
     "execution_count": 64,
     "metadata": {},
     "output_type": "execute_result"
    }
   ],
   "source": [
    "# On peut définir nos indexes à la création de notre dataframe grâce à la propriété \"index\"\n",
    "mon_df = pd.DataFrame(dictionnaire, index=[\"AMG\", \"XC60\", \"Ka\", \"Cactus\"])\n",
    "# Ici on a défini que la première ligne à l'index \"AMG\", la seconde \"XC60\"...\n",
    "\n",
    "# Une fois fait, on peut écrire ceci\n",
    "mon_df.loc['AMG'] # On affichera le même résultat qu'en haut."
   ]
  },
  {
   "cell_type": "markdown",
   "metadata": {},
   "source": [
    "Dans notre dataframe, il est également possible de libelliser nos lignes en définissant un index pour chacune d'elle. Il y a deux façons de procéder."
   ]
  },
  {
   "cell_type": "code",
   "execution_count": 11,
   "metadata": {},
   "outputs": [
    {
     "data": {
      "text/html": [
       "<div>\n",
       "<style scoped>\n",
       "    .dataframe tbody tr th:only-of-type {\n",
       "        vertical-align: middle;\n",
       "    }\n",
       "\n",
       "    .dataframe tbody tr th {\n",
       "        vertical-align: top;\n",
       "    }\n",
       "\n",
       "    .dataframe thead th {\n",
       "        text-align: right;\n",
       "    }\n",
       "</style>\n",
       "<table border=\"1\" class=\"dataframe\">\n",
       "  <thead>\n",
       "    <tr style=\"text-align: right;\">\n",
       "      <th></th>\n",
       "      <th>marque</th>\n",
       "      <th>gamme</th>\n",
       "      <th>vitesse_max</th>\n",
       "      <th>nbre_sieges</th>\n",
       "      <th>longueur</th>\n",
       "    </tr>\n",
       "    <tr>\n",
       "      <th>modele</th>\n",
       "      <th></th>\n",
       "      <th></th>\n",
       "      <th></th>\n",
       "      <th></th>\n",
       "      <th></th>\n",
       "    </tr>\n",
       "  </thead>\n",
       "  <tbody>\n",
       "    <tr>\n",
       "      <th>AMG</th>\n",
       "      <td>BMW</td>\n",
       "      <td>luxe</td>\n",
       "      <td>210</td>\n",
       "      <td>5</td>\n",
       "      <td>3000</td>\n",
       "    </tr>\n",
       "    <tr>\n",
       "      <th>XC60</th>\n",
       "      <td>Volvo</td>\n",
       "      <td>haut de gamme</td>\n",
       "      <td>160</td>\n",
       "      <td>7</td>\n",
       "      <td>2750</td>\n",
       "    </tr>\n",
       "    <tr>\n",
       "      <th>Ka</th>\n",
       "      <td>Ford</td>\n",
       "      <td>compacte</td>\n",
       "      <td>120</td>\n",
       "      <td>4</td>\n",
       "      <td>2000</td>\n",
       "    </tr>\n",
       "    <tr>\n",
       "      <th>Cactus</th>\n",
       "      <td>Citroen</td>\n",
       "      <td>citadine</td>\n",
       "      <td>130</td>\n",
       "      <td>5</td>\n",
       "      <td>2500</td>\n",
       "    </tr>\n",
       "  </tbody>\n",
       "</table>\n",
       "</div>"
      ],
      "text/plain": [
       "         marque          gamme  vitesse_max  nbre_sieges  longueur\n",
       "modele                                                            \n",
       "AMG         BMW           luxe          210            5      3000\n",
       "XC60      Volvo  haut de gamme          160            7      2750\n",
       "Ka         Ford       compacte          120            4      2000\n",
       "Cactus  Citroen       citadine          130            5      2500"
      ]
     },
     "metadata": {},
     "output_type": "display_data"
    },
    {
     "data": {
      "text/html": [
       "<div>\n",
       "<style scoped>\n",
       "    .dataframe tbody tr th:only-of-type {\n",
       "        vertical-align: middle;\n",
       "    }\n",
       "\n",
       "    .dataframe tbody tr th {\n",
       "        vertical-align: top;\n",
       "    }\n",
       "\n",
       "    .dataframe thead th {\n",
       "        text-align: right;\n",
       "    }\n",
       "</style>\n",
       "<table border=\"1\" class=\"dataframe\">\n",
       "  <thead>\n",
       "    <tr style=\"text-align: right;\">\n",
       "      <th></th>\n",
       "      <th>marque</th>\n",
       "      <th>gamme</th>\n",
       "      <th>vitesse_max</th>\n",
       "      <th>nbre_sieges</th>\n",
       "      <th>longueur</th>\n",
       "    </tr>\n",
       "    <tr>\n",
       "      <th>modele</th>\n",
       "      <th></th>\n",
       "      <th></th>\n",
       "      <th></th>\n",
       "      <th></th>\n",
       "      <th></th>\n",
       "    </tr>\n",
       "  </thead>\n",
       "  <tbody>\n",
       "    <tr>\n",
       "      <th>Ka</th>\n",
       "      <td>Ford</td>\n",
       "      <td>compacte</td>\n",
       "      <td>120</td>\n",
       "      <td>4</td>\n",
       "      <td>2000</td>\n",
       "    </tr>\n",
       "    <tr>\n",
       "      <th>Cactus</th>\n",
       "      <td>Citroen</td>\n",
       "      <td>citadine</td>\n",
       "      <td>130</td>\n",
       "      <td>5</td>\n",
       "      <td>2500</td>\n",
       "    </tr>\n",
       "  </tbody>\n",
       "</table>\n",
       "</div>"
      ],
      "text/plain": [
       "         marque     gamme  vitesse_max  nbre_sieges  longueur\n",
       "modele                                                       \n",
       "Ka         Ford  compacte          120            4      2000\n",
       "Cactus  Citroen  citadine          130            5      2500"
      ]
     },
     "execution_count": 11,
     "metadata": {},
     "output_type": "execute_result"
    }
   ],
   "source": [
    "mon_df_ex2 = pd.DataFrame(dictionnaire)\r\n",
    "\r\n",
    "# L'autre méthode consiste à rajouter une nouvelle colonne (Serie) avec les valeurs que nous souhaitons\r\n",
    "mon_df_ex2['modele'] = [\"AMG\", \"XC60\", \"Ka\", \"Cactus\"]\r\n",
    "\r\n",
    "# puis de transformer cette nouvelle colonne en index\r\n",
    "# ATTENTION \"set_index\" retourne un nouveau dataframe par défaut, mon_df_ex2 n'a pas l'index \"modele\"\r\n",
    "mon_df_indexe = mon_df_ex2.set_index('modele') \r\n",
    "\r\n",
    "mon_df_indexe.loc['AMG'] # On affichera encore le même résultat"
   ]
  },
  {
   "cell_type": "markdown",
   "metadata": {},
   "source": [
    "La gestion des index aura son importance pour la gestion des graphiques. Il est possible d'annuler l'index avec la méthode `set_index()`. Avant de passer aux filtres voilà à quoi ressemble notre dataframe graphiquement.\r\n",
    "\r\n",
    "![dataframe](https://raw.githubusercontent.com/DanYellow/cours/main/big-data-s4/travaux-pratiques/numero-5/ressources/_images/dataframe.jpg)\r\n",
    "\r\n",
    "\r\n",
    "Les index n'ont pas à être uniques, plusieurs index peuvent avoir la même valeur. Toutefois pour des questions de performances, il est préférable qu'ils le soient ainsi pandas sera plus rapide pour trouver les résultats à vos recherches."
   ]
  },
  {
   "cell_type": "markdown",
   "metadata": {},
   "source": [
    "# Filtres\r\n",
    "\r\n",
    "La puissance des filtres de numpy est également utilisable avec les dataframes (et les Series), les filtres sont très utiles pour nettoyer les données ou sélectionner les données qui nous intéresse. On a vu plus haut qu'on pouvait utiliser la clé d'un index avec la propriété \".loc\". Il faut savoir qu'il est possible de récupérer plusieurs lignes en même temps. \r\n",
    "\r\n",
    "#### Exemples :\r\n",
    "\r\n",
    "###### On retourne les lignes 'AMG' et 'XC60'\r\n",
    "```python\r\n",
    "df.loc[['AMG', 'XC60']] # Notez bien les deux paires de crochets\r\n",
    "\r\n",
    "# Autre syntaxe\r\n",
    "df.loc['AMG':'XC60']\r\n",
    "```\r\n",
    "\r\n",
    "###### On retourne une ligne avec des colonnes spécifiques\r\n",
    "```python\r\n",
    "# On retourne la valeur des clés \"marque\" et \"gamme\" pour la colonne ayant le nom \"AMG\"\r\n",
    "df.loc['AMG', ['marque', 'gamme']]\r\n",
    "# Il est possible de rajouter la propriété \".values\" pour avoir des données plus claires\r\n",
    "```\r\n",
    "\r\n",
    "Comme vu précédemment avec numpy, il est également possible sur les dataframes d'appliquer des conditions pour filtrer les données. Exemple :\r\n",
    "```python\r\n",
    "# On retourne les véhicules dont la clé vitesse max est supérieure à 130 et dont les séries sont \"gamme\" et \"vitesse\" avec comme index \"modele\"\r\n",
    "df.loc[df['vitesse_max'] > 130, ['gamme', 'vitesse_max']]\r\n",
    "```\r\n",
    "\r\n",
    "Pour retourner les series qui nous intéresse, il suffit d'écrire la chose suivante : \r\n",
    "```python\r\n",
    "df[['gamme', 'longueur']]\r\n",
    "```\r\n",
    "On retourne un nouveau dataframe avec toutes les Series de \"gamme\" **à** \"longueur\". Remarquez bien l'absence de la propriété \".loc\" ou encore\r\n",
    "```python\r\n",
    "df.loc[:, 'gamme': 'longueur'] # remarquez la présence de \".loc\"\r\n",
    "```\r\n",
    "\r\n",
    "Avec le code précédent on remarque la présence du caractère deux-points ( : ), on l'avait vu durant le TP d'initiation à Python. Avec pandas, on peut également l'utiliser pour filtrer le nombre d'entrées de notre DataFrame. De ce fait, nous pouvons écrire ceci :\r\n",
    "```python\r\n",
    "df[:1000]\r\n",
    "# Le code ci-dessus retourne que les 1000 premières entrées de notre DataFrame.\r\n",
    "```\r\n",
    "\r\n",
    "Pour rappel la syntaxe est la suivante `[index de départ:index de fin:pas d'avancement]`. Notez bien qu'en mettant le signe (-) on retournera les N dernières lignes. Par exemple, je souhaite retourner les 42 dernières lignes, je dois écrire `df[-42:]`."
   ]
  },
  {
   "cell_type": "markdown",
   "metadata": {},
   "source": [
    "# A vous de coder\n",
    "\n",
    "Définir des dataframes correspondants aux critères suivants (une ligne, un nouvel dataframe) :\n",
    "- Contient tous les véhicules dont la longueur est supérieure à 1 000\n",
    "- Contient tous les véhicules dont la vitesse max est inférieure ou égale à 160\n",
    "- Contient tous les véhicules dont le nombre de sièges est strictement supérieur à 5 et dont la longueur est inférieure à 2 000\n",
    "- Contient uniquement les véhicules de la gamme \"compacte\" et les Series \"marque\" et \"longueur\"\n",
    "- Contient uniquement les Series \"prix\" et \"type_moteur\"\n",
    "\n",
    "Note : La cellule d'en-dessous est là pour vous aider, toutes les valeurs sont présentent au bon endroit.\n",
    "\n",
    "Note 2 : Pour afficher les dataframes de façon plus élégantes, il est préférable d'utiliser la fonction `display()`, elle fonctionne comme la fonction `print()`, mais elle est propre à jupyter."
   ]
  },
  {
   "cell_type": "code",
   "execution_count": 5,
   "metadata": {},
   "outputs": [],
   "source": [
    "import pandas as pd\r\n",
    "\r\n",
    "voitures_dict = {\r\n",
    "    'modele': [\"AMG\", \"XC60\", \"Ka\", \"Cactus\", \"Twingo\", \"Aygo\"],\r\n",
    "    'marque': [\"BMW\", \"Volvo\", \"Ford\", \"Citroen\", \"Renault\", \"Toyota\"],\r\n",
    "    'gamme': [\"luxe\", \"haut de gamme\", \"compacte\", \"citadine\", \"compacte\", \"compacte\"],\r\n",
    "    'vitesse_max km/h': [210, 160, 120, 130, 140, 130],\r\n",
    "    'nbre_sieges': [5, 7, 4, 5, 4, 4],\r\n",
    "    'longueur (mm)': [3000, 2750, 2000, 2500, 1980, 2100],\r\n",
    "    'annee_sortie': [2018, 2019, 2021, 2011, 2017, 2018],\r\n",
    "    'type_moteur' : [\"essence\", \"hybride\", \"essence\", \"diesel\", \"diesel\", \"hybride\"],\r\n",
    "    'prix €' : [65000, 56750, 12500, 32000, 15400, 11200]\r\n",
    "}\r\n",
    "\r\n",
    "voitures_df = pd.DataFrame(voitures_dict).set_index('modele')\r\n",
    "\r\n",
    "# Contient tous les véhicules dont la longueur est supérieure à 1 000"
   ]
  },
  {
   "cell_type": "code",
   "execution_count": 4,
   "metadata": {},
   "outputs": [],
   "source": [
    "# Contient tous les véhicules dont la vitesse max est inférieure ou égale à 160"
   ]
  },
  {
   "cell_type": "code",
   "execution_count": 5,
   "metadata": {},
   "outputs": [],
   "source": [
    "# Contient tous les véhicules dont le nombre de sièges est strictement supérieur à 5 et dont la longueur est inférieure à 2 000"
   ]
  },
  {
   "cell_type": "code",
   "execution_count": 6,
   "metadata": {},
   "outputs": [],
   "source": [
    "# Contient uniquement les véhicules de la gamme \"compacte\" et les Series \"marque\" et \"longueur\""
   ]
  },
  {
   "cell_type": "code",
   "execution_count": 7,
   "metadata": {},
   "outputs": [],
   "source": [
    "# Contient uniquement les Series \"prix\" et \"type_moteur\""
   ]
  },
  {
   "cell_type": "markdown",
   "metadata": {},
   "source": [
    "# A vous de coder\r\n",
    "\r\n",
    "Définir des dataframes correspondant aux critères suivants (une ligne, un nouvel dataframe) :\r\n",
    "- Contient tous les véhicules ayant un type_moteur \"hybride\"\r\n",
    "- Contient tous les véhicules sortis après 2015\r\n",
    "- Contient tous les véhicules hybrides et dont le prix est inférieur à 25000\r\n",
    "- Contient tous les véhicules avec une nouvelle Serie (colonne) appelée \"permis\" et comme valeur \"B\"\r\n",
    "- Contient tous les véhicules avec une nouvelle Serie (colonne) appelée \"vitesse_max m/h\" et comme valeur la vitesse_max de chaque véhicule en miles/heure\r\n",
    "\r\n",
    "Note : Pour le dernier exercice 1 km/h = 0.621371 m/h"
   ]
  },
  {
   "cell_type": "code",
   "execution_count": 6,
   "metadata": {},
   "outputs": [],
   "source": [
    "# Contient tous les véhicules ayant un type_moteur \"hybride\""
   ]
  },
  {
   "cell_type": "code",
   "execution_count": null,
   "metadata": {},
   "outputs": [],
   "source": [
    "# Contient tous les véhicules sortis après 2015"
   ]
  },
  {
   "cell_type": "code",
   "execution_count": null,
   "metadata": {},
   "outputs": [],
   "source": [
    "# Contient tous les véhicules hybrides et dont le prix est inférieur à 25000"
   ]
  },
  {
   "cell_type": "code",
   "execution_count": null,
   "metadata": {},
   "outputs": [],
   "source": [
    "# Contient tous les véhicules avec une nouvelle Serie (colonne) appelée \"permis\" et comme valeur \"B\""
   ]
  },
  {
   "cell_type": "code",
   "execution_count": null,
   "metadata": {},
   "outputs": [],
   "source": [
    "# Contient tous les véhicules avec une nouvelle Serie (colonne) appelée \"vitesse_max m/h\" et comme valeur la vitesse_max de chaque véhicule en miles/heure"
   ]
  },
  {
   "cell_type": "markdown",
   "metadata": {},
   "source": [
    "Avec la construction des deux derniers DataFrame, nous avons pu voir qu'il était possible appliquer sur une colonne une opération. Héritant de numpy, il est possible d'utiliser des fonctions déjà présentes dans la bibliothèque pour obtenir certains résultats. Par exemple si nous souhaitons obtenir l'année ayant le plus de sorties de véhicules dans notre DataFrame, il suffit de calculer le mode grâce à la fonction `.mode()`"
   ]
  },
  {
   "cell_type": "code",
   "execution_count": 35,
   "metadata": {},
   "outputs": [
    {
     "data": {
      "text/plain": [
       "2018"
      ]
     },
     "execution_count": 35,
     "metadata": {},
     "output_type": "execute_result"
    }
   ],
   "source": [
    "# Le mode en mathématiques désigne la valeur la plus présente dans une distribution, \n",
    "# pandas/numpy nous retourne un tuple (une collection/un objet), c'est pour ça que nous avons adjoint un \"\"\n",
    "annee_avec_plus_sorties = voitures_df[\"annee_sortie\"].mode()[0]\n",
    "annee_avec_plus_sorties"
   ]
  },
  {
   "cell_type": "markdown",
   "metadata": {},
   "source": [
    "Avec les DataFrames que nous avons construits, nous avons fait le choix de sélectionner les données que nous voulions, mais il est tout à fait possible de faire l'inverse : supprimer les données dont nous n'avons pas besoin. \n",
    "\n",
    "Par exemple, sélectionner tous les véhicules dont la longueur est supérieure ou égale à 2 500 (mm), ça revient à supprimer tous les véhicules dont la longueur est strictement inférieure à 2 500 (mm). Et pour supprimer des lignes qui ne répondent pas aux des critières définis il faut utiliser la fonction `.drop()`.   \n",
    "\n",
    "```python\n",
    "df.drop(df[<nos conditions>].index)\n",
    "\n",
    "# Exemple avec le cas la longueur des véhicules\n",
    "longueur_max = 2500\n",
    "voitures_df.drop(voitures_df[voitures_df['longueur (mm)'] < longueur_max].index)\n",
    "```"
   ]
  },
  {
   "cell_type": "markdown",
   "metadata": {},
   "source": [
    "Ceci met fin à la première partie du travaux pratiques concernant pandas. Si nous avons bien effectué différentes opérations des dataframes, ceux que nous avons utilisés sont relativement petits. Rappelons que nous faisons du Big Data et en Big Data, on travaille avec de très, très gros volumes de données. Bien évidemment nous n'allons pas écrire de gros DataFrame, nous allons utiliser des jeux de données existants."
   ]
  }
 ],
 "metadata": {
  "interpreter": {
   "hash": "8ed06d07b9ff369db6ed7b53447be18709da67cd911d838d72fee7fecb26667a"
  },
  "kernelspec": {
   "display_name": "Python 3.10.0 64-bit",
   "name": "python3"
  },
  "language_info": {
   "codemirror_mode": {
    "name": "ipython",
    "version": 3
   },
   "file_extension": ".py",
   "mimetype": "text/x-python",
   "name": "python",
   "nbconvert_exporter": "python",
   "pygments_lexer": "ipython3",
   "version": "3.8.5"
  }
 },
 "nbformat": 4,
 "nbformat_minor": 4
}