{
 "cells": [
  {
   "cell_type": "code",
   "execution_count": 19,
   "metadata": {},
   "outputs": [
    {
     "name": "stdout",
     "output_type": "stream",
     "text": [
      "<class 'pandas.core.frame.DataFrame'>\n",
      "RangeIndex: 338 entries, 0 to 337\n",
      "Data columns (total 8 columns):\n",
      " #   Column          Non-Null Count  Dtype  \n",
      "---  ------          --------------  -----  \n",
      " 0   Departement     338 non-null    object \n",
      " 1   Fromage         338 non-null    object \n",
      " 2   page_francaise  338 non-null    object \n",
      " 3   english_page    125 non-null    object \n",
      " 4   image           0 non-null      float64\n",
      " 5   Lait            338 non-null    object \n",
      " 6   geo_shape       246 non-null    object \n",
      " 7   geo_point_2d    246 non-null    object \n",
      "dtypes: float64(1), object(7)\n",
      "memory usage: 21.2+ KB\n"
     ]
    }
   ],
   "source": [
    "import pandas as pd\n",
    "\n",
    "df_pas_types = pd.read_csv(\"liste-des-fromages-francais.csv\", sep=';')\n",
    "df_pas_types.info()"
   ]
  },
  {
   "cell_type": "code",
   "execution_count": 18,
   "metadata": {},
   "outputs": [
    {
     "name": "stdout",
     "output_type": "stream",
     "text": [
      "<class 'pandas.core.frame.DataFrame'>\n",
      "RangeIndex: 338 entries, 0 to 337\n",
      "Data columns (total 8 columns):\n",
      " #   Column          Non-Null Count  Dtype \n",
      "---  ------          --------------  ----- \n",
      " 0   Departement     338 non-null    object\n",
      " 1   Fromage         338 non-null    object\n",
      " 2   page_francaise  338 non-null    object\n",
      " 3   english_page    125 non-null    object\n",
      " 4   image           0 non-null      object\n",
      " 5   Lait            338 non-null    object\n",
      " 6   geo_shape       246 non-null    object\n",
      " 7   geo_point_2d    246 non-null    object\n",
      "dtypes: object(8)\n",
      "memory usage: 21.2+ KB\n"
     ]
    }
   ],
   "source": [
    "%timeit \n",
    "df_pas_types = pd.read_csv(\"liste-des-fromages-francais.csv\", sep=';',dtype={ \n",
    "    \"Departement\": str,\n",
    "    \"Fromage\": str,\n",
    "    \"page_francaise\": str,\n",
    "    \"english_page\": str,\n",
    "    \"image\": str,\n",
    "    \"Lait\": str,\n",
    "    \"geo_shape\": object,\n",
    "    \"geo_point_2d\": object,\n",
    "})\n",
    "df_pas_types.info()"
   ]
  }
 ],
 "metadata": {
  "interpreter": {
   "hash": "c469c999aae2bf6d578d6881606ced546d1546d312a4811937df5b24665ee8bc"
  },
  "kernelspec": {
   "display_name": "Python 3.8.12 64-bit (conda)",
   "language": "python",
   "name": "python3"
  },
  "language_info": {
   "codemirror_mode": {
    "name": "ipython",
    "version": 3
   },
   "file_extension": ".py",
   "mimetype": "text/x-python",
   "name": "python",
   "nbconvert_exporter": "python",
   "pygments_lexer": "ipython3",
   "version": "3.8.12"
  },
  "orig_nbformat": 4
 },
 "nbformat": 4,
 "nbformat_minor": 2
}
