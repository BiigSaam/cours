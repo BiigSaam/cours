{
 "cells": [
  {
   "cell_type": "markdown",
   "metadata": {},
   "source": [
    "# Avant-propos : Pour les utilisateurs de Google colab\n",
    "\n",
    "Petit apparté pour les utilisateurs de google colab. Pour utiliser la méthode `pd.read_csv()`, il faudra rajouter quelques lignes de codes supplémentaires pour pouvoir charger un fichier, les voici.\n",
    "\n",
    "\n",
    "```python\n",
    "from google.colab import files\n",
    "uploaded = files.upload()\n",
    "\n",
    "import io\n",
    "# Très important : le nom du fichier passé en paramètre de la fonction \"uploaded\" doit avoir le même nom que le fichier que vous avez uploadé sinon, \n",
    "# vous aurez forcément une erreur\n",
    "df = pd.read_csv(io.BytesIO(uploaded['nom-du-fichier-uploader.csv']))\n",
    "```\n",
    "\n",
    "- [Voir plus  d'informations sur le chargement de fichiers externes avec Google colab](https://towardsdatascience.com/3-ways-to-load-csv-files-into-colab-7c14fcbdcb92)"
   ]
  },
  {
   "cell_type": "markdown",
   "metadata": {},
   "source": [
    "# Phase 1 : Récupération / Chargement du fichier"
   ]
  },
  {
   "cell_type": "code",
   "execution_count": null,
   "metadata": {},
   "outputs": [],
   "source": [
    "import pandas as pd\n",
    "\n",
    "df = pd.read_csv(\"chemin-vers-dataset\")"
   ]
  },
  {
   "cell_type": "markdown",
   "metadata": {},
   "source": [
    "# Phase 2 : Exploration des données\n",
    "\n",
    "But : s'approprier le DataFrame, voir brièvement ce qu'on peut en tirer. Comprendre sa structure. Voir la partie 2 de la pratique sur pandas pour voir les questions."
   ]
  },
  {
   "cell_type": "markdown",
   "metadata": {},
   "source": [
    "# Phase 3 : Nettoyage des données\n",
    "\n",
    "But : retirer toutes les valeurs qui pourraient nous poser problème et/ou les formatter. Voir la partie 2 de la pratique sur pandas pour voir les méthodes permettant de nettoyer votre DataFrame."
   ]
  },
  {
   "cell_type": "markdown",
   "metadata": {},
   "source": [
    "# Phase 4 : Modélisation\n",
    "But : Définir les informations qui peuvent nous intéresser. Se poser des questions pertinentes et y répondre avec des DataFrame ou encore des valeurs et en tirer quelque chose. Il est **possible** dans cette phase d'explorer notre DataFrame nettoyé pour vous assurer que tout est bon. \n",
    "**Note : Vos questions doivent être écrites dans le Dataframe**"
   ]
  },
  {
   "cell_type": "markdown",
   "metadata": {},
   "source": [
    "# Phase 5 : Interprétation\n",
    "\n",
    "But : Interpréter vos modélisations, le résultat de vos Dataframe. Plus tard, nous verrons comment aggrémenter ces conclusions de graphiques."
   ]
  }
 ],
 "metadata": {
  "language_info": {
   "name": "python"
  },
  "orig_nbformat": 4
 },
 "nbformat": 4,
 "nbformat_minor": 2
}
