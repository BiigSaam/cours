{
 "cells": [
  {
   "cell_type": "markdown",
   "metadata": {},
   "source": [
    "# Devoir pandas\n",
    "\n",
    "Le but de ce devoir individuel est de d'analyser un dataset (sauf ceux qu'on a utilisés en TP) que vous aurez choisi, se poser au minimum cinq questions pertinentes, y répondre grâce à pandas (via DataFrame ou variables) et en tirer des conclusions.\n",
    "\n",
    "Vous trouverez un fichier \"gabarit.devoir.ipynb\" pour vous aider à démarrer votre devoir. **Il devra être remis avant la date butoir, la date vous sera transmise ultérieurement.**\n",
    "\n",
    "Si vous ne savez pas où trouver des datasets, vous pourrez en trouver ici :\n",
    "\n",
    "- [Voir site des données ouvertes du gouvernement](https://www.data.gouv.fr/)\n",
    "- [Voir site des données ouvertes de l'insee](https://www.insee.fr/fr/statistiques?categorie=1)\n",
    "- [Voir moteur de recherche de Google dédié aux datasets](https://datasetsearch.research.google.com/)\n",
    "- [Voir site des données ouvertes de l'éducation nationale](https://data.education.gouv.fr/)\n",
    "- [Voir ensemble de datasets récoltés pour le cours](https://github.com/DanYellow/cours/tree/main/big-data-s4/datasets)\n",
    "  - Note : il y a un fichier .txt parfois, il explique les colonnes quand elles sont trop sibyllines. [Plus d'infos ici](https://raw.githubusercontent.com/DanYellow/cours/main/big-data-s4/datasets/__guide-datasets.txt)\n",
    "- [Voir ensemble de sites pour datasets](https://github.com/DanYellow/cours/blob/main/big-data-s4/datasets/_liste-sites-source-pour-datasets.txt)"
   ]
  },
  {
   "cell_type": "markdown",
   "metadata": {},
   "source": [
    "## Rendu attendus\n",
    "\n",
    "- Une archive nommée nom-prénom contenant :\n",
    "  - Votre notebook \n",
    "  - Votre dataset\n",
    "  - Le barème\n",
    "\n",
    "# Votre liste à faire\n",
    "- [x] Lire les consignes\n",
    "- [ ] Lire le barème de notation\n",
    "- [ ] Trouver un jeu de données pertinent\n",
    "- [ ] Explorer le jeu de données\n",
    "- [ ] Trouver des questions (minimum 5) **pertinentes** \n",
    "- [ ] Filtrer le jeu de données pour répondre à vos questions\n",
    "- [ ] Rédiger les conclusions\n",
    "- [ ] Faire une archive nommée avec mon nom-prénom contenant :\n",
    "  - [ ] Votre notebook\n",
    "    - [ ] L'option \"Run All\" fonctionne sans problème, Jupyter n'affiche aucune erreur\n",
    "  - [ ] Votre dataset (pas grave s'il est dans un sous-dossier)\n",
    "  - [ ] Le barème (fichier .ods)\n",
    "    - N'oubliez pas de renommer la cellule associée avec notre nom-prénom"
   ]
  }
 ],
 "metadata": {
  "interpreter": {
   "hash": "8ed06d07b9ff369db6ed7b53447be18709da67cd911d838d72fee7fecb26667a"
  },
  "kernelspec": {
   "display_name": "Python 3.10.0 64-bit",
   "name": "python3"
  },
  "language_info": {
   "name": "python",
   "version": ""
  }
 },
 "nbformat": 4,
 "nbformat_minor": 4
}
