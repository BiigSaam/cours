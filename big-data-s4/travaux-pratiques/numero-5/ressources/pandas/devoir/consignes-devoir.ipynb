{
 "cells": [
  {
   "cell_type": "markdown",
   "metadata": {},
   "source": [
    "# Devoir pandas\n",
    "\n",
    "Le but de ce devoir individuel est de d'analyser un dataset (sauf ceux qu'on a utilisés en TP) que vous aurez choisi, se poser **au minimum cinq questions pertinentes,** y répondre grâce à pandas (via DataFrame ou variables) et en tirer des conclusions.\n",
    "\n",
    "Vous trouverez un fichier \"gabarit.devoir.ipynb\" pour vous aider à démarrer votre devoir. **Il devra être remis avant la date butoir, la date vous sera transmise ultérieurement.**\n",
    "\n",
    "Si vous n'avez pas d'idées de DataFrame, une sélection a été faite par nos soins :\n",
    "- [Voir ensemble de datasets récoltés pour le cours](https://github.com/DanYellow/cours/tree/main/big-data-s4/datasets)\n",
    "  - Note : il y a un fichier .txt parfois, il explique les colonnes quand elles sont trop sibyllines. [Plus d'infos ici](https://raw.githubusercontent.com/DanYellow/cours/main/big-data-s4/datasets/__guide-datasets.txt)\n",
    "\n",
    "Pour télécharger les fichiers .csv ou .xlsx, il vous faudra cliquer sur le bouton \"Raw\" et ensuite faire `ctrl + s`.\n",
    "\n",
    "Si la sélection ne vous intéresse pas, vous pourrez en trouver ici :\n",
    "\n",
    "- [Voir site des données ouvertes du gouvernement](https://www.data.gouv.fr/)\n",
    "- [Voir site des données ouvertes de l'insee](https://www.insee.fr/fr/statistiques?categorie=1)\n",
    "- [Voir moteur de recherche de Google dédié aux datasets](https://datasetsearch.research.google.com/)\n",
    "- [Voir site des données ouvertes de l'éducation nationale](https://data.education.gouv.fr/)\n",
    "- [Voir ensemble de sites pour datasets](https://github.com/DanYellow/cours/blob/main/big-data-s4/datasets/_liste-sites-source-pour-datasets.txt)\n",
    "\n",
    "**Tous les datasets ne sont pas forcément au format .csv. Ils sont parfois au format .xlsx/.xls ou .json**. Il faudra donc utiliser les fonctions `pd.read_excel()` ([voir documentation](https://pandas.pydata.org/docs/reference/api/pandas.read_excel.html)) ou `pd.read_json()` ([voir documentation](https://pandas.pydata.org/docs/reference/api/pandas.read_json.html)) respectivement.\n",
    "\n",
    "**Vous ne devez pas utiliser un dataset sur la COVID ou le titanic pour ce devoir, il est vu et revu.** Prenez un sujet qui vous parle , vous pourriez être suppris en explorant un dataset concernant ce sujet."
   ]
  },
  {
   "cell_type": "markdown",
   "metadata": {},
   "source": [
    "## Rendu attendus\n",
    "\n",
    "- Une **archive** nommée nom-prénom contenant :\n",
    "  - Votre notebook \n",
    "  - Votre dataset\n",
    "  - Le barème\n",
    "\n",
    "# Votre liste à faire\n",
    "- [x] Lire les consignes\n",
    "- [ ] Lire le barème de notation\n",
    "- [ ] Trouver un jeu de données pertinent\n",
    "- [ ] Explorer le jeu de données\n",
    "- [ ] Trouver des questions (minimum 5) **pertinentes** \n",
    "- [ ] Filtrer le jeu de données pour répondre à vos questions\n",
    "- [ ] Rédiger les conclusions\n",
    "- [ ] Faire une archive nommée avec votre nom-prénom contenant :\n",
    "  - [ ] Votre notebook\n",
    "    - [ ] L'option \"Run All\" fonctionne sans problème, Jupyter n'affiche aucune erreur\n",
    "  - [ ] Votre dataset\n",
    "  - [ ] Le barème (fichier .ods)\n",
    "    - N'oubliez pas de renommer la cellule associée avec notre nom-prénom\n",
    "\n",
    "**Des points seront enlevés si l'archive est mal-nommée ou que je dois débugger votre notebook pour qu'il fonctionne.**"
   ]
  }
 ],
 "metadata": {
  "interpreter": {
   "hash": "8ed06d07b9ff369db6ed7b53447be18709da67cd911d838d72fee7fecb26667a"
  },
  "kernelspec": {
   "display_name": "Python 3.10.0 64-bit",
   "name": "python3"
  },
  "language_info": {
   "name": "python",
   "version": ""
  }
 },
 "nbformat": 4,
 "nbformat_minor": 4
}
