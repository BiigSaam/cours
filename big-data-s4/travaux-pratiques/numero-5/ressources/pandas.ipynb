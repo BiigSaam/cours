{
 "cells": [
  {
   "cell_type": "markdown",
   "metadata": {},
   "source": [
    "# pandas\n",
    "\n",
    "![](https://pandas.pydata.org/docs/_static/pandas.svg)\n",
    "\n",
    "Le big data, c'est beaucoup, beaucoup de données. On a vu précédemment que numpy était très bien adapté pour la gestion de gros volume de données, mais il y a un hic : numpy ne sait pas gérer les données non-labellisées, en Big Data, nous devons utiliser des données labellisées. \n",
    "C'est ici qu'entre en jeu pandas, la biblothèque (native à jupyter) est un parent proche de numpy, ainsi tout ce qu'on a vu sur numpy (notamment les filtres) s'appliquera avec pandas, et ce, avec la même syntaxe.\n",
    "\n",
    "Avec pandas, on va manipuler des DataFrame, c'est l'objet qui se trouve au coeur de la bibliothèque. Le Dataframe est un tableau où les colonnes sont labellisées, graphiquement ça ressemble à ceci.\n",
    "![](_images/dataframe.jpg)\n",
    "Ceci est un dataframe \"graphique\", ça ressemble beaucoup aux données d'un tableur.\n",
    "\n",
    "Par ailleurs chaque colonne représentent un objet pandas appelé Series. Dans l'image ci-dessus, il y a donc trois Series.\n",
    "\n",
    "pandas est déjà présent dans jupyter, il faut juste l'importer `import pandas as pd`.\n",
    "\n",
    "[Voir documentation de pandas](https://pandas.pydata.org)"
   ]
  },
  {
   "cell_type": "code",
   "execution_count": 7,
   "metadata": {},
   "outputs": [
    {
     "name": "stdout",
     "output_type": "stream",
     "text": [
      "marque     BMW\n",
      "gamme     luxe\n",
      "Name: 0, dtype: object\n"
     ]
    }
   ],
   "source": [
    "import pandas as pd\n",
    "\n",
    "dictionnaire = {\n",
    "  'marque': [\"BMW\", \"Volvo\", \"Ford\"],\n",
    "  'gamme': [\"luxe\", \"haut de gamme\", \"moyen\"]\n",
    "}\n",
    "\n",
    "mon_dataframe = pd.DataFrame(dictionnaire)\n",
    "\n",
    "# Pour retourner la première valeur d'un DataFrame, autrement dit la première ligne du tableau, il faut écrire la chose suivante :\n",
    "print(mon_dataframe.iloc[0]) # iloc signifie index location."
   ]
  },
  {
   "cell_type": "markdown",
   "metadata": {},
   "source": [
    "Dans notre dataframe, il est également possible "
   ]
  }
 ],
 "metadata": {
  "kernelspec": {
   "display_name": "Python 3",
   "language": "python",
   "name": "python3"
  },
  "language_info": {
   "codemirror_mode": {
    "name": "ipython",
    "version": 3
   },
   "file_extension": ".py",
   "mimetype": "text/x-python",
   "name": "python",
   "nbconvert_exporter": "python",
   "pygments_lexer": "ipython3",
   "version": "3.8.5"
  }
 },
 "nbformat": 4,
 "nbformat_minor": 4
}
