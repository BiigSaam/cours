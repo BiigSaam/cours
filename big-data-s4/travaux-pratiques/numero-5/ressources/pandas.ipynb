{
 "cells": [
  {
   "cell_type": "markdown",
   "metadata": {},
   "source": [
    "# pandas\n",
    "\n",
    "![](https://pandas.pydata.org/docs/_static/pandas.svg)\n",
    "\n",
    "Le big data, c'est beaucoup, beaucoup de données. On a vu précédemment que numpy était très bien adapté pour la gestion de gros volume de données, mais il y a un hic : numpy ne sait pas gérer les données non-labellisées, en Big Data, nous devons utiliser des données labellisées. \n",
    "C'est ici qu'entre en jeu pandas, la biblothèque (native à jupyter) est un parent proche de numpy, ainsi tout ce qu'on a vu sur numpy (notamment les filtres) s'appliquera avec pandas, et ce, avec la même syntaxe.\n",
    "\n",
    "Avec pandas, on va manipuler des DataFrame, c'est l'objet qui se trouve au coeur de la bibliothèque. Le Dataframe est un tableau où les colonnes sont labellisées, graphiquement ça ressemble à ceci.\n",
    "![](_images/dataframe-intro.jpg)\n",
    "Ceci est un dataframe \"graphique\", ça ressemble beaucoup aux données d'un tableur.\n",
    "\n",
    "Par ailleurs chaque colonne représentent un objet pandas appelé Series. Dans l'image ci-dessus, il y a donc trois Series.\n",
    "\n",
    "pandas est déjà présent dans jupyter, il faut juste l'importer `import pandas as pd`.\n",
    "\n",
    "[Voir documentation de pandas](https://pandas.pydata.org)"
   ]
  },
  {
   "cell_type": "code",
   "execution_count": 63,
   "metadata": {
    "scrolled": true
   },
   "outputs": [
    {
     "name": "stdout",
     "output_type": "stream",
     "text": [
      "marque          BMW\n",
      "gamme          luxe\n",
      "vitesse_max     210\n",
      "nbre_sieges       5\n",
      "longueur       3000\n",
      "Name: 0, dtype: object\n"
     ]
    }
   ],
   "source": [
    "import pandas as pd\n",
    "\n",
    "dictionnaire = {\n",
    "    'marque': [\"BMW\", \"Volvo\", \"Ford\", \"Citroen\"],\n",
    "    'gamme': [\"luxe\", \"haut de gamme\", \"compacte\", \"citadine\"],\n",
    "    'vitesse_max': [210, 160, 120, 130],\n",
    "    'nbre_sieges': [5, 7, 4, 5],\n",
    "    'longueur': [3000, 2750, 2000, 2500]\n",
    "}\n",
    "\n",
    "mon_df = pd.DataFrame(dictionnaire)\n",
    "\n",
    "# Pour retourner la première valeur d'un DataFrame, autrement dit la première ligne du tableau, il faut écrire la chose suivante :\n",
    "print(mon_df.iloc[0]) # iloc signifie index location."
   ]
  },
  {
   "cell_type": "markdown",
   "metadata": {},
   "source": [
    "Dans notre dataframe, il est également possible de libelliser nos lignes en définissant un index pour chacune d'elle. Il y a deux façons de procéder."
   ]
  },
  {
   "cell_type": "code",
   "execution_count": 64,
   "metadata": {},
   "outputs": [
    {
     "data": {
      "text/plain": [
       "marque          BMW\n",
       "gamme          luxe\n",
       "vitesse_max     210\n",
       "nbre_sieges       5\n",
       "longueur       3000\n",
       "Name: AMG, dtype: object"
      ]
     },
     "execution_count": 64,
     "metadata": {},
     "output_type": "execute_result"
    }
   ],
   "source": [
    "# On peut définir nos indexes à la création de notre dataframe grâce à la propriété \"index\"\n",
    "mon_df = pd.DataFrame(dictionnaire, index=[\"AMG\", \"XC60\", \"Ka\", \"Cactus\"])\n",
    "# Ici on a défini que la première ligne à l'index \"AMG\", la seconde \"XC60\"...\n",
    "\n",
    "# Une fois fait, on peut écrire ceci\n",
    "mon_df.loc['AMG'] # On affichera le même résultat qu'en haut."
   ]
  },
  {
   "cell_type": "code",
   "execution_count": 65,
   "metadata": {},
   "outputs": [
    {
     "data": {
      "text/plain": [
       "marque          BMW\n",
       "gamme          luxe\n",
       "vitesse_max     210\n",
       "nbre_sieges       5\n",
       "longueur       3000\n",
       "Name: AMG, dtype: object"
      ]
     },
     "execution_count": 65,
     "metadata": {},
     "output_type": "execute_result"
    }
   ],
   "source": [
    "mon_df_ex2 = pd.DataFrame(dictionnaire)\n",
    "\n",
    "# L'autre méthode consiste à rajouter une nouvelle colonne (Serie) avec les valeurs que nous souhaitons\n",
    "mon_df_ex2['modele'] = [\"AMG\", \"XC60\", \"Ka\", \"Cactus\"]\n",
    "\n",
    "# et de transformer cette nouvelle colonne en index\n",
    "# ATTENTION \"set_index\" retourne un nouveau dataframe, mon_dataframe_ex2 n'a pas l'index \"modele\"\n",
    "mon_df_indexe = mon_df_ex2.set_index('modele') \n",
    "\n",
    "mon_df_indexe.loc['AMG'] # On affichera le même résultat qu'en haut."
   ]
  },
  {
   "cell_type": "markdown",
   "metadata": {},
   "source": [
    "La gestion des index aura son importance pour la gestion des graphiques. Il est possible d'annuler l'index avec la méthode `set_index()`. Avant de passer aux filtres voilà à quoi ressemble notre dataframe graphiquement.\n",
    "\n",
    "![](_images/dataframe.jpg)"
   ]
  },
  {
   "cell_type": "markdown",
   "metadata": {},
   "source": [
    "# Filtres\n",
    "\n",
    "La puissance des filtres de numpy est également utilisable avec les dataframes (et les Series), les filtres sont très utiles pour nettoyer les données ou sélectionner les données qui nous intéresse. On a vu plus haut qu'on pouvait utiliser la clé d'un index avec la propriété \".loc\". Il faut savoir qu'il est possible de récupérer plusieurs lignes en même temps. \n",
    "\n",
    "#### Exemples :\n",
    "\n",
    "###### On retourne les lignes 'AMG' et 'XC60'\n",
    "```python\n",
    "df.loc[['AMG', 'XC60']] # Notez bien les deux paires de crochets\n",
    "\n",
    "# Autre syntaxe\n",
    "df.loc['AMG':'XC60']\n",
    "```\n",
    "\n",
    "###### On retourne une ligne avec des colonnes spécifiques\n",
    "```python\n",
    "# On retourne la valeur des clés \"marque\" et \"gamme\" pour la colonne ayant le nom \"AMG\"\n",
    "df.loc['AMG', ['marque', 'gamme']]\n",
    "# Il est possible de rajouter la propriété \".values\" pour avoir des données plus claires\n",
    "```\n",
    "\n",
    "Comme vu précédemment avec numpy, il est également possible sur les dataframes d'appliquer des conditions pour filtrer les données. Exemple :\n",
    "```python\n",
    "# On retourne les véhicules dont la clé vitesse max est supérieure à 130 et dont les séries sont \"gamme\" et \"vitesse\" avec comme index \"modele\"\n",
    "df.loc[df['vitesse_max'] > 130, ['gamme', 'vitesse_max']]\n",
    "```"
   ]
  },
  {
   "cell_type": "markdown",
   "metadata": {},
   "source": [
    "# A vous de coder\n",
    "\n",
    "Définir des dataframes correspondant aux critères suivants (une ligne, un dataframe) :\n",
    "- Contient tous les véhicules dont la longueur est supérieure à 1000\n",
    "- Contient tous les véhicules dont la vitesse max est inférieure ou égale à 160\n",
    "- Contient tous les véhicules dont le nombre de sièges est strictement supérieur à 5 et dont la longueur est inférieure à 2 000\n",
    "- Contient uniquement les Series \"marque\" et \"longueur\" et tous les véhicules de la gamme \"compacte\"\n",
    "- Contient tous les véhicules avec une nouvelle Serie (colonne) appelée \"permis\" et comme valeur \"B\"\n",
    "\n",
    "Note : La cellule d'en-dessous est là pour vous aider, toutes les valeurs sont présentent au bon endroit."
   ]
  },
  {
   "cell_type": "code",
   "execution_count": 78,
   "metadata": {},
   "outputs": [],
   "source": [
    "exo_dict = {\n",
    "    \"modele\": [\"AMG\", \"XC60\", \"Ka\", \"Cactus\"],\n",
    "    'marque': [\"BMW\", \"Volvo\", \"Ford\", \"Citroen\"],\n",
    "    'gamme': [\"luxe\", \"haut de gamme\", \"compacte\", \"citadine\"],\n",
    "    'vitesse_max': [210, 160, 120, 130],\n",
    "    'nbre_sieges': [5, 7, 4, 5],\n",
    "    'longueur': [3000, 2750, 2000, 2500]\n",
    "}\n",
    "\n",
    "exo_df = pd.DataFrame(exo_dict)"
   ]
  },
  {
   "cell_type": "code",
   "execution_count": null,
   "metadata": {},
   "outputs": [],
   "source": []
  }
 ],
 "metadata": {
  "kernelspec": {
   "display_name": "Python 3",
   "language": "python",
   "name": "python3"
  },
  "language_info": {
   "codemirror_mode": {
    "name": "ipython",
    "version": 3
   },
   "file_extension": ".py",
   "mimetype": "text/x-python",
   "name": "python",
   "nbconvert_exporter": "python",
   "pygments_lexer": "ipython3",
   "version": "3.8.5"
  }
 },
 "nbformat": 4,
 "nbformat_minor": 4
}
