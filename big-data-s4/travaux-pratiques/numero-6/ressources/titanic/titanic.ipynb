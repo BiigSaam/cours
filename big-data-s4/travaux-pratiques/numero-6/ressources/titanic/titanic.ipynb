{
 "cells": [
  {
   "cell_type": "markdown",
   "metadata": {},
   "source": [
    "# Titanic\n",
    "\n",
    "Le RMS Titanic est un paquebot transatlantique britannique qui fait naufrage dans l'océan Atlantique Nord en 1912 à la suite d'une collision avec un iceberg, lors de son voyage inaugural de Southampton à New York. Entre 1 490 et 1 520 personnes trouvent la mort, ce qui fait de cet événement l'une des plus grandes catastrophes maritimes survenues en temps de paix et la plus grande pour l'époque.\n",
    "- [source wikipedia](https://fr.wikipedia.org/wiki/Titanic)\n",
    "\n",
    "Le jeu de données (ou dataset) du Titanic est un peu le hello world pour l'apprentissage supervisé, le but est de trouver si les personnes présentent dans le fichier de données non-labellisées (test_data.csv) auraient survécu ou non lors du nauvrage de \"l'insubmersible\".\n",
    "Le résultat étant représenté par une donnée discrète (Survie ou non), nous allons utiliser un algorithme de classification :\n",
    "- L'arbre décisionnel (Decision Tree)\n",
    "- Forêt d'arbres décisionnels (Random Forest)\n",
    "- Régression Logistique (Logistic Regression)\n",
    "\n",
    "Il n'y pas de méthodes meilleure qu'une autre, disons plutôt qu'il y en a une plus adaptée qu'une autre."
   ]
  },
  {
   "cell_type": "markdown",
   "metadata": {},
   "source": [
    "# L'arbre décisionnel (Decision Tree)\n",
    "\n",
    "Le principe de l'arbre de décision est très simple : on parcourt un ensemble de décisions et on parcourt l'arbre jusqu'à arriver à la solution.\n",
    "![schéma arbre décisionnel](../_images/decision-tree.png)\n",
    "Voici un exemple d'arbre décisionnel concernant le jeu de données du Titanic. Vous remarquerez qu'un arbre de décision est très facile à lire, même sans avoir de connaissances en informatique / mathématiques.\n",
    "\n",
    "Grâce à l'algorithme d'arbre décisionnel, nous n'avons qu'à désigner les caractéristiques qui vont servir à prendre les décisions, le nombre de noeuds (\"questions\"), et le reste sera fait tout seul. L'algorithme cherchant à trouver les questions les plus pertinentes, pour arriver à la réponse finale, dans notre cas il s'agit de la survie d'un passager du Titanic. \n",
    "\n",
    "Le problème de cette méthode, c'est quelle est très instable concernant les résultats, étant donné qu'il n'y a qu'un seul et unique test, un arbre parcouru autrement dit, notre modèle peut être fortement soumis au surapprentissage (overfitting). Ce qui fait que lors de la phase de test sur données non-labellisées, le résultat sera aléatoire. Et en ML, on essaye le plus possible de limiter la variance des résultats. C'est là qu'entre en jeu l'algorithme de forêt d'arbre décisionnels (Random Forest)."
   ]
  },
  {
   "cell_type": "markdown",
   "metadata": {},
   "source": [
    "# Forêt d'arbres décisionnels (Random Forest)\n",
    "\n",
    "L'algorithme de forêt d'arbres décisionnels reprend le même principe que l'algorithme d'arbre décisionnel à la différence prêt que la forêt d'arbres décisionnels va multiplier le nombre d'arbres, ceci limite donc les risques de surapprentissage. On en déduit donc que plus il y a d'arbres dans notre forêt, moins notre modèle sera soumis au surentraînement. Néanmoins, effectuer un million d'arbres n'a pas vraiment d'intérêt."
   ]
  },
  {
   "cell_type": "markdown",
   "metadata": {},
   "source": [
    "# Pour les utilisateurs de Google colab\n",
    "\n",
    "Petit apparté pour les utilisateurs de google colab. Pour utiliser la méthode `pd.read_csv()`, il faudra rajouter quelques lignes de codes supplémentaires pour pouvoir charger un fichier, les voici.\n",
    "\n",
    "\n",
    "```python\n",
    "# Première cellule jupyter\n",
    "from google.colab import files\n",
    "uploaded = files.upload()\n",
    "```\n",
    "\n",
    "```python\n",
    "# Seconde cellule jupyter\n",
    "import io\n",
    "# Très important : le nom du fichier passé en paramètre de la fonction \"uploaded\" doit avoir le même nom que le fichier que vous avez uploadé\n",
    "df = pd.read_csv(io.BytesIO(uploaded['nom-du-fichier-uploader.csv']))\n",
    "```\n",
    "\n",
    "- [Voir plus  d'informations sur le chargement de fichiers externes avec Google colab](https://towardsdatascience.com/3-ways-to-load-csv-files-into-colab-7c14fcbdcb92)"
   ]
  },
  {
   "cell_type": "markdown",
   "metadata": {},
   "source": [
    "# Charger des fichiers distants (depuis un serveur)\n",
    "\n",
    "La classe `request` de Python permet d'effectuer des requêtes serveur, on peut l'utiliser de la façon suivante pour charger un fichier distant.\n",
    "\n",
    "```python\n",
    "request.urlretrieve (\"lien-du-fichier\", \"reference-locale-du-fichier\")\n",
    "df = pd.read_csv(\"reference-locale-du-fichier\")\n",
    "```"
   ]
  },
  {
   "cell_type": "code",
   "execution_count": null,
   "metadata": {},
   "outputs": [],
   "source": [
    "PassengerId : Identifiant unique du passager\n",
    "Survived : 0 = Décès, 1 = En vie\n",
    "Pclass : La classe de voyage (1 = 1ere classe, 2 = 2ème classe, 3 = 3ème classe)\n",
    "Name : Le nom du passager\n",
    "Sex : Le sexe du passager\n",
    "Age : L’age du passager\n",
    "SibSp : Le nombre de frères et soeurs ou époux / épouses à bord\n",
    "Parch : Le nombre de parents ou enfants à bord\n",
    "Ticket : Le numéro du billet de voyage\n",
    "Fare : Le prix du billet de voyage\n",
    "Cabin : Le numéro de la cabine\n",
    "Embarked : Lieu d’embarquement du passager (C = Cherbourg, S = Southampton, Q = Queenstown)"
   ]
  },
  {
   "cell_type": "code",
   "execution_count": 28,
   "metadata": {},
   "outputs": [
    {
     "data": {
      "text/plain": [
       "array([15, 20, 60])"
      ]
     },
     "metadata": {},
     "output_type": "display_data"
    },
    {
     "data": {
      "text/plain": [
       "array([[15],\n",
       "       [20],\n",
       "       [60]])"
      ]
     },
     "metadata": {},
     "output_type": "display_data"
    },
    {
     "name": "stdout",
     "output_type": "stream",
     "text": [
      "[454.15844092]\n",
      "-40.78364909586048\n"
     ]
    },
    {
     "data": {
      "text/plain": [
       "numpy.ndarray"
      ]
     },
     "metadata": {},
     "output_type": "display_data"
    },
    {
     "data": {
      "image/png": "[encoded data removed]",
      "text/plain": [
       "<Figure size 432x288 with 1 Axes>"
      ]
     },
     "metadata": {},
     "output_type": "display_data"
    },
    {
     "data": {
      "text/plain": [
       "array([[0.032],\n",
       "       [1.5  ],\n",
       "       [2.   ],\n",
       "       [0.6  ]])"
      ]
     },
     "metadata": {},
     "output_type": "display_data"
    },
    {
     "data": {
      "text/plain": [
       "array([-26.25057899, 640.45401229, 867.53323275, 231.71141546])"
      ]
     },
     "metadata": {},
     "output_type": "display_data"
    },
    {
     "data": {
      "text/html": [
       "<div>\n",
       "<style scoped>\n",
       "    .dataframe tbody tr th:only-of-type {\n",
       "        vertical-align: middle;\n",
       "    }\n",
       "\n",
       "    .dataframe tbody tr th {\n",
       "        vertical-align: top;\n",
       "    }\n",
       "\n",
       "    .dataframe thead th {\n",
       "        text-align: right;\n",
       "    }\n",
       "</style>\n",
       "<table border=\"1\" class=\"dataframe\">\n",
       "  <thead>\n",
       "    <tr style=\"text-align: right;\">\n",
       "      <th></th>\n",
       "      <th>Actual</th>\n",
       "      <th>Predicted</th>\n",
       "    </tr>\n",
       "  </thead>\n",
       "  <tbody>\n",
       "    <tr>\n",
       "      <th>0</th>\n",
       "      <td>0.032</td>\n",
       "      <td>-26.250579</td>\n",
       "    </tr>\n",
       "    <tr>\n",
       "      <th>1</th>\n",
       "      <td>1.500</td>\n",
       "      <td>640.454012</td>\n",
       "    </tr>\n",
       "    <tr>\n",
       "      <th>2</th>\n",
       "      <td>2.000</td>\n",
       "      <td>867.533233</td>\n",
       "    </tr>\n",
       "    <tr>\n",
       "      <th>3</th>\n",
       "      <td>0.600</td>\n",
       "      <td>231.711415</td>\n",
       "    </tr>\n",
       "  </tbody>\n",
       "</table>\n",
       "</div>"
      ],
      "text/plain": [
       "   Actual   Predicted\n",
       "0   0.032  -26.250579\n",
       "1   1.500  640.454012\n",
       "2   2.000  867.533233\n",
       "3   0.600  231.711415"
      ]
     },
     "execution_count": 28,
     "metadata": {},
     "output_type": "execute_result"
    }
   ],
   "source": [
    "from urllib import request\n",
    "import pandas as pd\n",
    "import numpy as np\n",
    "import matplotlib.pyplot as plt\n",
    "import seaborn as sns\n",
    "sns.set()\n",
    "\n",
    "\n",
    "request.urlretrieve (\"https://s3-eu-west-1.amazonaws.com/static.oc-static.com/prod/courses/files/Parcours_data_scientist/decouvrez-les-librairies-python-pour-la-data-science/hubble_data.csv\", \"be.csv\")\n",
    "hubble = pd.read_csv(\"ble.csv\")\n",
    "\n",
    "from sklearn.linear_model import LinearRegression\n",
    "\n",
    "X = hubble.distance.values.reshape(-1,1)\n",
    "Y = hubble.recession_velocity\n",
    "lr = LinearRegression()\n",
    "lr.fit(X, Y)\n",
    "\n",
    "Y_test = np.array([.032, 1.5, 2.0, .6]).reshape(-1, 1)\n",
    "y_predict = lr.predict(Y_test)\n",
    "\n",
    "display(np.array([15, 20, 60]))\n",
    "display(np.array([15, 20, 60]).reshape(-1, 1))\n",
    "\n",
    "print(lr.coef_) # a de ax + b\n",
    "print(lr.intercept_) # b de ax +b \n",
    "\n",
    "display(type(Y_test))\n",
    "LinearRegression(copy_X=True, fit_intercept=True, n_jobs=None, normalize=False)\n",
    "\n",
    "\n",
    "\n",
    "BIGGER_SIZE = 15\n",
    "plt.rc('font', size=BIGGER_SIZE) # taille de texte par défaut\n",
    "plt.rc('axes', titlesize=BIGGER_SIZE) # taille des titres des axes\n",
    "plt.rc('axes', labelsize=BIGGER_SIZE) # taille des labels des axes\n",
    "plt.rc('xtick', labelsize=BIGGER_SIZE) # taille des ticks des ascisses\n",
    "\n",
    "plt.rc('ytick', labelsize=BIGGER_SIZE) # taille des ticks des ordonnées\n",
    "plt.rc('legend', fontsize=BIGGER_SIZE) # taille de la légende\n",
    "plt.rc('figure', titlesize=BIGGER_SIZE) # taille du titre\n",
    "plt.figure()\n",
    "plt.title(\"Données de Hubble\")\n",
    "plt.scatter(X, Y, color='black', label=\"données\")\n",
    "plt.plot(X, lr.predict(X), color='red', linewidth=3, label=\"prédiction\")\n",
    "plt.xlabel(\"Distance\")\n",
    "plt.ylabel(\"Vitesse de récession\")\n",
    "plt.legend()\n",
    "plt.show()\n",
    "\n",
    "display(Y_test)\n",
    "display(y_predict)\n",
    "df = pd.DataFrame({'Actual': Y_test.flatten(), 'Predicted': y_predict})\n",
    "df\n",
    "\n",
    "#pd.DataFrame({\n",
    " #   \"Feature\":hubble.columns.tolist(), \"Coefficients\" :lr.coef_[0]\n",
    "#})\n"
   ]
  }
 ],
 "metadata": {
  "kernelspec": {
   "display_name": "Python 3",
   "language": "python",
   "name": "python3"
  },
  "language_info": {
   "codemirror_mode": {
    "name": "ipython",
    "version": 3
   },
   "file_extension": ".py",
   "mimetype": "text/x-python",
   "name": "python",
   "nbconvert_exporter": "python",
   "pygments_lexer": "ipython3",
   "version": "3.8.5"
  }
 },
 "nbformat": 4,
 "nbformat_minor": 4
}
